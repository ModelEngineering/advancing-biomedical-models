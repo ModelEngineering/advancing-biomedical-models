{
 "cells": [
  {
   "cell_type": "markdown",
   "id": "661c83a5-89dc-4ba1-b8f6-29b907a88e2a",
   "metadata": {},
   "source": [
    "# CREATING REUSABLE SOFTWARE"
   ]
  },
  {
   "cell_type": "markdown",
   "id": "8a85f831-21df-4926-a869-d6ab315d16d8",
   "metadata": {},
   "source": [
    "This notebook describes the requirements for programming assignments in BIOE 437/537.\n",
    "These requirements are motivated by software industry best practices for creating\n",
    "software that uses can use and extend."
   ]
  },
  {
   "cell_type": "markdown",
   "id": "bef91278-5d5d-4d23-84d1-91406ba8adfb",
   "metadata": {},
   "source": [
    "# Required Best Practices"
   ]
  },
  {
   "cell_type": "markdown",
   "id": "565ee575-750f-495e-ae26-a5dc91a6c8db",
   "metadata": {},
   "source": [
    "## Use functions instead of scripts\n",
    "Whenever possible, use functions instead of scripts. This is because functions facilitate reuse, and functions are testable. Never use copy and paste for reuse.\n",
    "\n",
    "## Names of variables and functions\n",
    "Use meaningful names for functions are variables. Function names should be verbs. For example, a function that calculates a fast Fourier transform might be named calcFFT. A bad name for this function would be the single letter f.\n",
    "\n",
    "## Use named constants\n",
    "Constants used in the notebook should have a name in all capital letters. For example, use PI, not pi. (By definition, a constant is a variable that is assigned a value only once.)\n",
    "\n",
    "## Functions\n",
    "1. **Each functions should be in a separate code cell.**\n",
    "1. **Functions must be documented.** A function should contain documentation that specifies: (a) what it does; (b) data types and semantics of its input parameters; (c) data type and semantics of what it returns.\n",
    "1. **Functions must have tests.** The code cell in which a function resides should contain an \"assert\" statement that runs the function and performs a test on its output."
   ]
  }
 ],
 "metadata": {
  "kernelspec": {
   "display_name": "Python 3",
   "language": "python",
   "name": "python3"
  },
  "language_info": {
   "codemirror_mode": {
    "name": "ipython",
    "version": 3
   },
   "file_extension": ".py",
   "mimetype": "text/x-python",
   "name": "python",
   "nbconvert_exporter": "python",
   "pygments_lexer": "ipython3",
   "version": "3.6.4"
  }
 },
 "nbformat": 4,
 "nbformat_minor": 5
}
