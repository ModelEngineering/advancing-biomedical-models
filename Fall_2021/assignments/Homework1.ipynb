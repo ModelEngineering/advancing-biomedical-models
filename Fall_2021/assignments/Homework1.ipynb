{
 "cells": [
  {
   "cell_type": "markdown",
   "metadata": {
    "id": "oPDyF3rsao2Y"
   },
   "source": [
    "<span style=\"font-family:Papyrus; font-size:3em;\">Homework 1</span>\n",
    "\n",
    "<span style=\"font-family:Papyrus; font-size:2em;\">Design of Experiments for Parameter Interactions</span>"
   ]
  },
  {
   "cell_type": "markdown",
   "metadata": {
    "id": "EpjVLVdzao2d"
   },
   "source": [
    "# Problem"
   ]
  },
  {
   "cell_type": "markdown",
   "metadata": {
    "id": "vhzfNHG4ao2e"
   },
   "source": [
    "This homework is an elaboration of the analysis of lecture 6 on computational experiments using a two factor at a time design.\n",
    "\n",
    "1. (6 pt) Revise the codes from lecture 6 (in common>util_doe6.py) to calcuate the interaction terms $\\gamma$\n",
    "in the model $y = \\mu + \\alpha_{1,i_1} + \\alpha_{2, i_2} + \\gamma_{1, 2, i_1, i_2}$.\n",
    "That is, calculate $y - \\mu - \\alpha_{1,i_1} - \\alpha_{2, i_2}$, where $y$ is calculated from\n",
    "``runExperimentTwoParameters`` in lecture 6 and the $\\alpha$ are calculated using\n",
    "``runExperiment`` from lecture 5.\n",
    "(Don't forget to include 1 or more tests for the new function.)\n",
    "\n",
    "1. (6 pt) Plot interactions for Glucose for the first 5 parameters: J0_inputFlux, J1_k1, J1_Ki, J1_n, J2_k\n",
    "for frequency and amplitude with changes between -10% and 10%.\n",
    "   Comment on whether the responses are *over* or *under* estimated if the response $y$ is\n",
    "   estimated using $y = \\mu + \\alpha_{1,i_1} + \\alpha_{2, i_2}$.\n",
    "\n",
    "1. (3 pt) What additional analyses should be done to understanding parameter interactions in this model?"
   ]
  },
  {
   "cell_type": "markdown",
   "metadata": {
    "id": "4eO9Fodfao2e"
   },
   "source": [
    "# Programming Preliminaries\n",
    "This section provides the setup to run your python codes."
   ]
  },
  {
   "cell_type": "code",
   "execution_count": 1,
   "metadata": {
    "colab": {
     "base_uri": "https://localhost:8080/",
     "height": 1000
    },
    "executionInfo": {
     "elapsed": 77687,
     "status": "ok",
     "timestamp": 1611089624612,
     "user": {
      "displayName": "Joseph Hellerstein",
      "photoUrl": "https://lh3.googleusercontent.com/a-/AOh14Ggr-yAwbfqFCOlFTHoKepUYJ9VjZuCGILW-YdHvUQ=s64",
      "userId": "07301174361489660166"
     },
     "user_tz": 480
    },
    "id": "N0f9HIvDao2e",
    "outputId": "11f303e2-5502-41a6-d874-e2645dc98639"
   },
   "outputs": [],
   "source": [
    "IS_COLAB = False\n",
    "#\n",
    "if IS_COLAB:\n",
    "  !pip install matplotlib\n",
    "  !pip install numpy\n",
    "  !pip install tellurium\n",
    "  !pip install SBstoat\n",
    "#    \n",
    "# Constants for standalone notebook\n",
    "if not IS_COLAB:\n",
    "    CODE_DIR = \"/home/ubuntu/advancing-biomedical-models/common\"\n",
    "else:\n",
    "    from google.colab import drive\n",
    "    drive.mount('/content/drive')\n",
    "    CODE_DIR = \"/content/drive/MyDrive/Modeling_Class/Winter 2021/common\"\n",
    "import sys\n",
    "sys.path.insert(0, CODE_DIR)"
   ]
  },
  {
   "cell_type": "code",
   "execution_count": 2,
   "metadata": {
    "id": "_FfQMwlnao2f"
   },
   "outputs": [],
   "source": [
    "import wolf_model as wm\n",
    "import util_doe1  # Various functions from lecture 5\n",
    "import util_doe2  # Various functions from lecture 6\n",
    "\n",
    "import matplotlib.pyplot as plt\n",
    "import matplotlib.gridspec as gridspec\n",
    "import numpy as np\n",
    "import pandas as pd\n",
    "from scipy import fftpack\n",
    "import tellurium as te\n",
    "import seaborn as sns"
   ]
  },
  {
   "cell_type": "markdown",
   "metadata": {
    "id": "D5Wd6irXao2f"
   },
   "source": [
    "# Calculate interaction terms ($\\gamma$)\n",
    "This section contains revised and/or new functions that calculate the interaction terms and plot the results.\n",
    "Hint: \n",
    "You can create this function by modifying ``runExperimentsTwoParameters`` used in lecture 6.\n",
    "You should proceed with:\n",
    "1. Create an internal function ``makeInteractionSer`` with parameters ``percent1`` and `percent2``. It returns\n",
    "the response ``Series`` when the parameters have the levels specified by these levels.\n",
    "1. Use ``makeInteractionSer`` to calculate the following within the internal function ``calcLevelResponseDF``:\n",
    "   1. ``only1Ser``: percent1 is the value passed to ``calcLevelResponseDF``, ``percent2`` is 0.\n",
    "   1. ``only2Ser``: percent2 is the value passed to ``calcLevelResponseDF``, ``percent1`` is 0.\n",
    "   1. ``bothSer``: uses the values passed to ``calcLevelResponseDF``\n",
    "   1. Calculate the interaction term $\\gamma$."
   ]
  },
  {
   "cell_type": "markdown",
   "metadata": {
    "id": "w530AYOxao2f"
   },
   "source": [
    "# Analyze the interactions."
   ]
  },
  {
   "cell_type": "markdown",
   "metadata": {
    "id": "eiPdhynoao2g"
   },
   "source": [
    "You want to use ``util_doe2.runStudy`` to analyze interactions, but you want it to use the version of ``runExperimentsTwoParameters`` that you constructed in the previous section.\n",
    "You can do this by taking advantage of the keyword argument ``func`` in ``runStudy``. You can see how to use this by looking at the tests at the bottom of the file ``util_doe2.py``."
   ]
  },
  {
   "cell_type": "markdown",
   "metadata": {
    "id": "WTbziGv-ao2g"
   },
   "source": [
    "# Additional analyses"
   ]
  },
  {
   "cell_type": "markdown",
   "metadata": {
    "id": "WhxO0P2Vao2g"
   },
   "source": [
    "Discuss addiional analyses that should be done and explain why you would do them."
   ]
  }
 ],
 "metadata": {
  "colab": {
   "name": "Homework1.ipynb",
   "provenance": [],
   "toc_visible": true
  },
  "kernelspec": {
   "display_name": "Python 3",
   "language": "python",
   "name": "python3"
  },
  "language_info": {
   "codemirror_mode": {
    "name": "ipython",
    "version": 3
   },
   "file_extension": ".py",
   "mimetype": "text/x-python",
   "name": "python",
   "nbconvert_exporter": "python",
   "pygments_lexer": "ipython3",
   "version": "3.6.9"
  }
 },
 "nbformat": 4,
 "nbformat_minor": 4
}
