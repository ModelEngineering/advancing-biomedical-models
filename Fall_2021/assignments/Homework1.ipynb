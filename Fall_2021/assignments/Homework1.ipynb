{
 "cells": [
  {
   "cell_type": "markdown",
   "metadata": {},
   "source": [
    "<span style=\"font-family:Papyrus; font-size:3em;\">Homework 1</span>\n",
    "\n",
    "<span style=\"font-family:Papyrus; font-size:2em;\">Design of Experiments for Parameter Interactions</span>"
   ]
  },
  {
   "cell_type": "markdown",
   "metadata": {},
   "source": [
    "# Problem"
   ]
  },
  {
   "cell_type": "markdown",
   "metadata": {},
   "source": [
    "This homework is an elaboration of the analysis of lecture 6 on computational experiments using a two factor at a time design.\n",
    "\n",
    "1. (10 pt) Revise the codes from lecture 6 (in common>util_doe6.py) to calcuate the interaction terms $\\gamma_{i,k_i, j, k_j}$\n",
    "in the model $y_{i, k_i, j, k_j} = \\mu + \\alpha_{i,k_i} + \\alpha_{j, k_j} + \\gamma_{i, k_i, j, k_j}$. One of your tests for the code is that the interaction term is 0 when there is a 0% change in both parameters. Some hints:\n",
    "    1. Use ``runExperimentTwoParameters`` in lecture 6 and calculate the $\\alpha$ using\n",
    "``runExperiment`` from lecture 5.\n",
    "    1. Remember that $\\alpha, \\gamma$ are *deviations* and so do not include the baseline values.\n",
    "\n",
    "1. (5 pt) Plot interactions for Glucose for the first 5 parameters: J0_inputFlux, J1_k1, J1_Ki, J1_n, J2_k\n",
    "for frequency and amplitude with changes between -10% and 10%.\n",
    "   Comment on whether the responses are *over* or *under* estimated if the response $y$ is\n",
    "   estimated using $y = \\mu + \\alpha_{1,i_1} + \\alpha_{2, i_2}$.\n",
    "   \n",
    "1. (3 pts) Consider a design with 16 factors and 7 levels (including the baseline).\n",
    "How many experiments are there for a 1WD? 2WD? 10WD?"
   ]
  },
  {
   "cell_type": "markdown",
   "metadata": {},
   "source": [
    "# Programming Preliminaries\n",
    "This section provides the setup to run your python codes."
   ]
  },
  {
   "cell_type": "code",
   "execution_count": 1,
   "metadata": {},
   "outputs": [],
   "source": [
    "IS_COLAB = False\n",
    "#\n",
    "if IS_COLAB:\n",
    "  !pip install matplotlib\n",
    "  !pip install numpy\n",
    "  !pip install tellurium\n",
    "  !pip install SBstoat\n",
    "#    \n",
    "# Constants for standalone notebook\n",
    "if not IS_COLAB:\n",
    "    CODE_DIR = \"/home/ubuntu/advancing-biomedical-models/common\"\n",
    "else:\n",
    "    from google.colab import drive\n",
    "    drive.mount('/content/drive')\n",
    "    CODE_DIR = \"/content/drive/My Drive/Winter 2021/common\"\n",
    "import sys\n",
    "sys.path.insert(0, CODE_DIR)"
   ]
  },
  {
   "cell_type": "code",
   "execution_count": 2,
   "metadata": {},
   "outputs": [],
   "source": [
    "import wolf_model as wm\n",
    "import util\n",
    "import util_doe1  # Various functions from lecture 5\n",
    "import util_doe2  # Various functions from lecture 6\n",
    "\n",
    "import matplotlib.pyplot as plt\n",
    "import matplotlib.gridspec as gridspec\n",
    "import numpy as np\n",
    "import pandas as pd\n",
    "from scipy import fftpack\n",
    "import tellurium as te\n",
    "import seaborn as sns"
   ]
  },
  {
   "cell_type": "markdown",
   "metadata": {},
   "source": [
    "# Calculate interaction terms ($\\gamma$)\n",
    "This section contains revised and/or new functions that calculate the interaction terms and plot the results.\n",
    "You can create this function by modifying ``runExperimentsTwoParameters`` used in lecture 6.\n",
    "You should proceed with:\n",
    "1. Create an internal function ``makeInteractionSer`` with parameters ``percent1`` and `percent2``. It returns\n",
    "the response ``Series`` when the parameters have the levels specified by these levels.\n",
    "1. Use ``makeInteractionSer`` to calculate the following within the internal function ``calcLevelResponseDF``:\n",
    "   1. ``only1Ser``: percent1 is the value passed to ``calcLevelResponseDF``, ``percent2`` is 0.\n",
    "   1. ``only2Ser``: percent2 is the value passed to ``calcLevelResponseDF``, ``percent1`` is 0.\n",
    "   1. ``bothSer``: uses the values passed to ``calcLevelResponseDF``\n",
    "   1. Calculate the interaction term $\\gamma$."
   ]
  },
  {
   "cell_type": "markdown",
   "metadata": {},
   "source": [
    "# Analyze the interactions."
   ]
  },
  {
   "cell_type": "markdown",
   "metadata": {},
   "source": [
    "You want to use ``util_doe2.runStudy`` to analyze interactions, but you want it to use the version of ``runExperimentsTwoParameters`` that you constructed in the previous section.\n",
    "You can do this by taking advantage of the keyword argument ``func`` in ``runStudy``. You can see how to use this by looking at the tests at the bottom of the file ``util_doe2.py``."
   ]
  },
  {
   "cell_type": "markdown",
   "metadata": {},
   "source": [
    "# Calculating the number of experiments"
   ]
  }
 ],
 "metadata": {
  "kernelspec": {
   "display_name": "Python 3",
   "language": "python",
   "name": "python3"
  },
  "language_info": {
   "codemirror_mode": {
    "name": "ipython",
    "version": 3
   },
   "file_extension": ".py",
   "mimetype": "text/x-python",
   "name": "python",
   "nbconvert_exporter": "python",
   "pygments_lexer": "ipython3",
   "version": "3.6.9"
  }
 },
 "nbformat": 4,
 "nbformat_minor": 4
}
