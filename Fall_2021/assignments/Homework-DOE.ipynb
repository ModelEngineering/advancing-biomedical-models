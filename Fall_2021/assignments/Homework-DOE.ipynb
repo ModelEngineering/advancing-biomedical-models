{
 "cells": [
  {
   "cell_type": "markdown",
   "metadata": {
    "tags": []
   },
   "source": [
    "# HOMEWORK 2: DESIGN OF EXPERIMENTS"
   ]
  },
  {
   "cell_type": "markdown",
   "metadata": {},
   "source": [
    "**COPY THIS FILE TO YOUR STUDENT FOLDER BEFORE YOU BEGIN**"
   ]
  },
  {
   "cell_type": "markdown",
   "metadata": {},
   "source": [
    "# Wolf Model"
   ]
  },
  {
   "cell_type": "code",
   "execution_count": 26,
   "metadata": {},
   "outputs": [],
   "source": [
    "'''Codes and Constants for the Wolf Model'''\n",
    "\n",
    "\n",
    "################## CONSTANTS #############################\n",
    "WOLF_MODEL = \"\"\"\n",
    "// Created by libAntimony v2.12.0\n",
    "model *Jana_WolfGlycolysis()\n",
    "\n",
    "  // Compartments and Species:\n",
    "  compartment compartment_;\n",
    "  species Glucose in compartment_, fructose_1_6_bisphosphate in compartment_;\n",
    "  species glyceraldehyde_3_phosphate in compartment_, glycerate_3_phosphate in compartment_;\n",
    "  species pyruvate in compartment_, Acetyladehyde in compartment_, External_acetaldehyde in compartment_;\n",
    "  species ATP in compartment_, ADP in compartment_, NAD in compartment_, NADH in compartment_;\n",
    "  species $External_glucose in compartment_, $ethanol in compartment_, $Glycerol in compartment_;\n",
    "  species $Sink in compartment_;\n",
    "\n",
    "  // Reactions:\n",
    "  J0: $External_glucose => Glucose; J0_inputFlux;\n",
    "  J1: Glucose + 2 ATP => fructose_1_6_bisphosphate + 2 ADP; J1_k1*Glucose*ATP*(1/(1 + (ATP/J1_Ki)^J1_n));\n",
    "  J2: fructose_1_6_bisphosphate => glyceraldehyde_3_phosphate + glyceraldehyde_3_phosphate; J2_k*fructose_1_6_bisphosphate;\n",
    "  J3: glyceraldehyde_3_phosphate + NADH => NAD + $Glycerol; J3_k*glyceraldehyde_3_phosphate*NADH;\n",
    "  J4: glyceraldehyde_3_phosphate + ADP + NAD => ATP + glycerate_3_phosphate + NADH; (J4_kg*J4_kp*glyceraldehyde_3_phosphate*NAD*ADP - J4_ka*J4_kk*glycerate_3_phosphate*ATP*NADH)/(J4_ka*NADH + J4_kp*ADP);\n",
    "  J5: glycerate_3_phosphate + ADP => ATP + pyruvate; J5_k*glycerate_3_phosphate*ADP;\n",
    "  J6: pyruvate => Acetyladehyde; J6_k*pyruvate;\n",
    "  J7: Acetyladehyde + NADH => NAD + $ethanol; J7_k*Acetyladehyde*NADH;\n",
    "  J8: Acetyladehyde => External_acetaldehyde; J8_k1*Acetyladehyde - J8_k2*External_acetaldehyde;\n",
    "  J9: ATP => ADP; J9_k*ATP;\n",
    "  J10: External_acetaldehyde => $Sink; J10_k*External_acetaldehyde;\n",
    "\n",
    "  // Species initializations:\n",
    "  Glucose = 0;\n",
    "  fructose_1_6_bisphosphate = 0;\n",
    "  glyceraldehyde_3_phosphate = 0;\n",
    "  glycerate_3_phosphate = 0;\n",
    "  pyruvate = 0;\n",
    "  Acetyladehyde = 0;\n",
    "  External_acetaldehyde = 0;\n",
    "  ATP = 3;\n",
    "  ADP = 1;\n",
    "  NAD = 0.5;\n",
    "  NADH = 0.5;\n",
    "  External_glucose = 0;\n",
    "  ethanol = 0;\n",
    "  Glycerol = 0;\n",
    "  Sink = 0;\n",
    "\n",
    "  // Compartment initializations:\n",
    "  compartment_ = 1;\n",
    "\n",
    "  // Variable initializations:\n",
    "  J0_inputFlux = 50;\n",
    "  J1_k1 = 550;\n",
    "  J1_Ki = 1;\n",
    "  J1_n = 4;\n",
    "  J2_k = 9.8;\n",
    "  J3_k = 85.7;\n",
    "  J4_kg = 323.8;\n",
    "  J4_kp = 76411.1;\n",
    "  J4_ka = 57823.1;\n",
    "  J4_kk = 23.7;\n",
    "  J5_k = 80;\n",
    "  J6_k = 9.7;\n",
    "  J7_k = 2000;\n",
    "  J8_k1 = 375;\n",
    "  J8_k2 = 375;\n",
    "  J9_k = 28;\n",
    "  J10_k = 80;\n",
    "\n",
    "  // Other declarations:\n",
    "  const compartment_, J0_inputFlux, J1_k1, J1_Ki, J1_n, J2_k, J3_k, J4_kg;\n",
    "  const J4_kp, J4_ka, J4_kk, J5_k, J6_k, J7_k, J8_k1, J8_k2, J9_k, J10_k;\n",
    "end\n",
    "\"\"\""
   ]
  },
  {
   "cell_type": "markdown",
   "metadata": {},
   "source": [
    "# (15 pt) Question 1: DOE Concepts"
   ]
  },
  {
   "cell_type": "markdown",
   "metadata": {},
   "source": [
    "## Question"
   ]
  },
  {
   "cell_type": "markdown",
   "metadata": {},
   "source": [
    "A model is being constructed of lab data in which all parameter values are known as well as all initial concentrations. However, there are 3 possibilities for reaction R1\n",
    "and two possibilities for reaction R2.\n",
    "You want to construct a design for experiments to evaluate which combinations of reactions\n",
    "for R1 and R2 best fit the lab data.\n",
    "1. What are the factors and levels for your DOE?\n",
    "1. What are the experiments that you would perform? Justify your answer.\n",
    "1. How would you change your experimental design if there is an unknown parameter value for each reaction?"
   ]
  },
  {
   "cell_type": "markdown",
   "metadata": {},
   "source": [
    "## Answer\n",
    "1. There are two factors: R1, R2. There are 3 levels for R1 and two levels for R2.\n",
    "1. You can easily do a factorial design, which explores all combinations of factor levels (and so\n",
    "is the most comprehensive). This is possible because there are a total of 6 experiments.\n",
    "1. If unknown parameters must be evaluated as well, then we have to consider a lot more levels.\n",
    "This would require a 1WD or possibly a 2WD depending on the number of levels considered\n",
    "for the parameters."
   ]
  },
  {
   "cell_type": "markdown",
   "metadata": {},
   "source": [
    "# (70 pt) Question 2: Calculating DOE parameters for 2WD"
   ]
  },
  {
   "cell_type": "markdown",
   "metadata": {},
   "source": [
    "## Questions"
   ]
  },
  {
   "cell_type": "markdown",
   "metadata": {},
   "source": [
    "In this question, you will implement functions that calculate the DOE parameters $\\mu$, $\\alpha_{i, k_i}$,\n",
    "and $\\beta_{i, k_i, j, k_j}$ and visualize the results.\n",
    "\n",
    "1. (40 pt) Implement the function ``estimate2WDParameters`` that estimates the parameters of a 2WD.\n",
    "The specifics are:\n",
    "   * **Inputs**\n",
    "       * modelStr - a string that is an Antimony model\n",
    "       * parameters - a tuple of two factor names\n",
    "       * percents - list of int that are percentage changes in parameters\n",
    "       * responseFunc - function that calculates the $y$ values; its input is a DataFrame (the result of a tellurium simulation); its output is a scalar value\n",
    "   * **Outputs**\n",
    "       * mu - float\n",
    "       * alphaDF - pandas dataframe; column is a parameter name; index is a level\n",
    "       * betaDF - pandas dataframe; column is a level for parameter 1; index is a level for parameter 2\n",
    " \n",
    "   Implement a ``responseFunc`` that calculates the maximum value of Glucose over the simulation run, and use this function in your test.\n",
    "   Remember that each function you write should abide by the rules for writing software (including tests).\n",
    "   \n",
    "1. (20 pt) Implement functions that display heatmaps for alphaDF and betaDF and display\n",
    "the output for the parameters  \"J1_Ki\" and \"J1_k1\" \"J1_Ki\" and \"J1_k1\"\n",
    "over levels ranging from -20% to 20%.\n",
    "\n",
    "1. (10 pt) Answer the following:\n",
    "   1. Which of the two parameters has the most effect on the response?\n",
    "   1. Over what range of levels would it be reasonable to predict the response as the\n",
    "   sum of effects of the factor levels?"
   ]
  },
  {
   "cell_type": "markdown",
   "metadata": {},
   "source": [
    "## Answer"
   ]
  },
  {
   "cell_type": "markdown",
   "metadata": {},
   "source": [
    "## Part 1: Implementation"
   ]
  },
  {
   "cell_type": "code",
   "execution_count": 23,
   "metadata": {},
   "outputs": [],
   "source": [
    "try:\n",
    "    import tellurium as te\n",
    "except:\n",
    "    !pip install tellurium==2.2.0\n",
    "    import tellurium as te\n",
    "import numpy as np\n",
    "import pandas as pd"
   ]
  },
  {
   "cell_type": "code",
   "execution_count": 13,
   "metadata": {},
   "outputs": [],
   "source": [
    "# Constants\n",
    "MODEL_STR = \"\"\"\n",
    "$X -> S1; k1\n",
    "S1 -> S2; k2*S1\n",
    "\n",
    "k1 = 1\n",
    "k2 = 1\n",
    "X = 10\n",
    "\"\"\"\n",
    "RR = te.loada(MODEL_STR)\n",
    "TIME = \"time\""
   ]
  },
  {
   "cell_type": "code",
   "execution_count": 14,
   "metadata": {},
   "outputs": [],
   "source": [
    "def arrToDF(arr):\n",
    "    \"\"\"\n",
    "    Converts a NamedArray into a DataFrame.\n",
    "    If it is simulation output, makes TIME the index.\n",
    "\n",
    "    Parameters\n",
    "    ----------\n",
    "    arr: NamedArray\n",
    "    \n",
    "    Returns\n",
    "    -------\n",
    "    DataFrame\n",
    "        Removes \"[\" , \"]\" from the names of species\n",
    "    \"\"\"\n",
    "    columns = [c[1:-1] if c[0] == \"[\" else c for c in arr.colnames]\n",
    "    df = pd.DataFrame(arr, columns=columns)\n",
    "    df = df.set_index(TIME)\n",
    "    return df\n",
    "\n",
    "# Tests\n",
    "df = arrToDF(RR.simulate())\n",
    "assert(isinstance(df, pd.DataFrame))"
   ]
  },
  {
   "cell_type": "code",
   "execution_count": 24,
   "metadata": {},
   "outputs": [],
   "source": [
    "def runSimulation(modelStr, parameterDct):\n",
    "    \"\"\"\n",
    "    Runs a simulation for parameters with percentage changes from baseline values.\n",
    "\n",
    "    Parameters\n",
    "    ----------\n",
    "    modelStr: str (Antimony model)\n",
    "    parameterDct: dict\n",
    "       key: parameter\n",
    "       value: int\n",
    "           percent change\n",
    "       \n",
    "    Returns\n",
    "    -------\n",
    "    DataFrame: results of simulation\n",
    "    \"\"\"\n",
    "    roadrunner = te.loada(modelStr)\n",
    "    for parameter, percent in parameterDct.items():\n",
    "        baseValue = roadrunner[parameter]\n",
    "        roadrunner[parameter] = baseValue*(1 + 0.01*percent)\n",
    "    # Run the simulation\n",
    "    data = roadrunner.simulate()\n",
    "    return arrToDF(data)\n",
    "\n",
    "# TESTS\n",
    "df = runSimulation(MODEL_STR, {})\n",
    "RR.reset()\n",
    "df_base = arrToDF(RR.simulate())\n",
    "assert(df.equals(df_base))"
   ]
  },
  {
   "cell_type": "code",
   "execution_count": 77,
   "metadata": {},
   "outputs": [],
   "source": [
    "def responseFunc(simulationDF, molecule=\"Glucose\", skip_until_time=1.0):\n",
    "    df = simulationDF[simulationDF.index > skip_until_time]\n",
    "    return df[molecule].max()"
   ]
  },
  {
   "cell_type": "code",
   "execution_count": 90,
   "metadata": {},
   "outputs": [],
   "source": [
    "def estimate2WDParameters(modelStr, parameters, percents, responseFunc):\n",
    "    \"\"\"\n",
    "    Runs experiments for multiple factors at different percent changes in factor levels.\n",
    "    \n",
    "    Parameter\n",
    "    ---------\n",
    "    modelStr: antimony model\n",
    "    parameters: tuple of two parameter names\n",
    "    percents: list-int of percentage change in parameter values\n",
    "    responseFunc: Function that inputs a dataframe of simulation results and outputs a scalar response\n",
    "        \n",
    "    Returns\n",
    "    -------\n",
    "    mu: scalar\n",
    "    alphaDF: DataFrame - columns are parameters, index is level\n",
    "    betaDF: columns are levels of parameter 1; index is level of parameter 2\n",
    "    \"\"\"\n",
    "    # Initializations\n",
    "    parameter1 = parameters[0]\n",
    "    parameter2 = parameters[1]\n",
    "    # Calculations\n",
    "    mu = responseFunc(runSimulation(modelStr, {}))\n",
    "    zeroes = np.repeat(0, len(percents))\n",
    "    alphaDF = pd.DataFrame({parameters[0]: zeroes, parameters[1]: zeroes})\n",
    "    alphaDF.index = percents\n",
    "    betaDct = {p: zeroes for p in percents}\n",
    "    betaDF = pd.DataFrame(betaDct, columns=percents, index=percents)\n",
    "    betaDF.index.name = parameter1\n",
    "    betaDF.columns.name = parameter2\n",
    "    # Calculate the changes\n",
    "    for percent1 in percents:\n",
    "        for percent2 in percents:\n",
    "            cur_percents = [percent1, percent2]\n",
    "            #indices.append(\"%d_%d\" % (percent1, percent2))\n",
    "            parameterDct = {parameter1: percent1, parameter2: percent2}\n",
    "            y_val = responseFunc(runSimulation(modelStr, parameterDct))\n",
    "            # Calculate alpha\n",
    "            for parameter, percent in [(parameter1, percent1), (parameter2, percent2)]:\n",
    "                simulationDF = runSimulation(modelStr, {parameter: percent})\n",
    "                alphaDF.loc[percent, parameter] = responseFunc(simulationDF) - mu\n",
    "            # calculate beta\n",
    "            betaDF.loc[percent1, percent2] = \\\n",
    "                  y_val - mu  \\\n",
    "                       - alphaDF.loc[percent1, parameter1] - alphaDF.loc[percent2, parameter2]\n",
    "    #\n",
    "    return mu, alphaDF, betaDF\n",
    "                    \n",
    "# Tests\n",
    "percents = [-20, -10, -2, 0, 2, 10, 20]\n",
    "parameters = [\"J1_Ki\", \"J1_k1\"]\n",
    "mu, alphaDF, betaDF = estimate2WDParameters(WOLF_MODEL, parameters, percents, responseFunc)"
   ]
  },
  {
   "cell_type": "code",
   "execution_count": 79,
   "metadata": {},
   "outputs": [
    {
     "data": {
      "text/plain": [
       "3.3153525064265574"
      ]
     },
     "execution_count": 79,
     "metadata": {},
     "output_type": "execute_result"
    }
   ],
   "source": [
    "mu"
   ]
  },
  {
   "cell_type": "code",
   "execution_count": 91,
   "metadata": {},
   "outputs": [
    {
     "data": {
      "text/html": [
       "<div>\n",
       "<style scoped>\n",
       "    .dataframe tbody tr th:only-of-type {\n",
       "        vertical-align: middle;\n",
       "    }\n",
       "\n",
       "    .dataframe tbody tr th {\n",
       "        vertical-align: top;\n",
       "    }\n",
       "\n",
       "    .dataframe thead th {\n",
       "        text-align: right;\n",
       "    }\n",
       "</style>\n",
       "<table border=\"1\" class=\"dataframe\">\n",
       "  <thead>\n",
       "    <tr style=\"text-align: right;\">\n",
       "      <th></th>\n",
       "      <th>J1_Ki</th>\n",
       "      <th>J1_k1</th>\n",
       "    </tr>\n",
       "  </thead>\n",
       "  <tbody>\n",
       "    <tr>\n",
       "      <th>-20</th>\n",
       "      <td>4.119460</td>\n",
       "      <td>1.088358</td>\n",
       "    </tr>\n",
       "    <tr>\n",
       "      <th>-10</th>\n",
       "      <td>1.979032</td>\n",
       "      <td>0.489967</td>\n",
       "    </tr>\n",
       "    <tr>\n",
       "      <th>-2</th>\n",
       "      <td>0.341318</td>\n",
       "      <td>0.093960</td>\n",
       "    </tr>\n",
       "    <tr>\n",
       "      <th>0</th>\n",
       "      <td>0.000000</td>\n",
       "      <td>0.000000</td>\n",
       "    </tr>\n",
       "    <tr>\n",
       "      <th>2</th>\n",
       "      <td>-0.330187</td>\n",
       "      <td>-0.089535</td>\n",
       "    </tr>\n",
       "    <tr>\n",
       "      <th>10</th>\n",
       "      <td>-1.030001</td>\n",
       "      <td>-0.398225</td>\n",
       "    </tr>\n",
       "    <tr>\n",
       "      <th>20</th>\n",
       "      <td>-1.608883</td>\n",
       "      <td>-0.694672</td>\n",
       "    </tr>\n",
       "  </tbody>\n",
       "</table>\n",
       "</div>"
      ],
      "text/plain": [
       "        J1_Ki     J1_k1\n",
       "-20  4.119460  1.088358\n",
       "-10  1.979032  0.489967\n",
       "-2   0.341318  0.093960\n",
       " 0   0.000000  0.000000\n",
       " 2  -0.330187 -0.089535\n",
       " 10 -1.030001 -0.398225\n",
       " 20 -1.608883 -0.694672"
      ]
     },
     "execution_count": 91,
     "metadata": {},
     "output_type": "execute_result"
    }
   ],
   "source": [
    "alphaDF"
   ]
  },
  {
   "cell_type": "code",
   "execution_count": 81,
   "metadata": {},
   "outputs": [
    {
     "data": {
      "text/html": [
       "<div>\n",
       "<style scoped>\n",
       "    .dataframe tbody tr th:only-of-type {\n",
       "        vertical-align: middle;\n",
       "    }\n",
       "\n",
       "    .dataframe tbody tr th {\n",
       "        vertical-align: top;\n",
       "    }\n",
       "\n",
       "    .dataframe thead th {\n",
       "        text-align: right;\n",
       "    }\n",
       "</style>\n",
       "<table border=\"1\" class=\"dataframe\">\n",
       "  <thead>\n",
       "    <tr style=\"text-align: right;\">\n",
       "      <th></th>\n",
       "      <th>-20</th>\n",
       "      <th>-10</th>\n",
       "      <th>-2</th>\n",
       "      <th>0</th>\n",
       "      <th>2</th>\n",
       "      <th>10</th>\n",
       "      <th>20</th>\n",
       "    </tr>\n",
       "  </thead>\n",
       "  <tbody>\n",
       "    <tr>\n",
       "      <th>-20</th>\n",
       "      <td>-0.443943</td>\n",
       "      <td>-0.052490</td>\n",
       "      <td>0.031421</td>\n",
       "      <td>0.0</td>\n",
       "      <td>-0.064804</td>\n",
       "      <td>-0.380447</td>\n",
       "      <td>-0.626024</td>\n",
       "    </tr>\n",
       "    <tr>\n",
       "      <th>-10</th>\n",
       "      <td>-0.506582</td>\n",
       "      <td>-0.111793</td>\n",
       "      <td>-0.006028</td>\n",
       "      <td>0.0</td>\n",
       "      <td>-0.004111</td>\n",
       "      <td>-0.123717</td>\n",
       "      <td>-0.470991</td>\n",
       "    </tr>\n",
       "    <tr>\n",
       "      <th>-2</th>\n",
       "      <td>0.050900</td>\n",
       "      <td>-0.013923</td>\n",
       "      <td>-0.045545</td>\n",
       "      <td>0.0</td>\n",
       "      <td>0.019298</td>\n",
       "      <td>-0.009735</td>\n",
       "      <td>-0.076701</td>\n",
       "    </tr>\n",
       "    <tr>\n",
       "      <th>0</th>\n",
       "      <td>0.000000</td>\n",
       "      <td>0.000000</td>\n",
       "      <td>0.000000</td>\n",
       "      <td>0.0</td>\n",
       "      <td>0.000000</td>\n",
       "      <td>0.000000</td>\n",
       "      <td>0.000000</td>\n",
       "    </tr>\n",
       "    <tr>\n",
       "      <th>2</th>\n",
       "      <td>-0.029098</td>\n",
       "      <td>-0.046835</td>\n",
       "      <td>-0.015185</td>\n",
       "      <td>0.0</td>\n",
       "      <td>0.015458</td>\n",
       "      <td>0.068055</td>\n",
       "      <td>0.176379</td>\n",
       "    </tr>\n",
       "    <tr>\n",
       "      <th>10</th>\n",
       "      <td>-0.633211</td>\n",
       "      <td>-0.286632</td>\n",
       "      <td>-0.054782</td>\n",
       "      <td>0.0</td>\n",
       "      <td>0.051192</td>\n",
       "      <td>0.215443</td>\n",
       "      <td>0.351175</td>\n",
       "    </tr>\n",
       "    <tr>\n",
       "      <th>20</th>\n",
       "      <td>-0.683107</td>\n",
       "      <td>-0.306716</td>\n",
       "      <td>-0.059987</td>\n",
       "      <td>0.0</td>\n",
       "      <td>0.056788</td>\n",
       "      <td>0.245522</td>\n",
       "      <td>0.413314</td>\n",
       "    </tr>\n",
       "  </tbody>\n",
       "</table>\n",
       "</div>"
      ],
      "text/plain": [
       "          -20       -10       -2    0         2         10        20\n",
       "-20 -0.443943 -0.052490  0.031421  0.0 -0.064804 -0.380447 -0.626024\n",
       "-10 -0.506582 -0.111793 -0.006028  0.0 -0.004111 -0.123717 -0.470991\n",
       "-2   0.050900 -0.013923 -0.045545  0.0  0.019298 -0.009735 -0.076701\n",
       " 0   0.000000  0.000000  0.000000  0.0  0.000000  0.000000  0.000000\n",
       " 2  -0.029098 -0.046835 -0.015185  0.0  0.015458  0.068055  0.176379\n",
       " 10 -0.633211 -0.286632 -0.054782  0.0  0.051192  0.215443  0.351175\n",
       " 20 -0.683107 -0.306716 -0.059987  0.0  0.056788  0.245522  0.413314"
      ]
     },
     "execution_count": 81,
     "metadata": {},
     "output_type": "execute_result"
    }
   ],
   "source": [
    "betaDF"
   ]
  },
  {
   "cell_type": "code",
   "execution_count": 83,
   "metadata": {},
   "outputs": [
    {
     "data": {
      "text/plain": [
       "[<matplotlib.lines.Line2D at 0x7f11ec3ebc88>]"
      ]
     },
     "execution_count": 83,
     "metadata": {},
     "output_type": "execute_result"
    },
    {
     "data": {
      "image/png": "[encoded data removed]",
      "text/plain": [
       "<Figure size 432x288 with 1 Axes>"
      ]
     },
     "metadata": {
      "needs_background": "light"
     },
     "output_type": "display_data"
    }
   ],
   "source": [
    "import matplotlib.pyplot as plt\n",
    "df = runSimulation(WOLF_MODEL, {\"J1_Ki\": -20})\n",
    "plt.plot(df.index, df[\"Glucose\"])"
   ]
  },
  {
   "cell_type": "markdown",
   "metadata": {},
   "source": [
    "## Part 2: Visualization"
   ]
  },
  {
   "cell_type": "code",
   "execution_count": 97,
   "metadata": {},
   "outputs": [
    {
     "data": {
      "image/png": "[encoded data removed]",
      "text/plain": [
       "<Figure size 1440x1440 with 4 Axes>"
      ]
     },
     "metadata": {
      "needs_background": "light"
     },
     "output_type": "display_data"
    }
   ],
   "source": [
    "import seaborn as sns\n",
    "def visualize2WD(alphaDF, betaDF):\n",
    "    \"\"\"\n",
    "    Provides visualizations for the parameters of the 2WD\n",
    "    \n",
    "    Parameters\n",
    "    ----------\n",
    "    alphaDF: DataFrame\n",
    "        columns: factors\n",
    "        rows: levels\n",
    "    betaDF: DataFrame\n",
    "        columns: factor levels\n",
    "        index: factor levels\n",
    "    \"\"\"\n",
    "    def plot(df, ax, title):\n",
    "        vmin = df.min().min()\n",
    "        vmax = df.max().max()\n",
    "        upper = max(np.abs(vmin), vmax)\n",
    "        sns.heatmap(df.T, cmap='seismic', vmin=-upper, vmax=upper, ax=ax)\n",
    "        ax.set_title(title)\n",
    "    #\n",
    "    _, axes = plt.subplots(2, figsize=(20, 20))\n",
    "    plot(alphaDF, axes[0], \"Alpha\")\n",
    "    plot(betaDF, axes[1], \"Beta\")\n",
    "\n",
    "# TESTS\n",
    "visualize2WD(alphaDF, betaDF)"
   ]
  },
  {
   "cell_type": "markdown",
   "metadata": {},
   "source": [
    "## Part 3: Analysis"
   ]
  },
  {
   "cell_type": "markdown",
   "metadata": {},
   "source": [
    "# (15 pt) Question 3: Complexity of experimental designs"
   ]
  },
  {
   "cell_type": "markdown",
   "metadata": {},
   "source": [
    "## Question"
   ]
  },
  {
   "cell_type": "markdown",
   "metadata": {},
   "source": [
    "Consider a design with 16 factors and 7 levels (including the baseline).\n",
    "How many experiments are there for a 1WD? 2WD? 10WD?"
   ]
  },
  {
   "cell_type": "markdown",
   "metadata": {},
   "source": [
    "## Answers"
   ]
  },
  {
   "cell_type": "code",
   "execution_count": 1,
   "metadata": {},
   "outputs": [],
   "source": [
    "from scipy.special import comb\n",
    "def calcNumberExperiment(numFactor, numLevel, numWay):\n",
    "    \"\"\" \n",
    "    Calculates the number of experiments for a design.\n",
    "\n",
    "    Parameters\n",
    "    ----------\n",
    "    numFactor: int\n",
    "        Number of factors in the design\n",
    "    numLevel: int\n",
    "        number of levels for each factor (without baseline)\n",
    "    numWay: int\n",
    "        n-way design\n",
    "    \n",
    "    Returns\n",
    "    -------\n",
    "    int\n",
    "    \"\"\"\n",
    "    if numWay == 0:\n",
    "        return 1\n",
    "    result = calcNumberExperiment(numFactor, numLevel, numWay-1)\n",
    "    result += int(comb(numFactor, numWay, exact=False)*(numLevel**numWay))\n",
    "    return result\n",
    "\n",
    "# Tests\n",
    "num1 = calcNumberExperiment(10, 3, 1)\n",
    "assert(num1 == 10*3 + 1)\n"
   ]
  },
  {
   "cell_type": "code",
   "execution_count": 2,
   "metadata": {},
   "outputs": [
    {
     "name": "stdout",
     "output_type": "stream",
     "text": [
      "97\n"
     ]
    }
   ],
   "source": [
    "print(calcNumberExperiment(16,  6, 1))"
   ]
  },
  {
   "cell_type": "code",
   "execution_count": 3,
   "metadata": {},
   "outputs": [
    {
     "name": "stdout",
     "output_type": "stream",
     "text": [
      "4417\n"
     ]
    }
   ],
   "source": [
    "print(calcNumberExperiment(16,  6, 2))"
   ]
  },
  {
   "cell_type": "code",
   "execution_count": 4,
   "metadata": {},
   "outputs": [
    {
     "name": "stdout",
     "output_type": "stream",
     "text": [
      "125377\n"
     ]
    }
   ],
   "source": [
    "print(calcNumberExperiment(16,  6, 3))"
   ]
  }
 ],
 "metadata": {
  "kernelspec": {
   "display_name": "Python 3",
   "language": "python",
   "name": "python3"
  },
  "language_info": {
   "codemirror_mode": {
    "name": "ipython",
    "version": 3
   },
   "file_extension": ".py",
   "mimetype": "text/x-python",
   "name": "python",
   "nbconvert_exporter": "python",
   "pygments_lexer": "ipython3",
   "version": "3.6.4"
  }
 },
 "nbformat": 4,
 "nbformat_minor": 4
}
