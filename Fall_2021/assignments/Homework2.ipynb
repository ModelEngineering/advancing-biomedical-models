{
 "cells": [
  {
   "cell_type": "markdown",
   "metadata": {},
   "source": [
    "<span style=\"font-family:Papyrus; font-size:3em;\">Homework 2</span>\n",
    "\n",
    "<span style=\"font-family:Papyrus; font-size:2em;\">Cross Validation</span>"
   ]
  },
  {
   "cell_type": "markdown",
   "metadata": {},
   "source": [
    "# Problem"
   ]
  },
  {
   "cell_type": "markdown",
   "metadata": {},
   "source": [
    "In this homework, you will use cross validation to analyze the effect on model quality\n",
    "of the number of model parameters and the noise in the observational data.\n",
    "You do this analysis in the context of design of experiments.\n",
    "The two factors are (i) number of model parameters and (ii) the noise in the observational data;\n",
    "the response will be the $R^2$ of the model (actually the $R^2$ averaged across the folds of\n",
    "cross validation).\n",
    "\n",
    "You will investigate models of linear pathways with 2, 4, 6, 8, 10 parameters.\n",
    "For example, a two parameter model is use $S_1 \\xrightarrow{v_1} S_2 \\xrightarrow{v_3} S_3$,\n",
    "where $v_i = k_i s_i$, $k_i$ is a parameter to estimate, and $s_i$ is the concentration of $S_i$.\n",
    "The initial concentration of $S_1 = 10$, and the true value of $k_i$ is $i$. Thus, for a two parameter model,\n",
    "$k_1 = 1$, $k_2 = 2$.\n",
    "\n",
    "You will generate the synthetic data by adding a\n",
    "noise term to the true model.\n",
    "The noise term is drawn from a normal distribution with mean 0\n",
    "and standard deviations of 0.2, 0.5, 0.8, 1.0, and 1.5, depending on the experiment.\n",
    "\n",
    "You will design experiments, implement codes to run them, run the experiments, and interpret the results.\n",
    "The raw output of these experiments will be\n",
    "a table structured as the one below.\n",
    "Cell values will be the average $R^2$ across the folds of the cross validation done with\n",
    "one level for each factor.\n",
    "\n",
    " |   | 2 | 4 | 6 | 8 | 10\n",
    "  | -- | -- | -- | -- | -- | -- |\n",
    " 0.2 | ? | ? | ? | ? | ?\n",
    " 0.5 | ? | ? | ? | ? | ?\n",
    " 0.8 | ? | ? | ? | ? | ?\n",
    " 1.0 | ? | ? | ? | ? | ?\n",
    " 1.5 | ? | ? | ? | ? | ?\n",
    " \n",
    "\n",
    "1. (2 pt) **Generate Models.** Write (or generate) the models in Antimony, and produce plots for their true values. Use a simulation time\n",
    "of 10 and 100 points.\n",
    "\n",
    "1. (1 pt) **Generate Synthetic Data.** Write a function that creates synthetic data given the parameters std \n",
    "and numParameter.\n",
    "\n",
    "1. (1 pt) **Extend ``CrossValidator``.** You will extend ``CrossValidator`` (in ``common/util_crossvalidation.py``)\n",
    "by creating a subclass ``ExtendedCrossValidator`` that has the method\n",
    "``calcAvgRsq``. The method takes no argument (except ``self``) and returns the average value of\n",
    "$R^2$ for the folds. Don't forget to document the function and include at least one tests.\n",
    "\n",
    "1. (4 pt) **Implement ``runExperiments``.** This function has inputs: (a) list of the number of parameters for the\n",
    "models to study and (b) list of the standard deviations of the noise terms.\n",
    "It returns a dataframe with: columns are the number of parameters; rows (index) are the standard deviations of noise;\n",
    "and values are the average $R^2$ for the folds defined by the levels of the factors.\n",
    "Run experiments that produce the tables described above using five hold cross validation and 100 simulation points.\n",
    "\n",
    "1. (4 pt) **Calculate Effects.** Using the baseline standard deviation of noise of 0.8, number of parameters of 6, calculate $\\mu$, $\\alpha_{i,k_i}$,\n",
    "$\\gamma_{i,i_k,j,k_j}$.\n",
    "\n",
    "1. (3 pt) **Analysis.** Answer the following questions\n",
    "   1. What is the effect on $R^2$ as the number of parameters increases? Why?\n",
    "   1. How does the noise standard deviation affect $R^2$? Why?\n",
    "   1. What are the interaction effects and how do they influence the response (average $R^2$)?\n",
    "   \n",
    "**Please do your homework in a copy of this notebook, maintaining the sections.**"
   ]
  },
  {
   "cell_type": "markdown",
   "metadata": {},
   "source": [
    "# Programming Preliminaries\n",
    "This section provides the setup to run your python codes."
   ]
  },
  {
   "cell_type": "code",
   "execution_count": 1,
   "metadata": {},
   "outputs": [],
   "source": [
    "IS_COLAB = False\n",
    "#\n",
    "if IS_COLAB:\n",
    "  !pip install tellurium\n",
    "  !pip install SBstoat\n",
    "#    \n",
    "# Constants for standalone notebook\n",
    "if not IS_COLAB:\n",
    "    CODE_DIR = \"/home/ubuntu/advancing-biomedical-models/common\"\n",
    "else:\n",
    "    from google.colab import drive\n",
    "    drive.mount('/content/drive')\n",
    "    CODE_DIR = \"/content/drive/My Drive/Winter 2021/common\"\n",
    "import sys\n",
    "sys.path.insert(0, CODE_DIR)"
   ]
  },
  {
   "cell_type": "code",
   "execution_count": 2,
   "metadata": {},
   "outputs": [],
   "source": [
    "import util_crossvalidation as ucv\n",
    "from SBstoat.namedTimeseries import NamedTimeseries, TIME\n",
    "\n",
    "import matplotlib.pyplot as plt\n",
    "import numpy as np\n",
    "import pandas as pd\n",
    "import tellurium as te"
   ]
  },
  {
   "cell_type": "code",
   "execution_count": 3,
   "metadata": {},
   "outputs": [],
   "source": [
    "END_TIME = 5\n",
    "NUM_POINT = 100\n",
    "NOISE_STD = 0.5\n",
    "# Column names\n",
    "C_NOISE_STD = \"noisestd\"\n",
    "C_NUM_PARAMETER = \"no. parameters\"\n",
    "C_VALUE = \"value\"\n",
    "#\n",
    "NOISE_STDS = [0.2, 0.5, 0.8, 1.0, 1.5]\n",
    "NUM_PARAMETERS = [2, 4, 6, 8, 10]"
   ]
  },
  {
   "cell_type": "code",
   "execution_count": 4,
   "metadata": {},
   "outputs": [],
   "source": [
    "def isSame(collection1, collection2):\n",
    "    \"\"\"\n",
    "    Determines if two collections have the same elements.\n",
    "    \"\"\"\n",
    "    diff = set(collection1).symmetric_difference(collection2)\n",
    "    return len(diff) == 0\n",
    "    \n",
    "# Tests\n",
    "assert(isSame(range(3), [0, 1, 2]))\n",
    "assert(not isSame(range(4), range(3)))"
   ]
  },
  {
   "cell_type": "markdown",
   "metadata": {},
   "source": [
    "# Generate Models"
   ]
  },
  {
   "cell_type": "markdown",
   "metadata": {},
   "source": [
    "# Generate Synthetic Data"
   ]
  },
  {
   "cell_type": "markdown",
   "metadata": {},
   "source": [
    "# ``ExtendedCrossValidator``"
   ]
  },
  {
   "cell_type": "markdown",
   "metadata": {},
   "source": [
    "Hint: Subclass using ``class ExtendedCrossValidator(ucv.CrossValidator):``."
   ]
  },
  {
   "cell_type": "markdown",
   "metadata": {},
   "source": [
    "# Implement ``runExperiments``"
   ]
  },
  {
   "cell_type": "markdown",
   "metadata": {},
   "source": [
    "# Calculate Effects\n",
    "Here, we calculate $\\mu$, $\\alpha_{i, k_i}$, and $\\gamma_{i, k_i, j, k_j}$."
   ]
  },
  {
   "cell_type": "markdown",
   "metadata": {},
   "source": [
    "# Analysis"
   ]
  },
  {
   "cell_type": "markdown",
   "metadata": {},
   "source": [
    "**What is the effect on $R^2$ as the number of parameters increases? Why?**\n",
    "  "
   ]
  },
  {
   "cell_type": "markdown",
   "metadata": {},
   "source": [
    "**How does the noise standard deviation affect $R^2$? Why?**"
   ]
  },
  {
   "cell_type": "markdown",
   "metadata": {},
   "source": [
    "**What are the interaction effects and how do they influence the response (average $R^2$)?**"
   ]
  }
 ],
 "metadata": {
  "kernelspec": {
   "display_name": "Python 3",
   "language": "python",
   "name": "python3"
  },
  "language_info": {
   "codemirror_mode": {
    "name": "ipython",
    "version": 3
   },
   "file_extension": ".py",
   "mimetype": "text/x-python",
   "name": "python",
   "nbconvert_exporter": "python",
   "pygments_lexer": "ipython3",
   "version": "3.6.9"
  },
  "toc-autonumbering": true
 },
 "nbformat": 4,
 "nbformat_minor": 4
}
