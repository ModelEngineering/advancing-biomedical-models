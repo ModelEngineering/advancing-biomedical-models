{
  "nbformat": 4,
  "nbformat_minor": 0,
  "metadata": {
    "kernelspec": {
      "display_name": "Python 3",
      "language": "python",
      "name": "python3"
    },
    "language_info": {
      "codemirror_mode": {
        "name": "ipython",
        "version": 3
      },
      "file_extension": ".py",
      "mimetype": "text/x-python",
      "name": "python",
      "nbconvert_exporter": "python",
      "pygments_lexer": "ipython3",
      "version": "3.6.4"
    },
    "colab": {
      "name": "Homework 2-DOE v2.ipynb",
      "provenance": [],
      "collapsed_sections": [
        "I6bc-Ull5uK7"
      ]
    }
  },
  "cells": [
    {
      "cell_type": "markdown",
      "metadata": {
        "tags": [],
        "id": "JCs9QsYo5uK3"
      },
      "source": [
        "# HOMEWORK 2: DESIGN OF EXPERIMENTS (v2)"
      ]
    },
    {
      "cell_type": "markdown",
      "metadata": {
        "id": "jKlsbo235uK7"
      },
      "source": [
        "**THIS HOMEWORK IS SUBMITTED AS A COLAB NOTEABOOK IN YOUR STUDENT FOLDER.**"
      ]
    },
    {
      "cell_type": "markdown",
      "metadata": {
        "jp-MarkdownHeadingCollapsed": true,
        "tags": [],
        "id": "I6bc-Ull5uK7"
      },
      "source": [
        "# Wolf Model"
      ]
    },
    {
      "cell_type": "markdown",
      "metadata": {
        "id": "Ucixp_Qf6G5J"
      },
      "source": [
        "The follow is provided for your convenience."
      ]
    },
    {
      "cell_type": "code",
      "metadata": {
        "id": "HAK5PhGZ5uK8"
      },
      "source": [
        "'''Codes and Constants for the Wolf Model'''\n",
        "\n",
        "\n",
        "################## CONSTANTS #############################\n",
        "WOLF_MODEL = \"\"\"\n",
        "// Created by libAntimony v2.12.0\n",
        "model *Jana_WolfGlycolysis()\n",
        "\n",
        "  // Compartments and Species:\n",
        "  compartment compartment_;\n",
        "  species Glucose in compartment_, fructose_1_6_bisphosphate in compartment_;\n",
        "  species glyceraldehyde_3_phosphate in compartment_, glycerate_3_phosphate in compartment_;\n",
        "  species pyruvate in compartment_, Acetyladehyde in compartment_, External_acetaldehyde in compartment_;\n",
        "  species ATP in compartment_, ADP in compartment_, NAD in compartment_, NADH in compartment_;\n",
        "  species $External_glucose in compartment_, $ethanol in compartment_, $Glycerol in compartment_;\n",
        "  species $Sink in compartment_;\n",
        "\n",
        "  // Reactions:\n",
        "  J0: $External_glucose => Glucose; J0_inputFlux;\n",
        "  J1: Glucose + 2 ATP => fructose_1_6_bisphosphate + 2 ADP; J1_k1*Glucose*ATP*(1/(1 + (ATP/J1_Ki)^J1_n));\n",
        "  J2: fructose_1_6_bisphosphate => glyceraldehyde_3_phosphate + glyceraldehyde_3_phosphate; J2_k*fructose_1_6_bisphosphate;\n",
        "  J3: glyceraldehyde_3_phosphate + NADH => NAD + $Glycerol; J3_k*glyceraldehyde_3_phosphate*NADH;\n",
        "  J4: glyceraldehyde_3_phosphate + ADP + NAD => ATP + glycerate_3_phosphate + NADH; (J4_kg*J4_kp*glyceraldehyde_3_phosphate*NAD*ADP - J4_ka*J4_kk*glycerate_3_phosphate*ATP*NADH)/(J4_ka*NADH + J4_kp*ADP);\n",
        "  J5: glycerate_3_phosphate + ADP => ATP + pyruvate; J5_k*glycerate_3_phosphate*ADP;\n",
        "  J6: pyruvate => Acetyladehyde; J6_k*pyruvate;\n",
        "  J7: Acetyladehyde + NADH => NAD + $ethanol; J7_k*Acetyladehyde*NADH;\n",
        "  J8: Acetyladehyde => External_acetaldehyde; J8_k1*Acetyladehyde - J8_k2*External_acetaldehyde;\n",
        "  J9: ATP => ADP; J9_k*ATP;\n",
        "  J10: External_acetaldehyde => $Sink; J10_k*External_acetaldehyde;\n",
        "\n",
        "  // Species initializations:\n",
        "  Glucose = 0;\n",
        "  fructose_1_6_bisphosphate = 0;\n",
        "  glyceraldehyde_3_phosphate = 0;\n",
        "  glycerate_3_phosphate = 0;\n",
        "  pyruvate = 0;\n",
        "  Acetyladehyde = 0;\n",
        "  External_acetaldehyde = 0;\n",
        "  ATP = 3;\n",
        "  ADP = 1;\n",
        "  NAD = 0.5;\n",
        "  NADH = 0.5;\n",
        "  External_glucose = 0;\n",
        "  ethanol = 0;\n",
        "  Glycerol = 0;\n",
        "  Sink = 0;\n",
        "\n",
        "  // Compartment initializations:\n",
        "  compartment_ = 1;\n",
        "\n",
        "  // Variable initializations:\n",
        "  J0_inputFlux = 50;\n",
        "  J1_k1 = 550;\n",
        "  J1_Ki = 1;\n",
        "  J1_n = 4;\n",
        "  J2_k = 9.8;\n",
        "  J3_k = 85.7;\n",
        "  J4_kg = 323.8;\n",
        "  J4_kp = 76411.1;\n",
        "  J4_ka = 57823.1;\n",
        "  J4_kk = 23.7;\n",
        "  J5_k = 80;\n",
        "  J6_k = 9.7;\n",
        "  J7_k = 2000;\n",
        "  J8_k1 = 375;\n",
        "  J8_k2 = 375;\n",
        "  J9_k = 28;\n",
        "  J10_k = 80;\n",
        "\n",
        "  // Other declarations:\n",
        "  const compartment_, J0_inputFlux, J1_k1, J1_Ki, J1_n, J2_k, J3_k, J4_kg;\n",
        "  const J4_kp, J4_ka, J4_kk, J5_k, J6_k, J7_k, J8_k1, J8_k2, J9_k, J10_k;\n",
        "end\n",
        "\"\"\""
      ],
      "execution_count": null,
      "outputs": []
    },
    {
      "cell_type": "markdown",
      "metadata": {
        "id": "czg77oAx5uK9"
      },
      "source": [
        "# (15 pt) Question 1: DOE Concepts"
      ]
    },
    {
      "cell_type": "markdown",
      "metadata": {
        "id": "R-mwEfhM5uK-"
      },
      "source": [
        "## Question"
      ]
    },
    {
      "cell_type": "markdown",
      "metadata": {
        "id": "TgMveLgB5uK-"
      },
      "source": [
        "A model is being constructed of lab data in which all parameter values are known as well as all initial concentrations. However, there are 3 possibilities for reaction R1\n",
        "and two possibilities for reaction R2.\n",
        "You want to construct a design for experiments to evaluate which combinations of reactions\n",
        "for R1 and R2 best fit the lab data.\n",
        "1. What are the factors and levels for your DOE?\n",
        "1. What are the experiments that you would perform? Justify your answer.\n",
        "1. How would you change your experimental design if there is an unknown parameter value for each reaction?"
      ]
    },
    {
      "cell_type": "markdown",
      "metadata": {
        "id": "Kf8AFNk25uLA"
      },
      "source": [
        "# (70 pt) Question 2: Calculating DOE parameters for 2WD"
      ]
    },
    {
      "cell_type": "markdown",
      "metadata": {
        "id": "MxNo2cgQ5uLA"
      },
      "source": [
        "## Questions"
      ]
    },
    {
      "cell_type": "markdown",
      "metadata": {
        "id": "nQfM4u5Q5uLA"
      },
      "source": [
        "In this question, you will implement functions that calculate the DOE parameters $\\mu$, $\\alpha_{i, k_i}$,\n",
        "and $\\beta_{i, k_i, j, k_j}$ and visualize the results.\n",
        "\n",
        "1. (40 pt) Implement the function ``estimate2WDParameters`` that estimates the parameters of a 2WD.\n",
        "The specifics are:\n",
        "   * **Inputs**\n",
        "       * modelStr - a string that is an Antimony model\n",
        "       * parameters - a tuple of two factor names\n",
        "       * percents - list of int that are percentage changes in parameters\n",
        "       * responseFunc - function that calculates the $y$ values; its input is a DataFrame (the result of a tellurium simulation); its output is a scalar value\n",
        "   * **Outputs**\n",
        "       * mu - float\n",
        "       * alphaDF - pandas dataframe; column is a parameter name; index is a level\n",
        "       * betaDF - pandas dataframe; column is a level for parameter 1; index is a level for parameter 2\n",
        " \n",
        "   Implement a ``responseFunc`` that calculates the maximum value of Glucose over the simulation run after an initial transient of 1 sec. Use this function in your tests and the following questions.\n",
        "   Remember that each function you write should abide by the rules for writing software (including tests).\n",
        "   \n",
        "1. (20 pt) Implement functions that display heatmaps for alphaDF and betaDF and display\n",
        "the output for the parameters  \"J1_Ki\" and \"J1_k1\"\n",
        "over levels ranging from -20% to 20%.\n",
        "\n",
        "1. (10 pt) Answer the following:\n",
        "   1. Which of the two parameters has the most effect on the response?\n",
        "   1. Over what range of levels would it be reasonable to predict the response as the\n",
        "   sum of effects of the factor levels?"
      ]
    },
    {
      "cell_type": "markdown",
      "metadata": {
        "id": "KLjS8eIs5uLE"
      },
      "source": [
        "# (15 pt) Question 3: Complexity of experimental designs"
      ]
    },
    {
      "cell_type": "markdown",
      "metadata": {
        "id": "NtyI2Y_g5uLE"
      },
      "source": [
        "## Question"
      ]
    },
    {
      "cell_type": "markdown",
      "metadata": {
        "id": "4pUh1nXb5uLF"
      },
      "source": [
        "Consider a design with 16 factors and 7 levels (including the baseline).\n",
        "How many experiments are there for a 1WD? 2WD? 10WD?"
      ]
    }
  ]
}