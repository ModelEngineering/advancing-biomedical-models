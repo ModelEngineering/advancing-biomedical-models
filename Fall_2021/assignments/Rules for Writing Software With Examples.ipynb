{
 "cells": [
  {
   "cell_type": "markdown",
   "id": "661c83a5-89dc-4ba1-b8f6-29b907a88e2a",
   "metadata": {},
   "source": [
    "# RULES FOR WRITING SOFTWARE WITH EXAMPLES"
   ]
  },
  {
   "cell_type": "markdown",
   "id": "29dc86bb-aaac-48a9-9589-b85eaeeca05e",
   "metadata": {},
   "source": [
    "This notebook describes and motivates the rules for writing software."
   ]
  },
  {
   "cell_type": "code",
   "execution_count": 1,
   "id": "6185e37c-09f6-47ce-b10f-9de6a17d6aa0",
   "metadata": {},
   "outputs": [],
   "source": [
    "import numpy as np\n",
    "import pandas as pd"
   ]
  },
  {
   "cell_type": "markdown",
   "id": "565ee575-750f-495e-ae26-a5dc91a6c8db",
   "metadata": {},
   "source": [
    "# Handling dependencies\n",
    "You must ensure that any packages (dependencies) required for your code to run are installed."
   ]
  },
  {
   "cell_type": "markdown",
   "id": "98c4f0ec-7381-4054-b63e-a4d246e2f323",
   "metadata": {},
   "source": [
    "Installing Tellurium\n",
    "``!pip install -q tellurium``"
   ]
  },
  {
   "cell_type": "markdown",
   "id": "63e39a49-249d-4b72-b3c7-0badac401347",
   "metadata": {},
   "source": [
    "Now we can import tellurium\n",
    "``import tellurium as te``"
   ]
  },
  {
   "cell_type": "code",
   "execution_count": 2,
   "id": "dfa910c2-1d4a-47da-934b-0243eb4ae6c3",
   "metadata": {},
   "outputs": [],
   "source": [
    "# First code cell in a notebook contains all installs\n",
    "!pip install -q tellurium\n",
    "!pip install -q simplesbml\n",
    "!pip install -q sympy"
   ]
  },
  {
   "cell_type": "code",
   "execution_count": 3,
   "id": "ddd84e00-b1c9-4dc7-b6f1-4155d9cf346d",
   "metadata": {},
   "outputs": [],
   "source": [
    "# Second code cell has all imports\n",
    "import pandas as pd     # DataFrames and Series\n",
    "import numpy as np      # Numerical methods\n",
    "import simplesbml       # Access to reaction network metadata\n",
    "import sympy            # Symbolic algebra\n",
    "import tellurium as te  # Simulations"
   ]
  },
  {
   "cell_type": "markdown",
   "id": "26a70175-0b9c-4a17-8d89-01dec0227036",
   "metadata": {},
   "source": [
    "# Use functions instead of scripts\n",
    "Whenever possible, use functions instead of scripts. \n",
    "This is because functions facilitate reuse, and functions are testable. \n",
    "Never use copy and paste for reuse"
   ]
  },
  {
   "cell_type": "code",
   "execution_count": 4,
   "id": "3b6bfbec-9d5b-42f6-90c9-f0d53b945d50",
   "metadata": {},
   "outputs": [
    {
     "name": "stdout",
     "output_type": "stream",
     "text": [
      "Is 12 prime? no\n"
     ]
    }
   ],
   "source": [
    "import numpy as np\n",
    "# Script that tests if a number is prime\n",
    "number = 12\n",
    "is_prime = True\n",
    "for factor in range(2, int(np.sqrt(number))):\n",
    "    if number % factor == 0:\n",
    "        is_prime = False\n",
    "if is_prime:\n",
    "    answer = \"yes\"\n",
    "else:\n",
    "    answer = \"no\"\n",
    "print(\"Is %d prime? %s\" % (number, answer))"
   ]
  },
  {
   "cell_type": "markdown",
   "id": "c3a4b614-faac-4f7b-abab-ce906c9cf648",
   "metadata": {},
   "source": [
    "## Why aren't scripts enough?\n",
    "\n",
    "Testing the script is cumbersome -- must try and evaluate many values.\n",
    "\n",
    "Difficult to reuse script. How embed this in code that prints the first $N$ prime numbers?"
   ]
  },
  {
   "cell_type": "markdown",
   "id": "359db788-968c-4a8d-9c87-0cf101b01653",
   "metadata": {},
   "source": [
    "## Making a script into a function\n",
    "\n",
    "Steps\n",
    "1. Determine the interface - inputs and outputs\n",
    "1. Write the ``def`` statement\n",
    "1. Document the function\n",
    "1. Copy the script into the function body.\n",
    "1. Add the return statement.\n",
    "1. Delete unneeded code (e.g., ``print``)"
   ]
  },
  {
   "cell_type": "markdown",
   "id": "8f4850e7-0d9d-4eb0-ae02-174650edcf7b",
   "metadata": {},
   "source": [
    "The above script can be made into the function ``checkPrime``."
   ]
  },
  {
   "cell_type": "code",
   "execution_count": 5,
   "id": "a4cd4764-fd8c-47e7-be33-ae8c7a2387f7",
   "metadata": {},
   "outputs": [],
   "source": [
    "def checkPrime(number):\n",
    "    \"\"\"\n",
    "    Determines if the number is a prime.\n",
    "    \n",
    "    Parameters\n",
    "    ----------\n",
    "    number: int\n",
    "    \n",
    "    Returns\n",
    "    -------\n",
    "    bool\n",
    "    \"\"\"\n",
    "    is_prime = True\n",
    "    for factor in range(2, int(np.sqrt(number)) + 1):\n",
    "        if number % factor == 0:\n",
    "            is_prime = False\n",
    "    return is_prime"
   ]
  },
  {
   "cell_type": "code",
   "execution_count": 6,
   "id": "e3c40a4d-fb17-4ac6-9744-e11ea55342de",
   "metadata": {},
   "outputs": [
    {
     "name": "stdout",
     "output_type": "stream",
     "text": [
      "Is 24 prime? False\n"
     ]
    }
   ],
   "source": [
    "answers = [\"Yes\", \"No\"]\n",
    "number = 24\n",
    "print(\"Is %d prime? %s\" % (number, checkPrime(number)))"
   ]
  },
  {
   "cell_type": "markdown",
   "id": "31fd6c3a-f48d-4eb5-8043-fe8723eb4beb",
   "metadata": {},
   "source": [
    "Now we can use ``checkPrime`` as a building block to create other functions."
   ]
  },
  {
   "cell_type": "code",
   "execution_count": 7,
   "id": "9b2ab137-3799-48c6-9d1b-d2da5267ebe7",
   "metadata": {},
   "outputs": [],
   "source": [
    "# Find the first N primes\n",
    "def findPrimes(count):\n",
    "    \"\"\"\n",
    "    Finds the count of primes indicated.\n",
    "    \n",
    "    Parameters\n",
    "    ----------\n",
    "    count: int\n",
    "    \n",
    "    Returns\n",
    "    -------\n",
    "    list-int\n",
    "    \"\"\"\n",
    "    results = []\n",
    "    number = 1\n",
    "    while True:\n",
    "        if len(results) >= count:\n",
    "            break\n",
    "        number += 1\n",
    "        if checkPrime(number):\n",
    "            results.append(number)\n",
    "    return results"
   ]
  },
  {
   "cell_type": "code",
   "execution_count": 8,
   "id": "36f7fa70-8c0b-4c7c-8ca0-d47f68b7ded3",
   "metadata": {},
   "outputs": [
    {
     "data": {
      "text/plain": [
       "[2, 3, 5, 7, 11, 13, 17, 19, 23, 29]"
      ]
     },
     "execution_count": 8,
     "metadata": {},
     "output_type": "execute_result"
    }
   ],
   "source": [
    "findPrimes(10)"
   ]
  },
  {
   "cell_type": "markdown",
   "id": "6ce67eee-a468-4fe7-947f-062ec6d916a9",
   "metadata": {},
   "source": [
    "## Exercise"
   ]
  },
  {
   "cell_type": "markdown",
   "id": "eaad9eb9-65aa-40c0-9df5-9bd91894a255",
   "metadata": {},
   "source": [
    "Write a function that finds all primes less than a given number and calls ``findPrimes``."
   ]
  },
  {
   "cell_type": "markdown",
   "id": "aa284b88-32ca-410b-bdad-0cc7a75dc6fa",
   "metadata": {},
   "source": [
    "# Names of variables and functions\n",
    "\n",
    "Use meaningful names for functions are variables. Function names should be verbs. \n",
    "For example, a function that calculates a fast Fourier transform might be named calcFFT.\n",
    "A bad name for this function would be the single letter f."
   ]
  },
  {
   "cell_type": "markdown",
   "id": "eddba881-07e5-48a0-80cc-c9c0ae2224eb",
   "metadata": {
    "tags": []
   },
   "source": [
    "Why did we name the function ``checkPrimes`` instead of ``f``?"
   ]
  },
  {
   "cell_type": "code",
   "execution_count": 9,
   "id": "b8780e93-7423-493c-9558-109b4a853a42",
   "metadata": {},
   "outputs": [],
   "source": [
    "# Re-write this function according the the rules for variable and function names.\n",
    "# Show that you get the same result as the original code.\n",
    "def p(n):\n",
    "    r = 1\n",
    "    for i in range(len(n)):\n",
    "        r *= n[i]\n",
    "    return r"
   ]
  },
  {
   "cell_type": "code",
   "execution_count": 10,
   "id": "8d83cc1f-c7c1-4bb9-b666-5900ff0422ad",
   "metadata": {},
   "outputs": [
    {
     "data": {
      "text/plain": [
       "24"
      ]
     },
     "execution_count": 10,
     "metadata": {},
     "output_type": "execute_result"
    }
   ],
   "source": [
    "p([4, 3, 2])"
   ]
  },
  {
   "cell_type": "markdown",
   "id": "acfb4a1d-f728-4449-8bc4-24d361ec4747",
   "metadata": {},
   "source": [
    "# Use named constants\n",
    "Constants used in the notebook should have a name in all capital letters. For example, use ``PI``, not ``pi``.\n",
    "(By definition, a constant is a variable that is assigned a value only once.)\n",
    "Named constants should also be used for dataframes.\n",
    "For example, instead of ``df[\"mean\"]`` use ``df[MEAN]``, where ``MEAN = \"mean\"`` appears elsewhere."
   ]
  },
  {
   "cell_type": "code",
   "execution_count": 11,
   "id": "9c6a519c-2188-4549-b608-f63b507efae9",
   "metadata": {},
   "outputs": [],
   "source": [
    "MODEL = \"\"\"\n",
    "J0: $X -> A; k1\n",
    "J1: A -> B; k2*A\n",
    "X =10\n",
    "A = 0\n",
    "B = 0\n",
    "k1 = 1\n",
    "k2 =1\n",
    "\"\"\""
   ]
  },
  {
   "cell_type": "code",
   "execution_count": 12,
   "id": "4a95abf6-6ad8-49fa-88f0-6fe627118ad8",
   "metadata": {},
   "outputs": [
    {
     "data": {
      "text/html": [
       "<div>\n",
       "<style scoped>\n",
       "    .dataframe tbody tr th:only-of-type {\n",
       "        vertical-align: middle;\n",
       "    }\n",
       "\n",
       "    .dataframe tbody tr th {\n",
       "        vertical-align: top;\n",
       "    }\n",
       "\n",
       "    .dataframe thead th {\n",
       "        text-align: right;\n",
       "    }\n",
       "</style>\n",
       "<table border=\"1\" class=\"dataframe\">\n",
       "  <thead>\n",
       "    <tr style=\"text-align: right;\">\n",
       "      <th></th>\n",
       "      <th>time</th>\n",
       "      <th>[A]</th>\n",
       "      <th>[B]</th>\n",
       "      <th>J1</th>\n",
       "    </tr>\n",
       "  </thead>\n",
       "  <tbody>\n",
       "    <tr>\n",
       "      <th>0</th>\n",
       "      <td>0.000000</td>\n",
       "      <td>0.000000</td>\n",
       "      <td>0.000000</td>\n",
       "      <td>0.000000</td>\n",
       "    </tr>\n",
       "    <tr>\n",
       "      <th>1</th>\n",
       "      <td>0.050505</td>\n",
       "      <td>0.049251</td>\n",
       "      <td>0.001254</td>\n",
       "      <td>0.049251</td>\n",
       "    </tr>\n",
       "  </tbody>\n",
       "</table>\n",
       "</div>"
      ],
      "text/plain": [
       "       time       [A]       [B]        J1\n",
       "0  0.000000  0.000000  0.000000  0.000000\n",
       "1  0.050505  0.049251  0.001254  0.049251"
      ]
     },
     "execution_count": 12,
     "metadata": {},
     "output_type": "execute_result"
    }
   ],
   "source": [
    "# Get data from running the simulation\n",
    "rr = te.loada(MODEL)\n",
    "data = rr.simulate(0, 5, 100, [\"time\", \"[A]\", \"[B]\", \"J1\"])\n",
    "data_df = pd.DataFrame(data, columns = data.colnames)\n",
    "data_df.head(2)"
   ]
  },
  {
   "cell_type": "code",
   "execution_count": 13,
   "id": "8c33f3cf-08d3-4f4b-a60a-aa7e0524ab19",
   "metadata": {},
   "outputs": [
    {
     "data": {
      "text/plain": [
       "0    True\n",
       "1    True\n",
       "2    True\n",
       "dtype: bool"
      ]
     },
     "execution_count": 13,
     "metadata": {},
     "output_type": "execute_result"
    }
   ],
   "source": [
    "# See that mass action kinetics are present\n",
    "checks_ser = data_df[\"J1\"] == data_df[\"[A]\"]\n",
    "checks_ser.head(3)"
   ]
  },
  {
   "cell_type": "code",
   "execution_count": 14,
   "id": "6ab1fefe-6c16-4256-a92e-6245c096c052",
   "metadata": {},
   "outputs": [],
   "source": [
    "# Check the mass action rate law for J1\n",
    "assert(sum(data_df[\"J1\"] == data_df[\"[A]\"]) == len(data_df))"
   ]
  },
  {
   "cell_type": "markdown",
   "id": "73669639-d3ce-4417-92e0-cd5ab87cb739",
   "metadata": {},
   "source": [
    "# Document your functions\n",
    "\n",
    "After the function definition, you should have comment lines that specify:\n",
    "* What the function does\n",
    "* The data types of each input and output (including names of columns if an input is a dataframe) \n"
   ]
  },
  {
   "cell_type": "markdown",
   "id": "cf8c7530-4de9-4e9d-8a85-e8be7ed38ffb",
   "metadata": {},
   "source": [
    "# Functions must have tests\n",
    "\n",
    "You must have at least one test for each function that shows that the major code paths work correctly.\n",
    "In a Jupyter notebook, the tests should follow the function definition in the code cell in which the function is defined.\n",
    "The test will use the python assert statement to evaluate a boolean condition that constitutes the test.\n",
    "For python modules, you will create a separate test file that uses the python unittest framework."
   ]
  },
  {
   "cell_type": "markdown",
   "id": "d1b99f00-7c3d-4f41-bc07-c6a2dd9a9a95",
   "metadata": {},
   "source": [
    "# Example - Symbolic Linearization of the Reaction Network"
   ]
  },
  {
   "cell_type": "markdown",
   "id": "d75eaeba-5b09-4f1f-84f5-de7a15c97aff",
   "metadata": {
    "tags": []
   },
   "source": [
    "The reaction network is approximated by the linearization $\\dot{{\\bf x}} = {\\bf A} {\\bf x}$,\n",
    "where ${\\bf x}$ is the column vector of species concentrations and ${\\bf A} = {\\bf N} {\\bf J}$,\n",
    "where ${\\bf N}$ is the stoichiometry matrix and ${\\bf J}$ is the Jacobian of the reaction rate vector.\n",
    "\n",
    "Tellurium provides access to the numerical ${\\bf A}$ matrix evaluated at a specific time in the simulation (by default, the end of the simulation). From this, we can make inferences about the nature of fixed points.\n",
    "However, this applies only to the parameter values and initial conditions used in that simulation.\n",
    "If we want to make broad statements about a model, we'd like to reason from the symbolic Jacobian, the Jacobian in terms of the\n",
    "parameters and species in the model."
   ]
  },
  {
   "cell_type": "markdown",
   "id": "675ac969-6058-41f8-a9ad-d90245f2a59a",
   "metadata": {},
   "source": [
    "## Why Symbolic Linearization"
   ]
  },
  {
   "cell_type": "markdown",
   "id": "bbf8e570-61f1-4827-bcae-75296e63dbab",
   "metadata": {
    "tags": []
   },
   "source": [
    "Consider the model below.\n",
    "We want to determine if there are *any* values of the parameters for which the model becomes unstable or oscillates."
   ]
  },
  {
   "cell_type": "code",
   "execution_count": 15,
   "id": "50438d89-567d-4d90-bdb8-32336e835a32",
   "metadata": {},
   "outputs": [
    {
     "data": {
      "image/png": "[encoded data removed]",
      "text/plain": [
       "<Figure size 432x288 with 1 Axes>"
      ]
     },
     "metadata": {},
     "output_type": "display_data"
    }
   ],
   "source": [
    "MODEL = \"\"\"\n",
    "$X -> A; k1\n",
    "2A -> B; k2*A^2\n",
    "B -> C; k3*B\n",
    "B + 2C ->; k4*B*C\n",
    "X = 1\n",
    "A = 0;\n",
    "B = 0\n",
    "C = 0\n",
    "k1 = 1;\n",
    "k2 = 1;\n",
    "k3 = 1;\n",
    "k4 = 1\n",
    "\"\"\"\n",
    "rr = te.loada(MODEL)\n",
    "rr.simulate()\n",
    "rr.plot()"
   ]
  },
  {
   "cell_type": "markdown",
   "id": "d5894038-1006-42ee-be6b-6ef374561513",
   "metadata": {},
   "source": [
    "Roadrunner can calculate the ${\\bf A}$ matrix numerically."
   ]
  },
  {
   "cell_type": "code",
   "execution_count": 16,
   "id": "390e4d9b-bd61-4bcf-8647-2bdc53b45214",
   "metadata": {},
   "outputs": [
    {
     "data": {
      "text/plain": [
       "            A,         B,         C\n",
       "A [[ -2.82842,         0,         0],\n",
       "B  [  1.41421,  -1.46676, -0.346645],\n",
       "C  [        0, 0.0664758, -0.693291]]"
      ]
     },
     "execution_count": 16,
     "metadata": {},
     "output_type": "execute_result"
    }
   ],
   "source": [
    "AMat = rr.getReducedJacobian()\n",
    "AMat"
   ]
  },
  {
   "cell_type": "markdown",
   "id": "86ded1e0-55f7-4563-a5a0-f75c0cfe1311",
   "metadata": {},
   "source": [
    "The eigenvalues lie on the diagonal of the matrix; they are negative and real. So in this case, we have a non-oscillating, stable system.\n",
    "But is this true for all feasible values of the parameters (which must always be positive)?"
   ]
  },
  {
   "cell_type": "markdown",
   "id": "341dc8fd-6926-49cb-a7eb-2dd4f11ef62a",
   "metadata": {},
   "source": [
    "## Calculating Symboic Linearizations"
   ]
  },
  {
   "cell_type": "markdown",
   "id": "2eb7f387-6abb-4f69-933c-b991b29f964e",
   "metadata": {},
   "source": [
    "To obtain the symbolic ${\\bf A}$ matrix\n",
    "requires two additional python packages.\n",
    "* ``simplesbml`` provides access to the symbols in the model, including the rates laws.\n",
    "* ``sympy`` is a symbolic algebra package for python"
   ]
  },
  {
   "cell_type": "code",
   "execution_count": 17,
   "id": "7bfe87ef-a686-42ab-b87a-0519449dcd4d",
   "metadata": {},
   "outputs": [],
   "source": [
    "# Create a SimpleSBML representation of the roadrunner model\n",
    "simple_model = simplesbml.loadSBMLStr(rr.getSBML())"
   ]
  },
  {
   "cell_type": "code",
   "execution_count": 19,
   "id": "2a8fe989-61a5-48cf-b608-3236f984b536",
   "metadata": {},
   "outputs": [],
   "source": [
    "# The following creates sympy symbols for the float species and parameters in the model\n",
    "species = simple_model.getListOfFloatingSpecies()  # list of the names of floating species as strings\n",
    "parameters = simple_model.getListOfParameterIds()  # list of the names of the parameters\n",
    "symbols = list(species)\n",
    "symbols.extend(parameters)                  # List of all the symbols we want to create\n",
    "stmt = \"%s = sympy.symbols(%s)\" % (\", \".join(symbols), str(symbols))  # Python statement to create the symbols\n",
    "exec(stmt, globals(), locals())                                  # Execute the python statement"
   ]
  },
  {
   "cell_type": "code",
   "execution_count": 20,
   "id": "071fad40-0730-4b8e-bc50-f3bfcc0f887e",
   "metadata": {},
   "outputs": [
    {
     "data": {
      "text/plain": [
       "['k1', 'k2 * pow(A, 2)', 'k3 * B', 'k4 * B * C']"
      ]
     },
     "execution_count": 20,
     "metadata": {},
     "output_type": "execute_result"
    }
   ],
   "source": [
    "# Construct a list of the rate laws\n",
    "rate_laws = []\n",
    "for id in simple_model.getListOfReactionIds():\n",
    "    rate_laws.append(simple_model.getRateLaw(id))\n",
    "#\n",
    "rate_laws            "
   ]
  },
  {
   "cell_type": "markdown",
   "id": "5d7c9cc8-e6a9-4645-8351-e15b6ee303c9",
   "metadata": {},
   "source": [
    "Elements of the rate laws are strings.\n",
    "To make them into expressions, we use the python ``eval`` function."
   ]
  },
  {
   "cell_type": "code",
   "execution_count": 21,
   "id": "274f3628-c553-459b-811d-a79db0493a53",
   "metadata": {},
   "outputs": [
    {
     "data": {
      "text/latex": [
       "$\\displaystyle \\left[\\begin{matrix}0 & 0 & 0\\\\2 A k_{2} & 0 & 0\\\\0 & k_{3} & 0\\\\0 & C k_{4} & B k_{4}\\end{matrix}\\right]$"
      ],
      "text/plain": [
       "Matrix([\n",
       "[     0,    0,    0],\n",
       "[2*A*k2,    0,    0],\n",
       "[     0,   k3,    0],\n",
       "[     0, C*k4, B*k4]])"
      ]
     },
     "execution_count": 21,
     "metadata": {},
     "output_type": "execute_result"
    }
   ],
   "source": [
    "# Construct the Jacobian of the rate vector using symbolic algebra\n",
    "vector = sympy.Matrix([eval(l) for l in rate_laws])\n",
    "jacobian = vector.jacobian(species)\n",
    "jacobian"
   ]
  },
  {
   "cell_type": "markdown",
   "id": "897666de-f2ef-43ba-80ef-8af70477291f",
   "metadata": {},
   "source": [
    "Next, we create a sympy version of the stoichiometry matrix."
   ]
  },
  {
   "cell_type": "code",
   "execution_count": 22,
   "id": "30ee3200-ffe1-4fc4-94bf-0075a802650a",
   "metadata": {},
   "outputs": [
    {
     "data": {
      "text/latex": [
       "$\\displaystyle \\left[\\begin{matrix}1.0 & -2.0 & 0.0 & 0.0\\\\0.0 & 1.0 & -1.0 & -1.0\\\\0.0 & 0.0 & 1.0 & -2.0\\end{matrix}\\right]$"
      ],
      "text/plain": [
       "Matrix([\n",
       "[1.0, -2.0,  0.0,  0.0],\n",
       "[0.0,  1.0, -1.0, -1.0],\n",
       "[0.0,  0.0,  1.0, -2.0]])"
      ]
     },
     "execution_count": 22,
     "metadata": {},
     "output_type": "execute_result"
    }
   ],
   "source": [
    "stoichiometryMat = sympy.Matrix(rr.getFullStoichiometryMatrix())\n",
    "stoichiometryMat"
   ]
  },
  {
   "cell_type": "markdown",
   "id": "fd2395c3-8471-47e0-8379-007857b4a7a2",
   "metadata": {},
   "source": [
    "We get the ${\\bf A}$ matrix by multiplication."
   ]
  },
  {
   "cell_type": "code",
   "execution_count": 23,
   "id": "3c062ce0-0a70-489f-b74c-2c51652d1521",
   "metadata": {},
   "outputs": [
    {
     "data": {
      "text/latex": [
       "$\\displaystyle \\left[\\begin{matrix}- 4.0 A k_{2} & 0 & 0\\\\2.0 A k_{2} & - 1.0 C k_{4} - 1.0 k_{3} & - 1.0 B k_{4}\\\\0 & - 2.0 C k_{4} + 1.0 k_{3} & - 2.0 B k_{4}\\end{matrix}\\right]$"
      ],
      "text/plain": [
       "Matrix([\n",
       "[-4.0*A*k2,                  0,         0],\n",
       "[ 2.0*A*k2, -1.0*C*k4 - 1.0*k3, -1.0*B*k4],\n",
       "[        0, -2.0*C*k4 + 1.0*k3, -2.0*B*k4]])"
      ]
     },
     "execution_count": 23,
     "metadata": {},
     "output_type": "execute_result"
    }
   ],
   "source": [
    "stoichiometryMat * jacobian"
   ]
  },
  {
   "cell_type": "markdown",
   "id": "f022ea04-8f48-436e-ac42-fd027179f277",
   "metadata": {},
   "source": [
    "Analyzing this matrix, we see that the eigenvalues are the elements of the diagonal,\n",
    "and all of these elements are real and negative (since species concentrations and parameters are non-negative).\n",
    "Thus, this network will *always* converge and will *never* oscillate."
   ]
  },
  {
   "cell_type": "markdown",
   "id": "f72ecc09-ca1a-4ea3-9dd1-43806f71e7ea",
   "metadata": {},
   "source": [
    "## Converting the code fragments into reproducible, reusable software"
   ]
  },
  {
   "cell_type": "markdown",
   "id": "a4cf6b9a-e8d0-4f18-95af-f3846375a158",
   "metadata": {},
   "source": [
    "Requirements\n",
    "1. Define the interface to the user\n",
    "1. Create functional components\n",
    "1. Write tests for the components"
   ]
  }
 ],
 "metadata": {
  "kernelspec": {
   "display_name": "Python 3",
   "language": "python",
   "name": "python3"
  },
  "language_info": {
   "codemirror_mode": {
    "name": "ipython",
    "version": 3
   },
   "file_extension": ".py",
   "mimetype": "text/x-python",
   "name": "python",
   "nbconvert_exporter": "python",
   "pygments_lexer": "ipython3",
   "version": "3.6.4"
  }
 },
 "nbformat": 4,
 "nbformat_minor": 5
}
