{
 "cells": [
  {
   "cell_type": "markdown",
   "id": "661c83a5-89dc-4ba1-b8f6-29b907a88e2a",
   "metadata": {},
   "source": [
    "# RULES FOR WRITING SOFTWARE"
   ]
  },
  {
   "cell_type": "markdown",
   "id": "29dc86bb-aaac-48a9-9589-b85eaeeca05e",
   "metadata": {},
   "source": [
    "This notebook describes and motivates the rules for writing software."
   ]
  },
  {
   "cell_type": "markdown",
   "id": "565ee575-750f-495e-ae26-a5dc91a6c8db",
   "metadata": {},
   "source": [
    "# Handling dependencies\n",
    "You must ensure that any packages (dependencies) required for your code to run are installed."
   ]
  },
  {
   "cell_type": "code",
   "execution_count": 2,
   "id": "a07a4964-9066-4fde-bb2e-0f2347a64fb9",
   "metadata": {},
   "outputs": [],
   "source": [
    "# Installing Tellurium\n",
    "!pip install -q tellurium"
   ]
  },
  {
   "cell_type": "code",
   "execution_count": 3,
   "id": "ab6e442b-a593-4ab3-b2b2-8e0baf0c6360",
   "metadata": {},
   "outputs": [],
   "source": [
    "# Nowe can import tellurium\n",
    "import tellurium as te"
   ]
  },
  {
   "cell_type": "markdown",
   "id": "26a70175-0b9c-4a17-8d89-01dec0227036",
   "metadata": {},
   "source": [
    "# Use functions instead of scripts\n",
    "Whenever possible, use functions instead of scripts. \n",
    "This is because functions facilitate reuse, and functions are testable. \n",
    "Never use copy and paste for reuse"
   ]
  },
  {
   "cell_type": "code",
   "execution_count": 9,
   "id": "3b6bfbec-9d5b-42f6-90c9-f0d53b945d50",
   "metadata": {},
   "outputs": [
    {
     "name": "stdout",
     "output_type": "stream",
     "text": [
      "Is 12 prime? no\n"
     ]
    }
   ],
   "source": [
    "import numpy as np\n",
    "# Script that tests if a number is prime\n",
    "number = 12\n",
    "is_prime = True\n",
    "for factor in range(2, int(np.sqrt(number))):\n",
    "    if number % factor == 0:\n",
    "        is_prime = False\n",
    "if is_prime:\n",
    "    answer = \"yes\"\n",
    "else:\n",
    "    answer = \"no\"\n",
    "print(\"Is %d prime? %s\" % (number, answer))"
   ]
  },
  {
   "cell_type": "markdown",
   "id": "c3a4b614-faac-4f7b-abab-ce906c9cf648",
   "metadata": {},
   "source": [
    "## Why aren't scripts enough?\n",
    "\n",
    "Testing the script is cumbersome -- must try and evaluate many values.\n",
    "\n",
    "Difficult to reuse script. How embed this in code that prints the first $N$ prime numbers?"
   ]
  },
  {
   "cell_type": "markdown",
   "id": "359db788-968c-4a8d-9c87-0cf101b01653",
   "metadata": {},
   "source": [
    "## Making a script into a function\n",
    "\n",
    "Steps\n",
    "1. Determine the interface - inputs and outputs\n",
    "1. Write the ``def`` statement\n",
    "1. Document the function\n",
    "1. Copy the script into the function body.\n",
    "1. Add the return statement.\n",
    "1. Delete unneeded code (e.g., ``print``)"
   ]
  },
  {
   "cell_type": "markdown",
   "id": "8f4850e7-0d9d-4eb0-ae02-174650edcf7b",
   "metadata": {},
   "source": [
    "The above script can be made into the function ``checkPrime``."
   ]
  },
  {
   "cell_type": "code",
   "execution_count": 20,
   "id": "a4cd4764-fd8c-47e7-be33-ae8c7a2387f7",
   "metadata": {},
   "outputs": [],
   "source": [
    "def checkPrime(number):\n",
    "    \"\"\"\n",
    "    Determines if the number is a prime.\n",
    "    \n",
    "    Parameters\n",
    "    ----------\n",
    "    number: int\n",
    "    \n",
    "    Returns\n",
    "    -------\n",
    "    bool\n",
    "    \"\"\"\n",
    "    is_prime = True\n",
    "    for factor in range(2, int(np.sqrt(number)) + 1):\n",
    "        if number % factor == 0:\n",
    "            is_prime = False\n",
    "    return is_prime"
   ]
  },
  {
   "cell_type": "code",
   "execution_count": 21,
   "id": "e3c40a4d-fb17-4ac6-9744-e11ea55342de",
   "metadata": {},
   "outputs": [
    {
     "name": "stdout",
     "output_type": "stream",
     "text": [
      "Is 8 prime? False\n"
     ]
    }
   ],
   "source": [
    "answers = [\"Yes\", \"No\"]\n",
    "number = 8\n",
    "print(\"Is %d prime? %s\" % (number, checkPrime(number)))"
   ]
  },
  {
   "cell_type": "markdown",
   "id": "31fd6c3a-f48d-4eb5-8043-fe8723eb4beb",
   "metadata": {},
   "source": [
    "Now we can use ``checkPrime`` as a building block to create other functions."
   ]
  },
  {
   "cell_type": "code",
   "execution_count": 24,
   "id": "9b2ab137-3799-48c6-9d1b-d2da5267ebe7",
   "metadata": {},
   "outputs": [],
   "source": [
    "# Find the first N primes\n",
    "def findPrimes(count):\n",
    "    \"\"\"\n",
    "    Finds the count of primes indicated.\n",
    "    \n",
    "    Parameters\n",
    "    ----------\n",
    "    count: int\n",
    "    \n",
    "    Returns\n",
    "    -------\n",
    "    list-int\n",
    "    \"\"\"\n",
    "    results = []\n",
    "    number = 1\n",
    "    while True:\n",
    "        if len(results) >= count:\n",
    "            break\n",
    "        number += 1\n",
    "        if checkPrime(number):\n",
    "            results.append(number)\n",
    "    return results"
   ]
  },
  {
   "cell_type": "code",
   "execution_count": 25,
   "id": "36f7fa70-8c0b-4c7c-8ca0-d47f68b7ded3",
   "metadata": {},
   "outputs": [
    {
     "data": {
      "text/plain": [
       "[2, 3, 5, 7, 11, 13, 17, 19, 23, 29]"
      ]
     },
     "execution_count": 25,
     "metadata": {},
     "output_type": "execute_result"
    }
   ],
   "source": [
    "findPrimes(10)"
   ]
  },
  {
   "cell_type": "markdown",
   "id": "aa284b88-32ca-410b-bdad-0cc7a75dc6fa",
   "metadata": {},
   "source": [
    "# Names of variables and functions\n",
    "\n",
    "Use meaningful names for functions are variables. Function names should be verbs. \n",
    "For example, a function that calculates a fast Fourier transform might be named calcFFT.\n",
    "A bad name for this function would be the single letter f."
   ]
  },
  {
   "cell_type": "markdown",
   "id": "acfb4a1d-f728-4449-8bc4-24d361ec4747",
   "metadata": {},
   "source": [
    "# Use named constants\n",
    "Constants used in the notebook should have a name in all capital letters. For example, use ``PI``, not ``pi``.\n",
    "(By definition, a constant is a variable that is assigned a value only once.)\n",
    "Named constants should also be used for dataframes.\n",
    "For example, instead of ``df[\"mean\"]`` use ``df[MEAN]``, where ``MEAN = \"mean\"`` appears elsewhere."
   ]
  },
  {
   "cell_type": "markdown",
   "id": "73669639-d3ce-4417-92e0-cd5ab87cb739",
   "metadata": {},
   "source": [
    "# Document your functions\n",
    "\n",
    "After the function definition, you should have comment lines that specify:\n",
    "* What the function does\n",
    "* The data types of each input and output (including names of columns if an input is a dataframe) \n"
   ]
  },
  {
   "cell_type": "markdown",
   "id": "cf8c7530-4de9-4e9d-8a85-e8be7ed38ffb",
   "metadata": {},
   "source": [
    "# Functions must have tests\n",
    "\n",
    "You must have at least one test for each function that shows that the major code paths work correctly.\n",
    "In a Jupyter notebook, the tests should follow the function definition in the code cell in which the function is defined.\n",
    "The test will use the python assert statement to evaluate a boolean condition that constitutes the test.\n",
    "For python modules, you will create a separate test file that uses the python unittest framework."
   ]
  }
 ],
 "metadata": {
  "kernelspec": {
   "display_name": "Python 3",
   "language": "python",
   "name": "python3"
  },
  "language_info": {
   "codemirror_mode": {
    "name": "ipython",
    "version": 3
   },
   "file_extension": ".py",
   "mimetype": "text/x-python",
   "name": "python",
   "nbconvert_exporter": "python",
   "pygments_lexer": "ipython3",
   "version": "3.6.4"
  }
 },
 "nbformat": 4,
 "nbformat_minor": 5
}
