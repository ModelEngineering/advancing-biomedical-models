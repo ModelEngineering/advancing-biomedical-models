{
 "cells": [
  {
   "cell_type": "markdown",
   "metadata": {},
   "source": [
    "<span style=\"font-family:Papyrus; font-size:3em;\" >Estimating Parameter Confidence Intervals With Bootstrapping</span>"
   ]
  },
  {
   "cell_type": "markdown",
   "metadata": {},
   "source": [
    "This notebook demonstrates the calculations required to do confidence interval constructions.\n",
    "1. Construct a good model. This means checking that we get good $R^2$ values (or other model quality metrics) for each fold in a cross validation.\n",
    "1. Compute residuals for the good model.\n",
    "1. Construct a collection of parameter estimates. That is, for many repetitions\n",
    "   1. Construct new observations (by using randomly selected residuals)\n",
    "   1. Estimate parameter values\n",
    "1. Construct the confidence interval"
   ]
  },
  {
   "cell_type": "markdown",
   "metadata": {},
   "source": [
    "# Programming Preliminaries"
   ]
  },
  {
   "cell_type": "code",
   "execution_count": 1,
   "metadata": {},
   "outputs": [],
   "source": [
    "IS_COLAB = False\n",
    "#\n",
    "if IS_COLAB:\n",
    "  !pip install matplotlib\n",
    "  !pip install numpy\n",
    "  !pip install tellurium\n",
    "  !pip install SBstoat\n",
    "#    \n",
    "# Constants for standalone notebook\n",
    "if not IS_COLAB:\n",
    "    CODE_DIRS = [\"/home/ubuntu/advancing-biomedical-models/common\"]\n",
    "    CODE_DIRS.append(\"/home/ubuntu/SBstoat\")\n",
    "    DATA_DIR = \"/home/ubuntu/advancing-biomedical-models/lecture_12\"\n",
    "else:\n",
    "    from google.colab import drive\n",
    "    drive.mount('/content/drive')\n",
    "    CODE_DIRS = [\"/content/drive/MyDrive/Winter 2021/common\"]\n",
    "    DATA_DIR = \"/content/drive/MyDrive/Modeling_Class/Lecture Notes/12_lecture\"\n",
    "import sys\n",
    "for path in CODE_DIRS:\n",
    "    sys.path.insert(0, path)\n",
    "# Other constants\n",
    "TIME = \"time\""
   ]
  },
  {
   "cell_type": "code",
   "execution_count": null,
   "metadata": {},
   "outputs": [],
   "source": []
  },
  {
   "cell_type": "code",
   "execution_count": 2,
   "metadata": {},
   "outputs": [],
   "source": [
    "%matplotlib inline\n",
    "import numpy as np\n",
    "import lmfit   # Fitting lib\n",
    "import pandas as pd\n",
    "import matplotlib.pyplot as plt\n",
    "import matplotlib\n",
    "import tellurium as te\n",
    "from SBstoat.modelFitter import ModelFitter\n",
    "from SBstoat.observationSynthesizer import ObservationSynthesizerRandomizedResiduals, ObservationSynthesizerRandomErrors\n",
    "from SBstoat.namedTimeseries import NamedTimeseries"
   ]
  },
  {
   "cell_type": "markdown",
   "metadata": {},
   "source": [
    "# Model and Data"
   ]
  },
  {
   "cell_type": "code",
   "execution_count": 4,
   "metadata": {},
   "outputs": [],
   "source": [
    "# Model used in this example\n",
    "MODEL = \"\"\"\n",
    "     A -> B; k1*A\n",
    "     B -> C; k2*B\n",
    "      \n",
    "     A = 5;\n",
    "     B = 0;\n",
    "     C = 0;\n",
    "     k1 = 0.1\n",
    "     k2 = 0.2\n",
    "\"\"\"\n",
    "PARAMETERS_TO_FIT = [\"k1\", \"k2\"]"
   ]
  },
  {
   "cell_type": "code",
   "execution_count": 5,
   "metadata": {},
   "outputs": [],
   "source": [
    "# Globals\n",
    "NUM_POINT = 30\n",
    "SIM_TIME= 30\n",
    "NOISE_STD = 0.3"
   ]
  },
  {
   "cell_type": "code",
   "execution_count": 6,
   "metadata": {},
   "outputs": [
    {
     "data": {
      "text/plain": [
       "                  A         B         C\n",
       "time                                   \n",
       "0.000000   5.273324 -0.866487  0.140481\n",
       "1.034483   4.658704  0.451808  0.028226\n",
       "2.068966   3.934367  0.880723  0.215681\n",
       "3.103448   3.513273  1.365989  0.865850\n",
       "4.137931   3.760485  1.532430  0.231799\n",
       "5.172414   3.409644  1.419906  0.738220\n",
       "6.206897   2.704730  1.765392  1.321748\n",
       "7.241379   1.917897  1.024720  0.951331\n",
       "8.275862   2.729089  1.328110  1.554919\n",
       "9.310345   1.916003  1.004007  1.831669\n",
       "10.344828  1.640621  1.266796  2.185251\n",
       "11.379310  1.231828  0.887684  1.920616\n",
       "12.413793  1.278424  0.671575  2.752982\n",
       "13.448276  1.338452  0.982233  2.704019\n",
       "14.482759  1.229860  0.907135  2.862819\n",
       "15.517241  0.686440  0.401615  3.205526\n",
       "16.551724  1.556460  1.018120  3.367376\n",
       "17.586207  0.380049  0.678177  3.812578\n",
       "18.620690  0.620751  0.410490  3.547358\n",
       "19.655172  1.024537  0.571086  3.744843\n",
       "20.689655  0.666914  0.627168  3.891986\n",
       "21.724138  0.410299  0.169427  4.357694\n",
       "22.758621  0.263998  1.033851  3.812689\n",
       "23.793103  0.064944  0.326995  4.136305\n",
       "24.827586  0.398710  0.478383  4.178997\n",
       "25.862069  0.142116  0.535738  4.580010\n",
       "26.896552  0.391621  0.375433  4.890039\n",
       "27.931034  0.733612  0.554900  4.524901\n",
       "28.965517  0.106348  0.097925  4.671718\n",
       "30.000000  0.278764  0.310235  4.507359"
      ]
     },
     "execution_count": 6,
     "metadata": {},
     "output_type": "execute_result"
    }
   ],
   "source": [
    "rr = te.loada(MODEL)\n",
    "fittedData = rr.simulate(0, SIM_TIME, NUM_POINT)\n",
    "fittedTS = NamedTimeseries(namedArray=fittedData)\n",
    "synthesizer = ObservationSynthesizerRandomErrors(fittedTS=fittedTS, std=NOISE_STD)\n",
    "OBS_TS = synthesizer.calculate()\n",
    "OBS_TS"
   ]
  },
  {
   "cell_type": "code",
   "execution_count": 7,
   "metadata": {},
   "outputs": [
    {
     "data": {
      "text/plain": [
       "<Figure size 432x288 with 0 Axes>"
      ]
     },
     "metadata": {},
     "output_type": "display_data"
    }
   ],
   "source": [
    "def plotData(observedTS):\n",
    "    \"\"\"\n",
    "    Creates a scatter plot of the observed data.\n",
    "    \n",
    "    Parameters\n",
    "    ----------\n",
    "    observedTS: NamedTimeseries\n",
    "    \n",
    "    Returns\n",
    "    -------\n",
    "    \n",
    "    \"\"\"\n",
    "    figure, ax = plt.subplots(1)\n",
    "    for column in observedTS.colnames:\n",
    "        _ = ax.scatter(observedTS[TIME], observedTS[column])\n",
    "    _ = plt.legend(observedTS.colnames)\n",
    "    return figure\n",
    "        \n",
    "# Tests\n",
    "figure = plotData(OBS_TS)\n",
    "assert(isinstance(figure, matplotlib.figure.Figure))\n",
    "_ = figure.clear()"
   ]
  },
  {
   "cell_type": "code",
   "execution_count": 8,
   "metadata": {},
   "outputs": [
    {
     "data": {
      "image/png": "[encoded data removed]",
      "text/plain": [
       "<Figure size 432x288 with 1 Axes>"
      ]
     },
     "metadata": {
      "needs_background": "light"
     },
     "output_type": "display_data"
    }
   ],
   "source": [
    "_ = plotData(OBS_TS)"
   ]
  },
  {
   "cell_type": "markdown",
   "metadata": {},
   "source": [
    "# Bootstrapping Workflow"
   ]
  },
  {
   "cell_type": "markdown",
   "metadata": {},
   "source": [
    "## Construct a good model."
   ]
  },
  {
   "cell_type": "markdown",
   "metadata": {},
   "source": [
    "First, we need to estimate the parameter values to use in our model. To this end, we do a fit on the full set of data."
   ]
  },
  {
   "cell_type": "code",
   "execution_count": 9,
   "metadata": {},
   "outputs": [
    {
     "data": {
      "text/html": [
       "<table><tr><th> name </th><th> value </th><th> initial value </th><th> min </th><th> max </th><th> vary </th></tr><tr><td> k1 </td><td>  0.10383942 </td><td> 0.07636478615333342 </td><td>  0.00000000 </td><td>  10.0000000 </td><td> True </td></tr><tr><td> k2 </td><td>  0.20035088 </td><td> 0.2847890343481829 </td><td>  0.00000000 </td><td>  10.0000000 </td><td> True </td></tr></table>"
      ],
      "text/plain": [
       "Parameters([('k1', <Parameter 'k1', value=0.10383942127357215, bounds=[0:10]>),\n",
       "            ('k2', <Parameter 'k2', value=0.2003508781364749, bounds=[0:10]>)])"
      ]
     },
     "execution_count": 9,
     "metadata": {},
     "output_type": "execute_result"
    }
   ],
   "source": [
    "FITTER = ModelFitter(MODEL, OBS_TS, parametersToFit=[\"k1\", \"k2\"])\n",
    "FITTER.fitModel()\n",
    "FITTED_TS = FITTER.fittedTS\n",
    "PARAMETER_ESTIMATES = FITTER.params\n",
    "PARAMETER_ESTIMATES"
   ]
  },
  {
   "cell_type": "code",
   "execution_count": 10,
   "metadata": {},
   "outputs": [
    {
     "name": "stdout",
     "output_type": "stream",
     "text": [
      "[[Variables]]\n",
      "    k1:  0.10383942127357215\n",
      "    k2:  0.2003508781364749\n",
      "[[Fit Statistics]]\n",
      "    # fitting method   = leastsq\n",
      "    # function evals   = 16\n",
      "    # data points      = 90\n",
      "    # variables        = 2\n",
      "    chi-square         = 6.77994133\n",
      "    reduced chi-square = 0.07704479\n",
      "    Akaike info crit   = -228.725710\n",
      "    Bayesian info crit = -223.726091\n",
      "[[Correlations]] (unreported correlations are < 0.100)\n",
      "    C(k1, k2) = -0.403\n"
     ]
    }
   ],
   "source": [
    "print(FITTER.reportFit())"
   ]
  },
  {
   "cell_type": "code",
   "execution_count": 32,
   "metadata": {},
   "outputs": [
    {
     "data": {
      "image/png": "[encoded data removed]",
      "text/plain": [
       "<Figure size 576x432 with 3 Axes>"
      ]
     },
     "metadata": {
      "needs_background": "light"
     },
     "output_type": "display_data"
    }
   ],
   "source": [
    "FITTER.plotFitAll()"
   ]
  },
  {
   "cell_type": "markdown",
   "metadata": {},
   "source": [
    "**Question**\n",
    "1. What are the parameter estimates if the NOSE_STD is 0.8?"
   ]
  },
  {
   "cell_type": "markdown",
   "metadata": {},
   "source": [
    "## Compute the Residuals\n",
    "Residuals need to be calculated by chemical species since they may be in very different units."
   ]
  },
  {
   "cell_type": "code",
   "execution_count": 33,
   "metadata": {},
   "outputs": [
    {
     "data": {
      "text/plain": [
       "                  A         B         C\n",
       "time                                   \n",
       "0.000000   0.273324 -0.866487  0.140481\n",
       "1.034483   0.167963 -0.007289 -0.021935\n",
       "2.068966  -0.098984  0.095228  0.034528\n",
       "3.103448  -0.109275  0.357193  0.497195\n",
       "4.137931   0.506900  0.379853 -0.362039\n",
       "5.172414   0.487442  0.184339 -0.104011\n",
       "6.206897   0.080160  0.492799  0.218912\n",
       "7.241379  -0.439357 -0.250641 -0.416054\n",
       "8.275862   0.611926  0.075043 -0.074852\n",
       "9.310345   0.014476 -0.208892 -0.053906\n",
       "10.344828 -0.067232  0.106346  0.053554\n",
       "11.379310 -0.302077 -0.212354 -0.445441\n",
       "12.413793 -0.099250 -0.363387  0.165618\n",
       "13.448276  0.101096  0.014511 -0.090903\n",
       "14.482759  0.118531  0.006949 -0.125666\n",
       "15.517241 -0.311698 -0.432105  0.037384\n",
       "16.551724  0.659984  0.248817  0.033156\n",
       "17.586207 -0.425120 -0.029433  0.325356\n",
       "18.620690 -0.102410 -0.238592 -0.080400\n",
       "19.655172  0.375031 -0.022893 -0.011673\n",
       "20.689655  0.083561  0.084740  0.017767\n",
       "21.724138 -0.113639 -0.325026  0.376084\n",
       "22.758621 -0.206575  0.583847 -0.266734\n",
       "23.793103 -0.357701 -0.081979 -0.032076\n",
       "24.827586  0.019112  0.107159 -0.070181\n",
       "25.862069 -0.198819  0.199149  0.257534\n",
       "26.896552  0.085411  0.070546  0.501135\n",
       "27.931034  0.458590  0.278969  0.075853\n",
       "28.965517 -0.140662 -0.151606  0.168259\n",
       "30.000000  0.056912  0.084734 -0.045287"
      ]
     },
     "execution_count": 33,
     "metadata": {},
     "output_type": "execute_result"
    }
   ],
   "source": [
    "# Note that the residuals for the chemical species differ. Compare the residuals for A (1st col) with\n",
    "# the residuals for C (3rd col)\n",
    "columns = FITTED_TS.colnames\n",
    "RESIDUALS_TS = OBS_TS.copy()  # Create the shape of the residuals\n",
    "RESIDUALS_TS[columns] -= FITTED_TS[columns]\n",
    "RESIDUALS_TS"
   ]
  },
  {
   "cell_type": "code",
   "execution_count": 34,
   "metadata": {},
   "outputs": [
    {
     "data": {
      "text/plain": [
       "0.27355893724745634"
      ]
     },
     "execution_count": 34,
     "metadata": {},
     "output_type": "execute_result"
    }
   ],
   "source": [
    "# The standard deviation of the residuals should be approximately the same as the standard deviation\n",
    "# of the random noise we injected in the construction of the observations.\n",
    "np.std(RESIDUALS_TS.flatten())"
   ]
  },
  {
   "cell_type": "markdown",
   "metadata": {},
   "source": [
    "A validation of our codes and workflow is that the standard deviation of the residuals is close to the standard deviation of the noise used in the observational data."
   ]
  },
  {
   "cell_type": "markdown",
   "metadata": {},
   "source": [
    "## Construct a Collection of Parameter Estimates"
   ]
  },
  {
   "cell_type": "markdown",
   "metadata": {},
   "source": [
    "### Step 3a: Construct Synthetic Observations\n",
    "We define a function that constructs a set of observations from residuals and a model."
   ]
  },
  {
   "cell_type": "code",
   "execution_count": 47,
   "metadata": {},
   "outputs": [],
   "source": [
    "synthesizer = ObservationSynthesizerRandomizedResiduals(fittedTS=FITTED_TS, \n",
    "                                                        observedTS=OBS_TS)"
   ]
  },
  {
   "cell_type": "code",
   "execution_count": 49,
   "metadata": {},
   "outputs": [
    {
     "data": {
      "text/plain": [
       "                  A         B         C\n",
       "time                                   \n",
       "0.000000   5.085411  0.184339  0.325356\n",
       "1.034483   4.609272  0.377117  0.215780\n",
       "2.068966   3.966120  0.870229  0.218537\n",
       "3.103448   3.310850  1.079342  0.422210\n",
       "4.137931   3.272698  1.237311  0.919194\n",
       "5.172414   3.195526  1.819414  0.788326\n",
       "6.206897   2.681483  1.471743  1.600030\n",
       "7.241379   2.815843  1.066469  1.297204\n",
       "8.275862   2.492195  1.632919  1.795389\n",
       "9.310345   1.958438  1.283445  1.920102\n",
       "10.344828  1.268496  1.131018  2.051297\n",
       "11.379310  1.807229  1.106987  2.275154\n",
       "12.413793  1.237012  0.784320  2.533458\n",
       "13.448276  1.612387  1.460521  2.783249\n",
       "14.482759  1.002054  0.687832  2.913633\n",
       "15.517241  0.791563  0.826431  3.243995\n",
       "16.551724  1.169800  0.762014  2.972182\n",
       "17.586207  0.737937  0.275505  3.220487\n",
       "18.620690  0.737637  1.141880  3.793376\n",
       "19.655172  0.550256  0.586690  3.975428\n",
       "20.689655  0.158233  0.291787  3.820314\n",
       "21.724138  0.456705  0.874306  3.906758\n",
       "22.758621  0.977473  0.520549  3.953758\n",
       "23.793103  0.881234  0.158333  4.123094\n",
       "24.827586  0.991523  0.455959  4.168778\n",
       "25.862069  0.029237  0.585406  4.268571\n",
       "26.896552  0.325322  0.054246  4.426287\n",
       "27.931034  0.376118  0.768729  4.774404\n",
       "28.965517  0.734453  0.833378  4.423059\n",
       "30.000000  0.278764  0.196068  4.590031"
      ]
     },
     "execution_count": 49,
     "metadata": {},
     "output_type": "execute_result"
    }
   ],
   "source": [
    "synthesizer.calculate()"
   ]
  },
  {
   "cell_type": "code",
   "execution_count": 52,
   "metadata": {},
   "outputs": [
    {
     "data": {
      "image/png": "[encoded data removed]",
      "text/plain": [
       "<Figure size 432x288 with 3 Axes>"
      ]
     },
     "metadata": {
      "needs_background": "light"
     },
     "output_type": "display_data"
    }
   ],
   "source": [
    "size = 3\n",
    "fig, axes = plt.subplots(size)\n",
    "for idx in range(size):\n",
    "    ax = axes[idx]\n",
    "    residualsTS = synthesizer.calculate()\n",
    "    xvalues = residualsTS[\"time\"]\n",
    "    for col in residualsTS.colnames:\n",
    "        ax.scatter(xvalues, residualsTS[col])"
   ]
  },
  {
   "cell_type": "markdown",
   "metadata": {},
   "source": [
    "### Repeatedly estimate parameter values"
   ]
  },
  {
   "cell_type": "code",
   "execution_count": 53,
   "metadata": {},
   "outputs": [],
   "source": [
    "def estimateParameters(model, observedTS, parametersToFit, numIteration=10):\n",
    "    estimateDct = {p: [] for p in parametersToFit}\n",
    "    # Get the initial estimates\n",
    "    fitter = ModelFitter(model, observedTS, parametersToFit=parametersToFit)\n",
    "    fitter.fitModel()\n",
    "    initialParams = fitter.params\n",
    "    # Create the observation synthesizer\n",
    "    synthesizer = ObservationSynthesizerRandomizedResiduals(fittedTS=fitter.fittedTS, observedTS=observedTS)\n",
    "    # Iterative calculate parameters\n",
    "    for _ in range(numIteration):\n",
    "        newObservedTS = synthesizer.calculate()\n",
    "        newFitter = ModelFitter(model, newObservedTS, parametersToFit=parametersToFit)\n",
    "        newFitter.fitModel(params=initialParams)\n",
    "        [estimateDct[p].append(newFitter.params.valuesdict()[p]) for p in parametersToFit]\n",
    "    return estimateDct\n",
    "\n",
    "# Tests\n",
    "numIteration = 5\n",
    "estimateDct = estimateParameters(MODEL, OBS_TS, PARAMETERS_TO_FIT, numIteration=numIteration)\n",
    "assert(len(estimateDct[PARAMETERS_TO_FIT[0]]) == len(estimateDct[PARAMETERS_TO_FIT[1]]))\n",
    "assert(len(estimateDct[PARAMETERS_TO_FIT[0]]) == numIteration)"
   ]
  },
  {
   "cell_type": "code",
   "execution_count": 81,
   "metadata": {},
   "outputs": [
    {
     "data": {
      "image/png": "[encoded data removed]",
      "text/plain": [
       "<Figure size 432x288 with 1 Axes>"
      ]
     },
     "metadata": {
      "needs_background": "light"
     },
     "output_type": "display_data"
    }
   ],
   "source": [
    "_ = plt.hist(ESTIMATE_DCT[\"k1\"],bins=40)"
   ]
  },
  {
   "cell_type": "code",
   "execution_count": 82,
   "metadata": {},
   "outputs": [
    {
     "data": {
      "image/png": "[encoded data removed]",
      "text/plain": [
       "<Figure size 432x288 with 1 Axes>"
      ]
     },
     "metadata": {
      "needs_background": "light"
     },
     "output_type": "display_data"
    }
   ],
   "source": [
    "_ = plt.hist(ESTIMATE_DCT[\"k2\"],bins=40)"
   ]
  },
  {
   "cell_type": "markdown",
   "metadata": {},
   "source": [
    "**Questions**\n",
    "1. How do the quality of the parameter estimates change with the number of simulation points? With the simulation time?"
   ]
  },
  {
   "cell_type": "markdown",
   "metadata": {},
   "source": [
    "## Compute Confidence Intervals"
   ]
  },
  {
   "cell_type": "code",
   "execution_count": 18,
   "metadata": {},
   "outputs": [
    {
     "data": {
      "text/plain": [
       "array([0.9, 8.1])"
      ]
     },
     "execution_count": 18,
     "metadata": {},
     "output_type": "execute_result"
    }
   ],
   "source": [
    "np.quantile(range(10), [.10, .90])"
   ]
  },
  {
   "cell_type": "markdown",
   "metadata": {},
   "source": [
    "**Question**\n",
    "1. Calculate 95% confidence intervals for the parameters.\n",
    "   1. How many iterations should you use?"
   ]
  },
  {
   "cell_type": "markdown",
   "metadata": {},
   "source": [
    "### Solution"
   ]
  },
  {
   "cell_type": "code",
   "execution_count": 19,
   "metadata": {},
   "outputs": [
    {
     "name": "stdout",
     "output_type": "stream",
     "text": [
      "k1: [0.09064506 0.10490312]\n",
      "k2: [0.18840509 2.67777015]\n"
     ]
    }
   ],
   "source": [
    "# Solution\n",
    "for parameter in estimateDct.keys():\n",
    "    quantile = np.quantile(estimateDct[parameter], [0.025, 0.975])\n",
    "    print(\"%s: %s\" % (parameter, str(quantile)))"
   ]
  },
  {
   "cell_type": "markdown",
   "metadata": {},
   "source": [
    "**Questions**\n",
    "1. Why does ``k1`` have such a wide confidence interval?"
   ]
  },
  {
   "cell_type": "markdown",
   "metadata": {},
   "source": [
    "# Exercise\n",
    "\n",
    "TRUE MODEL:\n",
    "\n",
    "- A -> B\n",
    "- A -> C\n",
    "- B + C -> D\n",
    "\n",
    "All kinetics are mass action. The kinetics constants are (in order of the reactions): 0.5, 0.5, 1.0. The initial concentration of A is 5. Consider a time course of duration 30 with 20 points.\n",
    "\n",
    "\n",
    "1. Generate synthetic observations using this model using a normally distributed noise with a standard deviation\n",
    "of 0.1.\n",
    "1. Using the true model (the one above), find the $R^2$ values in a cross validation with 4 folds.\n",
    "1. Construct confidence intervals for the parameters."
   ]
  },
  {
   "cell_type": "code",
   "execution_count": 20,
   "metadata": {},
   "outputs": [],
   "source": [
    "# Model used in this example\n",
    "NEW_MODEL = \"\"\"\n",
    "     $A -> B; k1*$A\n",
    "     $A -> C; k2*$A\n",
    "     C -> D; k3*C\n",
    "     D + B -> $E; k4*D*B\n",
    "     \n",
    "     A = 5;\n",
    "     B = 10;\n",
    "     C = 8;\n",
    "     D = 4;\n",
    "     E = 2\n",
    "     k1 = 0.5\n",
    "     k2 = 0.1\n",
    "     k3 = 1.3;\n",
    "     k4 = 1;\n",
    "\"\"\""
   ]
  },
  {
   "cell_type": "code",
   "execution_count": 21,
   "metadata": {},
   "outputs": [],
   "source": [
    "# Solution: Constants\n",
    "NEW_NUM_POINT = 100\n",
    "NEW_END_TIME = 5\n",
    "NEW_NOISE_STD = 0.4"
   ]
  },
  {
   "cell_type": "code",
   "execution_count": 84,
   "metadata": {},
   "outputs": [
    {
     "data": {
      "image/png": "[encoded data removed]",
      "text/plain": [
       "<Figure size 432x288 with 1 Axes>"
      ]
     },
     "metadata": {
      "needs_background": "light"
     },
     "output_type": "display_data"
    }
   ],
   "source": [
    "# Plot of the ground truth model\n",
    "fittedTS = ModelFitter.runSimulation(roadrunner=NEW_MODEL, numPoint=NEW_NUM_POINT, endTime=NEW_END_TIME,\n",
    "                                     returnDataFrame=False)\n",
    "synthesizer = ObservationSynthesizerRandomErrors(fittedTS=fittedTS, std=0.0)\n",
    "_ = plotData(synthesizer.calculate())"
   ]
  },
  {
   "cell_type": "markdown",
   "metadata": {},
   "source": [
    "We are going to estimate the parameters ``k1``, ``k2``, ``k3``, and the constant value of ``A``."
   ]
  },
  {
   "cell_type": "code",
   "execution_count": 85,
   "metadata": {},
   "outputs": [],
   "source": [
    "NEW_PARAMETERS_TO_FIT = [\"k1\", \"k2\", \"k3\", \"A\"]"
   ]
  },
  {
   "cell_type": "markdown",
   "metadata": {},
   "source": [
    "## Generate randomized observations"
   ]
  },
  {
   "cell_type": "markdown",
   "metadata": {},
   "source": [
    "**Question**\n",
    "1. Generate data with 100 points over 30 s and a stardard deviation of 0.4."
   ]
  },
  {
   "cell_type": "code",
   "execution_count": 86,
   "metadata": {},
   "outputs": [
    {
     "data": {
      "image/png": "[encoded data removed]",
      "text/plain": [
       "<Figure size 432x288 with 1 Axes>"
      ]
     },
     "metadata": {
      "needs_background": "light"
     },
     "output_type": "display_data"
    }
   ],
   "source": [
    "# Solution\n",
    "\n",
    "fittedTS = ModelFitter.runSimulation(roadrunner=NEW_MODEL, numPoint=NEW_NUM_POINT, endTime=NEW_END_TIME,\n",
    "                                     returnDataFrame=False)\n",
    "synthesizer = ObservationSynthesizerRandomErrors(fittedTS=fittedTS, std=NEW_NOISE_STD)\n",
    "NEW_OBS_TS = synthesizer.calculate()\n",
    "_ = plotData(NEW_OBS_TS)"
   ]
  },
  {
   "cell_type": "markdown",
   "metadata": {},
   "source": [
    "**Questions**\n",
    "1. For what part of these data will it be difficult to estimate the dynamics and therefore the kinetics constants?"
   ]
  },
  {
   "cell_type": "markdown",
   "metadata": {},
   "source": [
    "## Construct a good fit of the model\n",
    "**Question**\n",
    "1. Find a good fit for the model.\n",
    "1. How good are the estimates relative to ground truth? If there are bad estimates, explain why.\n",
    "1. Plot the model using the estimated values."
   ]
  },
  {
   "cell_type": "code",
   "execution_count": 88,
   "metadata": {},
   "outputs": [
    {
     "name": "stdout",
     "output_type": "stream",
     "text": [
      "[[Variables]]\n",
      "    k1:  9.997313923005546\n",
      "    k2:  1.8575882419294727\n",
      "    k3:  1.3186808124924454\n",
      "    A:  0.24706730220260098\n",
      "[[Fit Statistics]]\n",
      "    # fitting method   = leastsq\n",
      "    # function evals   = 39\n",
      "    # data points      = 300\n",
      "    # variables        = 4\n",
      "    chi-square         = 45.0316674\n",
      "    reduced chi-square = 0.15213401\n",
      "    Akaike info crit   = -560.924954\n",
      "    Bayesian info crit = -546.109824\n",
      "[[Correlations]] (unreported correlations are < 0.100)\n",
      "    C(k1, A)  = -1.000\n",
      "    C(k1, k2) =  1.000\n",
      "    C(k2, A)  = -1.000\n"
     ]
    }
   ],
   "source": [
    "# Solution\n",
    "NEW_FITTER = ModelFitter(NEW_MODEL, NEW_OBS_TS, parametersToFit=NEW_PARAMETERS_TO_FIT)\n",
    "NEW_FITTER.fitModel()\n",
    "NEW_FITTED_TS = NEW_FITTER.fittedTS\n",
    "NEW_PARAMETER_ESTIMATES = NEW_FITTER.params\n",
    "print(NEW_FITTER.reportFit())"
   ]
  },
  {
   "cell_type": "code",
   "execution_count": 26,
   "metadata": {},
   "outputs": [
    {
     "data": {
      "image/png": "[encoded data removed]",
      "text/plain": [
       "<Figure size 432x288 with 1 Axes>"
      ]
     },
     "metadata": {
      "needs_background": "light"
     },
     "output_type": "display_data"
    }
   ],
   "source": [
    "fittedTS = ModelFitter.runSimulation(roadrunner=NEW_MODEL, numPoint=NEW_NUM_POINT, endTime=NEW_END_TIME,\n",
    "                                     returnDataFrame=False, parameters=NEW_PARAMETER_ESTIMATES)\n",
    "_ = plotData(fittedTS)"
   ]
  },
  {
   "cell_type": "markdown",
   "metadata": {},
   "source": [
    "## Estimate the residuals"
   ]
  },
  {
   "cell_type": "markdown",
   "metadata": {},
   "source": [
    "## Construct bootstrap estimates"
   ]
  },
  {
   "cell_type": "markdown",
   "metadata": {},
   "source": [
    "# Bootstrapping With SBstoat"
   ]
  },
  {
   "cell_type": "code",
   "execution_count": 83,
   "metadata": {},
   "outputs": [
    {
     "name": "stdout",
     "output_type": "stream",
     "text": [
      "\n",
      "\n",
      "\n",
      "6223.519551: ***Running bootstrap for 500 successful iterations with 2 processes.***\n",
      "\n",
      "6230.113761:     (Bootstrap completed 100 total iterations with 100 successes.)\n",
      "\n",
      "6230.934870:     (Process 1: Fit has high chisq: 2214.00 on iteration 56.)\n",
      "\n",
      "6233.123722:     (Process 0: Fit has high chisq: 4529.88 on iteration 72.)\n",
      "\n",
      "6236.695627:     (Bootstrap completed 200 total iterations with 198 successes.)\n",
      "\n",
      "6238.488367:     (Process 0: Fit has high chisq: 5029.01 on iteration 112.)\n",
      "\n",
      "6241.583924:     (Process 0: Fit has high chisq: 1013.41 on iteration 136.)\n",
      "\n",
      "6243.482206:     (Bootstrap completed 300 total iterations with 294 successes.)\n",
      "\n",
      "6247.016428:     (Process 1: Fit has high chisq: 3781.53 on iteration 175.)\n",
      "\n",
      "6247.203895:     (Process 1: Fit has high chisq: 3314.53 on iteration 176.)\n",
      "\n",
      "6248.319257:     (Process 1: Fit has high chisq: 4775.11 on iteration 184.)\n",
      "\n",
      "6250.095834:     (Bootstrap completed 400 total iterations with 394 successes.)\n",
      "\n",
      "6250.402648:     (Process 0: Fit has high chisq: 5236.64 on iteration 201.)\n",
      "\n",
      "6257.325278:     (Bootstrap completed 500 total iterations with 492 successes.)\n",
      "\n",
      "6257.848278:     (Process 1: completed bootstrap.)\n",
      "\n",
      "6258.085261:     (Process 2: completed bootstrap.)\n",
      "\n",
      "\n",
      "6258.131831: \n",
      " **500 bootstrap estimates of parameters.\n",
      "\n",
      "\n",
      "\n",
      "6258.134286: ***\n",
      "Bootstrap Report.\n",
      "Total iterations: 500\n",
      "Total simulation: 500\n",
      "k1\n",
      "  mean: 7.525322262039575\n",
      "  std: 3.223946105175395\n",
      "  [2.5, 50, 97.55] Percentiles: [0.51653464 9.72320115 9.99914096]\n",
      "k2\n",
      "  mean: 1.5913669842477924\n",
      "  std: 0.7142263463235138\n",
      "  [2.5, 50, 97.55] Percentiles: [0.09183753 1.8333915  2.5605429 ]\n",
      "k3\n",
      "  mean: 1.3173483934416639\n",
      "  std: 0.03842818033955688\n",
      "  [2.5, 50, 97.55] Percentiles: [1.24061783 1.31797711 1.39327246]\n",
      "A\n",
      "  mean: 0.6997907635534686\n",
      "  std: 1.232108062580263\n",
      "  [2.5, 50, 97.55] Percentiles: [0.24744367 0.26747772 4.9598516 ]***\n",
      "None\n"
     ]
    }
   ],
   "source": [
    "NEW_FITTER = ModelFitter(NEW_MODEL, NEW_OBS_TS, parametersToFit=NEW_PARAMETERS_TO_FIT)\n",
    "NEW_FITTER.fitModel()\n",
    "NEW_FITTER.bootstrap(numIteration=500, reportInterval=100)\n",
    "print(NEW_FITTER.reportBootstrap())"
   ]
  }
 ],
 "metadata": {
  "kernelspec": {
   "display_name": "Python 3",
   "language": "python",
   "name": "python3"
  },
  "language_info": {
   "codemirror_mode": {
    "name": "ipython",
    "version": 3
   },
   "file_extension": ".py",
   "mimetype": "text/x-python",
   "name": "python",
   "nbconvert_exporter": "python",
   "pygments_lexer": "ipython3",
   "version": "3.6.9"
  },
  "toc-autonumbering": true
 },
 "nbformat": 4,
 "nbformat_minor": 4
}
