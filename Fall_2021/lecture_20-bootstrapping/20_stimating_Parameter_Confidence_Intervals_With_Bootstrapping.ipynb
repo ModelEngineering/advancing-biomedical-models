{
 "cells": [
  {
   "cell_type": "markdown",
   "metadata": {},
   "source": [
    "<span style=\"font-family:Papyrus; font-size:3em;\" >Estimating Parameter Confidence Intervals With Bootstrapping</span>"
   ]
  },
  {
   "cell_type": "markdown",
   "metadata": {},
   "source": [
    "This notebook demonstrates the calculations required to do confidence interval constructions.\n",
    "1. Construct a good model. This means checking that we get good $R^2$ values (or other model quality metrics) for each fold in a cross validation.\n",
    "1. Compute residuals for the good model.\n",
    "1. Construct a collection of parameter estimates. That is, for many repetitions\n",
    "   1. Construct new observations (by using randomly selected residuals)\n",
    "   1. Estimate parameter values\n",
    "1. Construct the confidence interval"
   ]
  },
  {
   "cell_type": "markdown",
   "metadata": {},
   "source": [
    "# Preliminaries"
   ]
  },
  {
   "cell_type": "markdown",
   "metadata": {},
   "source": [
    "## Imports"
   ]
  },
  {
   "cell_type": "code",
   "execution_count": 1,
   "metadata": {},
   "outputs": [],
   "source": [
    "%matplotlib inline\n",
    "import numpy as np\n",
    "import lmfit   # Fitting lib\n",
    "import pandas as pd\n",
    "import matplotlib.pyplot as plt\n",
    "import matplotlib\n",
    "try:\n",
    "    import tellurium as te\n",
    "except:\n",
    "    !pip install tellurium\n",
    "    import tellurium as te\n",
    "try:\n",
    "    import SBstoat\n",
    "except:\n",
    "    !pip install SBstoat\n",
    "from SBstoat.modelFitter import ModelFitter\n",
    "from SBstoat.observationSynthesizer import ObservationSynthesizerRandomizedResiduals, ObservationSynthesizerRandomErrors\n",
    "from SBstoat.namedTimeseries import NamedTimeseries"
   ]
  },
  {
   "cell_type": "markdown",
   "metadata": {},
   "source": [
    "## Constants"
   ]
  },
  {
   "cell_type": "code",
   "execution_count": 2,
   "metadata": {},
   "outputs": [],
   "source": [
    "TIME = \"time\""
   ]
  },
  {
   "cell_type": "markdown",
   "metadata": {},
   "source": [
    "# Model and Data"
   ]
  },
  {
   "cell_type": "code",
   "execution_count": 3,
   "metadata": {},
   "outputs": [],
   "source": [
    "# Model used in this example\n",
    "MODEL = \"\"\"\n",
    "     A -> B; k1*A\n",
    "     B -> C; k2*B\n",
    "      \n",
    "     A = 5;\n",
    "     B = 0;\n",
    "     C = 0;\n",
    "     k1 = 0.1\n",
    "     k2 = 0.2\n",
    "\"\"\"\n",
    "PARAMETERS_TO_FIT = [\"k1\", \"k2\"]"
   ]
  },
  {
   "cell_type": "code",
   "execution_count": 4,
   "metadata": {},
   "outputs": [],
   "source": [
    "# Globals\n",
    "NUM_POINT = 30\n",
    "SIM_TIME= 30\n",
    "NOISE_STD = 0.3"
   ]
  },
  {
   "cell_type": "code",
   "execution_count": 5,
   "metadata": {},
   "outputs": [
    {
     "data": {
      "text/plain": [
       "                  A         B         C\n",
       "time                                   \n",
       "0.000000   4.868550 -0.428328 -0.415006\n",
       "1.034483   4.190362  0.009587  0.209413\n",
       "2.068966   3.584250  0.985514 -0.497407\n",
       "3.103448   3.933760  0.970888  1.154624\n",
       "4.137931   3.235357  0.978467  0.655516\n",
       "5.172414   3.115288  1.047640  0.733384\n",
       "6.206897   2.338102  0.990259  1.179503\n",
       "7.241379   2.717891  0.800329  1.125861\n",
       "8.275862   2.762997  1.876287  1.694927\n",
       "9.310345   1.714410  1.317236  1.919978\n",
       "10.344828  1.707282  1.054592  2.270499\n",
       "11.379310  2.070734  1.006258  3.097732\n",
       "12.413793  2.071970  0.883794  1.698859\n",
       "13.448276  1.359836  0.863108  3.478951\n",
       "14.482759  0.736717  0.758204  2.849178\n",
       "15.517241  1.509430  0.836820  3.133427\n",
       "16.551724  1.036936  0.970456  3.693582\n",
       "17.586207  1.027242  0.967630  2.915263\n",
       "18.620690  0.568375  0.183015  3.467004\n",
       "19.655172  0.537970  1.415971  3.433362\n",
       "20.689655  0.233748  0.441643  3.668992\n",
       "21.724138  1.012224  0.815747  4.123074\n",
       "22.758621  0.374365  0.378975  4.193787\n",
       "23.793103  0.211572  0.127279  4.163955\n",
       "24.827586  0.875802  0.282833  4.310994\n",
       "25.862069  0.287134 -0.051136  4.668208\n",
       "26.896552  0.755207  0.389770  5.081247\n",
       "27.931034  0.355195  0.132285  4.826024\n",
       "28.965517 -0.098694  0.332573  4.627352\n",
       "30.000000 -0.156845 -0.102384  4.643143"
      ]
     },
     "execution_count": 5,
     "metadata": {},
     "output_type": "execute_result"
    }
   ],
   "source": [
    "rr = te.loada(MODEL)\n",
    "fittedData = rr.simulate(0, SIM_TIME, NUM_POINT)\n",
    "fittedTS = NamedTimeseries(namedArray=fittedData)\n",
    "synthesizer = ObservationSynthesizerRandomErrors(fittedTS=fittedTS, std=NOISE_STD)\n",
    "OBS_TS = synthesizer.calculate()\n",
    "OBS_TS"
   ]
  },
  {
   "cell_type": "code",
   "execution_count": 6,
   "metadata": {},
   "outputs": [
    {
     "data": {
      "text/plain": [
       "<Figure size 432x288 with 0 Axes>"
      ]
     },
     "metadata": {},
     "output_type": "display_data"
    }
   ],
   "source": [
    "def plotData(observedTS):\n",
    "    \"\"\"\n",
    "    Creates a scatter plot of the observed data.\n",
    "    \n",
    "    Parameters\n",
    "    ----------\n",
    "    observedTS: NamedTimeseries\n",
    "    \n",
    "    Returns\n",
    "    -------\n",
    "    \n",
    "    \"\"\"\n",
    "    figure, ax = plt.subplots(1)\n",
    "    for column in observedTS.colnames:\n",
    "        _ = ax.scatter(observedTS[TIME], observedTS[column])\n",
    "    _ = plt.legend(observedTS.colnames)\n",
    "    return figure\n",
    "        \n",
    "# Tests\n",
    "figure = plotData(OBS_TS)\n",
    "assert(isinstance(figure, matplotlib.figure.Figure))\n",
    "_ = figure.clear()"
   ]
  },
  {
   "cell_type": "code",
   "execution_count": 7,
   "metadata": {},
   "outputs": [
    {
     "data": {
      "image/png": "[encoded data removed]",
      "text/plain": [
       "<Figure size 432x288 with 1 Axes>"
      ]
     },
     "metadata": {
      "needs_background": "light"
     },
     "output_type": "display_data"
    }
   ],
   "source": [
    "_ = plotData(OBS_TS)"
   ]
  },
  {
   "cell_type": "markdown",
   "metadata": {},
   "source": [
    "# Bootstrapping Workflow"
   ]
  },
  {
   "cell_type": "markdown",
   "metadata": {},
   "source": [
    "## Construct a good model."
   ]
  },
  {
   "cell_type": "markdown",
   "metadata": {},
   "source": [
    "First, we need to estimate the parameter values to use in our model. To this end, we do a fit on the full set of data."
   ]
  },
  {
   "cell_type": "code",
   "execution_count": 8,
   "metadata": {},
   "outputs": [
    {
     "data": {
      "text/html": [
       "<table><tr><th> name </th><th> value </th><th> initial value </th><th> min </th><th> max </th><th> vary </th></tr><tr><td> k1 </td><td>  0.09952752 </td><td> 5.0 </td><td> -1.0000e-03 </td><td>  10.0000000 </td><td> True </td></tr><tr><td> k2 </td><td>  0.21551891 </td><td> 5.0 </td><td> -1.0000e-03 </td><td>  10.0000000 </td><td> True </td></tr></table>"
      ],
      "text/plain": [
       "Parameters([('k1',\n",
       "             <Parameter 'k1', value=0.09952751571302786, bounds=[-0.001:10]>),\n",
       "            ('k2',\n",
       "             <Parameter 'k2', value=0.2155189128390689, bounds=[-0.001:10]>)])"
      ]
     },
     "execution_count": 8,
     "metadata": {},
     "output_type": "execute_result"
    }
   ],
   "source": [
    "FITTER = ModelFitter(MODEL, OBS_TS, parametersToFit=[\"k1\", \"k2\"])\n",
    "FITTER.fitModel()\n",
    "FITTED_TS = FITTER.fittedTS\n",
    "PARAMETER_ESTIMATES = FITTER.params\n",
    "PARAMETER_ESTIMATES"
   ]
  },
  {
   "cell_type": "code",
   "execution_count": 9,
   "metadata": {},
   "outputs": [
    {
     "name": "stdout",
     "output_type": "stream",
     "text": [
      "[[Variables]]\n",
      "    k1:  0.09952751571302786\n",
      "    k2:  0.2155189128390689\n",
      "[[Fit Statistics]]\n",
      "    # fitting method   = leastsq\n",
      "    # function evals   = 4\n",
      "    # data points      = 90\n",
      "    # variables        = 2\n",
      "    chi-square         = 10.7120094\n",
      "    reduced chi-square = 0.12172738\n",
      "    Akaike info crit   = -187.559977\n",
      "    Bayesian info crit = -182.560358\n",
      "[[Correlations]] (unreported correlations are < 0.100)\n",
      "    C(k1, k2) = -0.406\n"
     ]
    }
   ],
   "source": [
    "print(FITTER.reportFit())"
   ]
  },
  {
   "cell_type": "code",
   "execution_count": 10,
   "metadata": {},
   "outputs": [
    {
     "data": {
      "image/png": "[encoded data removed]",
      "text/plain": [
       "<Figure size 576x432 with 3 Axes>"
      ]
     },
     "metadata": {
      "needs_background": "light"
     },
     "output_type": "display_data"
    }
   ],
   "source": [
    "FITTER.plotFitAll()"
   ]
  },
  {
   "cell_type": "markdown",
   "metadata": {},
   "source": [
    "**Question**\n",
    "1. What are the parameter estimates if the NOSE_STD is 0.8?"
   ]
  },
  {
   "cell_type": "markdown",
   "metadata": {},
   "source": [
    "## Compute the Residuals\n",
    "Residuals need to be calculated by chemical species since they may be in very different units."
   ]
  },
  {
   "cell_type": "code",
   "execution_count": 11,
   "metadata": {},
   "outputs": [
    {
     "data": {
      "text/plain": [
       "                  A         B         C\n",
       "time                                   \n",
       "0.000000  -0.131450 -0.428328 -0.415006\n",
       "1.034483  -0.320455 -0.428063  0.157880\n",
       "2.068966  -0.485245  0.240494 -0.682893\n",
       "3.103448   0.262410  0.018555  0.778307\n",
       "4.137931  -0.076801 -0.104900  0.051040\n",
       "5.172414   0.127180 -0.109132 -0.121735\n",
       "6.206897  -0.357660 -0.196882  0.062407\n",
       "7.241379   0.285873 -0.385526 -0.256266\n",
       "8.275862   0.568918  0.714547  0.050745\n",
       "9.310345  -0.265008  0.195619  0.021013\n",
       "10.344828 -0.078476 -0.016132  0.126982\n",
       "11.379310  0.459689 -0.006794  0.721830\n",
       "12.413793  0.618543 -0.067817 -0.896102\n",
       "13.448276  0.048607 -0.025546  0.678834\n",
       "14.482759 -0.446226 -0.067628 -0.142047\n",
       "15.517241  0.442222  0.072485 -0.035029\n",
       "16.551724  0.074140  0.265457  0.361377\n",
       "17.586207  0.158643  0.319249 -0.567756\n",
       "18.620690 -0.215243 -0.411818 -0.154544\n",
       "19.655172 -0.168982  0.871423 -0.315138\n",
       "20.689655 -0.404039 -0.055959 -0.195620\n",
       "21.724138  0.436836  0.361763  0.152446\n",
       "22.758621 -0.144728 -0.034646  0.126502\n",
       "23.793103 -0.256735 -0.249117  0.008659\n",
       "24.827586  0.453312 -0.059333  0.075650\n",
       "25.862069 -0.094021 -0.361902  0.360130\n",
       "26.896552  0.411343  0.107747  0.707135\n",
       "27.931034  0.044973 -0.123476  0.392007\n",
       "28.965517 -0.378565  0.100772  0.139024\n",
       "30.000000 -0.409334 -0.312358  0.105606"
      ]
     },
     "execution_count": 11,
     "metadata": {},
     "output_type": "execute_result"
    }
   ],
   "source": [
    "# Note that the residuals for the chemical species differ. Compare the residuals for A (1st col) with\n",
    "# the residuals for C (3rd col)\n",
    "columns = FITTED_TS.colnames\n",
    "RESIDUALS_TS = OBS_TS.copy()  # Create the shape of the residuals\n",
    "RESIDUALS_TS[columns] -= FITTED_TS[columns]\n",
    "RESIDUALS_TS"
   ]
  },
  {
   "cell_type": "code",
   "execution_count": 12,
   "metadata": {},
   "outputs": [
    {
     "data": {
      "text/plain": [
       "0.3447038082421376"
      ]
     },
     "execution_count": 12,
     "metadata": {},
     "output_type": "execute_result"
    }
   ],
   "source": [
    "# The standard deviation of the residuals should be approximately the same as the standard deviation\n",
    "# of the random noise we injected in the construction of the observations.\n",
    "np.std(RESIDUALS_TS.flatten())"
   ]
  },
  {
   "cell_type": "markdown",
   "metadata": {},
   "source": [
    "A validation of our codes and workflow is that the standard deviation of the residuals is close to the standard deviation of the noise used in the observational data."
   ]
  },
  {
   "cell_type": "markdown",
   "metadata": {},
   "source": [
    "## Construct a Collection of Parameter Estimates"
   ]
  },
  {
   "cell_type": "markdown",
   "metadata": {},
   "source": [
    "### Step 3a: Construct Synthetic Observations\n",
    "We define a function that constructs a set of observations from residuals and a model."
   ]
  },
  {
   "cell_type": "code",
   "execution_count": 13,
   "metadata": {},
   "outputs": [],
   "source": [
    "synthesizer = ObservationSynthesizerRandomizedResiduals(fittedTS=FITTED_TS, \n",
    "                                                        observedTS=OBS_TS)"
   ]
  },
  {
   "cell_type": "code",
   "execution_count": 14,
   "metadata": {},
   "outputs": [
    {
     "data": {
      "text/plain": [
       "                  A         B         C\n",
       "time                                   \n",
       "0.000000   4.784757  0.195619  0.126982\n",
       "1.034483   4.922160  0.314174 -0.516223\n",
       "2.068966   4.331905  0.738226 -0.070781\n",
       "3.103448   4.240268  0.917687 -0.191439\n",
       "4.137931   2.902824  1.048721  0.482740\n",
       "5.172414   2.894087  1.149978  0.981621\n",
       "6.206897   2.375307  0.825240  1.274976\n",
       "7.241379   2.353542  0.988972  1.403140\n",
       "8.275862   2.352721  1.523503  1.329044\n",
       "9.310345   1.885396  1.053800  1.949710\n",
       "10.344828  1.465303  1.171496  2.249123\n",
       "11.379310  1.479596  0.987506  2.384561\n",
       "12.413793  1.527566  1.192106  2.440418\n",
       "13.448276  1.095985  0.907209  2.875767\n",
       "14.482759  0.804378  1.145081  3.053633\n",
       "15.517241  0.746753  0.959954  3.026409\n",
       "16.551724  0.642341  1.419545  3.353218\n",
       "17.586207  0.790123  0.589048  3.843149\n",
       "18.620690  0.706818  0.790452  3.773993\n",
       "19.655172  0.992825  0.232191  3.799540\n",
       "20.689655  0.233748  0.516157  3.885624\n",
       "21.724138  0.861261  0.554756  3.287736\n",
       "22.758621  0.350111  0.486105  3.752148\n",
       "23.793103  0.391506  0.616891  3.472403\n",
       "24.827586  1.041033  1.056713  3.667588\n",
       "25.862069  0.236427  0.201634  3.625186\n",
       "26.896552 -0.141381  0.032906  4.526558\n",
       "27.931034  0.165493  0.248966  4.496425\n",
       "28.965517  0.014863 -0.196527  4.453299\n",
       "30.000000  0.705801  0.203180  4.502508"
      ]
     },
     "execution_count": 14,
     "metadata": {},
     "output_type": "execute_result"
    }
   ],
   "source": [
    "synthesizer.calculate()"
   ]
  },
  {
   "cell_type": "code",
   "execution_count": 15,
   "metadata": {},
   "outputs": [
    {
     "data": {
      "image/png": "[encoded data removed]",
      "text/plain": [
       "<Figure size 432x288 with 3 Axes>"
      ]
     },
     "metadata": {
      "needs_background": "light"
     },
     "output_type": "display_data"
    }
   ],
   "source": [
    "size = 3\n",
    "fig, axes = plt.subplots(size)\n",
    "for idx in range(size):\n",
    "    ax = axes[idx]\n",
    "    residualsTS = synthesizer.calculate()\n",
    "    xvalues = residualsTS[\"time\"]\n",
    "    for col in residualsTS.colnames:\n",
    "        ax.scatter(xvalues, residualsTS[col])"
   ]
  },
  {
   "cell_type": "markdown",
   "metadata": {},
   "source": [
    "### Repeatedly estimate parameter values"
   ]
  },
  {
   "cell_type": "code",
   "execution_count": 16,
   "metadata": {},
   "outputs": [],
   "source": [
    "def estimateParameters(model, observedTS, parametersToFit, numIteration=10):\n",
    "    estimateDct = {p: [] for p in parametersToFit}\n",
    "    # Get the initial estimates\n",
    "    fitter = ModelFitter(model, observedTS, parametersToFit=parametersToFit)\n",
    "    fitter.fitModel()\n",
    "    initialParams = fitter.params\n",
    "    # Create the observation synthesizer\n",
    "    synthesizer = ObservationSynthesizerRandomizedResiduals(fittedTS=fitter.fittedTS, observedTS=observedTS)\n",
    "    # Iterative calculate parameters\n",
    "    for _ in range(numIteration):\n",
    "        newObservedTS = synthesizer.calculate()\n",
    "        newFitter = ModelFitter(model, newObservedTS, parametersToFit=parametersToFit)\n",
    "        newFitter.fitModel(params=initialParams)\n",
    "        [estimateDct[p].append(newFitter.params.valuesdict()[p]) for p in parametersToFit]\n",
    "    return estimateDct\n",
    "\n",
    "# Tests\n",
    "numIteration = 5\n",
    "estimateDct = estimateParameters(MODEL, OBS_TS, PARAMETERS_TO_FIT, numIteration=numIteration)\n",
    "assert(len(estimateDct[PARAMETERS_TO_FIT[0]]) == len(estimateDct[PARAMETERS_TO_FIT[1]]))\n",
    "assert(len(estimateDct[PARAMETERS_TO_FIT[0]]) == numIteration)"
   ]
  },
  {
   "cell_type": "code",
   "execution_count": 17,
   "metadata": {},
   "outputs": [
    {
     "data": {
      "image/png": "[encoded data removed]",
      "text/plain": [
       "<Figure size 432x288 with 1 Axes>"
      ]
     },
     "metadata": {
      "needs_background": "light"
     },
     "output_type": "display_data"
    }
   ],
   "source": [
    "numIteration = 20\n",
    "estimateDct = estimateParameters(MODEL, OBS_TS, PARAMETERS_TO_FIT, numIteration=numIteration)\n",
    "_ = plt.hist(estimateDct[\"k1\"],bins=40)"
   ]
  },
  {
   "cell_type": "markdown",
   "metadata": {},
   "source": [
    "**Questions**\n",
    "1. How do the quality of the parameter estimates change with the number of simulation points? With the simulation time?"
   ]
  },
  {
   "cell_type": "markdown",
   "metadata": {},
   "source": [
    "## Compute Confidence Intervals"
   ]
  },
  {
   "cell_type": "code",
   "execution_count": 18,
   "metadata": {},
   "outputs": [
    {
     "data": {
      "text/plain": [
       "array([0.9, 8.1])"
      ]
     },
     "execution_count": 18,
     "metadata": {},
     "output_type": "execute_result"
    }
   ],
   "source": [
    "np.quantile(range(10), [.10, .90])"
   ]
  },
  {
   "cell_type": "markdown",
   "metadata": {},
   "source": [
    "**Question**\n",
    "1. Calculate 95% confidence intervals for the parameters.\n",
    "   1. How many iterations should you use?"
   ]
  },
  {
   "cell_type": "markdown",
   "metadata": {},
   "source": [
    "### Solution"
   ]
  },
  {
   "cell_type": "code",
   "execution_count": 19,
   "metadata": {},
   "outputs": [
    {
     "name": "stdout",
     "output_type": "stream",
     "text": [
      "k1: [0.09540149 0.10511288]\n",
      "k2: [0.20163026 0.25672897]\n"
     ]
    }
   ],
   "source": [
    "# Solution\n",
    "for parameter in estimateDct.keys():\n",
    "    quantile = np.quantile(estimateDct[parameter], [0.025, 0.975])\n",
    "    print(\"%s: %s\" % (parameter, str(quantile)))"
   ]
  },
  {
   "cell_type": "markdown",
   "metadata": {},
   "source": [
    "**Questions**\n",
    "1. Why does ``k1`` have such a wide confidence interval?"
   ]
  },
  {
   "cell_type": "markdown",
   "metadata": {},
   "source": [
    "# Exercise\n",
    "\n",
    "TRUE MODEL:\n",
    "\n",
    "- A -> B\n",
    "- A -> C\n",
    "- B + C -> D\n",
    "\n",
    "All kinetics are mass action. The kinetics constants are (in order of the reactions): 0.5, 0.5, 1.0. The initial concentration of A is 5. Consider a time course of duration 30 with 20 points.\n",
    "\n",
    "\n",
    "1. Generate synthetic observations using this model using a normally distributed noise with a standard deviation\n",
    "of 0.1.\n",
    "1. Using the true model (the one above), find the $R^2$ values in a cross validation with 4 folds.\n",
    "1. Construct confidence intervals for the parameters."
   ]
  },
  {
   "cell_type": "code",
   "execution_count": 20,
   "metadata": {},
   "outputs": [],
   "source": [
    "# Model used in this example\n",
    "NEW_MODEL = \"\"\"\n",
    "     $A -> B; k1*$A\n",
    "     $A -> C; k2*$A\n",
    "     C -> D; k3*C\n",
    "     D + B -> $E; k4*D*B\n",
    "     \n",
    "     A = 5;\n",
    "     B = 10;\n",
    "     C = 8;\n",
    "     D = 4;\n",
    "     E = 2\n",
    "     k1 = 0.5\n",
    "     k2 = 0.1\n",
    "     k3 = 1.3;\n",
    "     k4 = 1;\n",
    "\"\"\""
   ]
  },
  {
   "cell_type": "code",
   "execution_count": 21,
   "metadata": {},
   "outputs": [],
   "source": [
    "# Solution: Constants\n",
    "NEW_NUM_POINT = 100\n",
    "NEW_END_TIME = 5\n",
    "NEW_NOISE_STD = 0.4"
   ]
  },
  {
   "cell_type": "code",
   "execution_count": 22,
   "metadata": {},
   "outputs": [
    {
     "data": {
      "image/png": "[encoded data removed]",
      "text/plain": [
       "<Figure size 432x288 with 1 Axes>"
      ]
     },
     "metadata": {
      "needs_background": "light"
     },
     "output_type": "display_data"
    }
   ],
   "source": [
    "# Plot of the ground truth model\n",
    "fittedTS = ModelFitter.runSimulation(modelSpecification=NEW_MODEL, numPoint=NEW_NUM_POINT, endTime=NEW_END_TIME)\n",
    "synthesizer = ObservationSynthesizerRandomErrors(fittedTS=fittedTS, std=0.0)\n",
    "_ = plotData(synthesizer.calculate())"
   ]
  },
  {
   "cell_type": "markdown",
   "metadata": {},
   "source": [
    "We are going to estimate the parameters ``k1``, ``k2``, ``k3``, and the constant value of ``A``."
   ]
  },
  {
   "cell_type": "code",
   "execution_count": 23,
   "metadata": {},
   "outputs": [],
   "source": [
    "NEW_PARAMETERS_TO_FIT = [\"k1\", \"k2\", \"k3\", \"A\"]"
   ]
  },
  {
   "cell_type": "markdown",
   "metadata": {},
   "source": [
    "## Generate randomized observations"
   ]
  },
  {
   "cell_type": "markdown",
   "metadata": {},
   "source": [
    "**Question**\n",
    "1. Generate data with 100 points over 30 s and a stardard deviation of 0.4."
   ]
  },
  {
   "cell_type": "code",
   "execution_count": 24,
   "metadata": {},
   "outputs": [
    {
     "data": {
      "image/png": "[encoded data removed]",
      "text/plain": [
       "<Figure size 432x288 with 1 Axes>"
      ]
     },
     "metadata": {
      "needs_background": "light"
     },
     "output_type": "display_data"
    }
   ],
   "source": [
    "# Solution\n",
    "\n",
    "fittedTS = ModelFitter.runSimulation(modelSpecification=NEW_MODEL, numPoint=NEW_NUM_POINT, endTime=NEW_END_TIME)\n",
    "synthesizer = ObservationSynthesizerRandomErrors(fittedTS=fittedTS, std=NEW_NOISE_STD)\n",
    "NEW_OBS_TS = synthesizer.calculate()\n",
    "_ = plotData(NEW_OBS_TS)"
   ]
  },
  {
   "cell_type": "markdown",
   "metadata": {},
   "source": [
    "**Questions**\n",
    "1. For what part of these data will it be difficult to estimate the dynamics and therefore the kinetics constants?"
   ]
  },
  {
   "cell_type": "markdown",
   "metadata": {},
   "source": [
    "## Construct a good fit of the model\n",
    "**Question**\n",
    "1. Find a good fit for the model.\n",
    "1. How good are the estimates relative to ground truth? If there are bad estimates, explain why.\n",
    "1. Plot the model using the estimated values."
   ]
  },
  {
   "cell_type": "code",
   "execution_count": 25,
   "metadata": {},
   "outputs": [
    {
     "name": "stdout",
     "output_type": "stream",
     "text": [
      "[[Variables]]\n",
      "    k1:  3.2437376097875172\n",
      "    k2:  0.5775451650336212\n",
      "    k3:  1.2889817505988663\n",
      "    A:  0.7594564333510013\n",
      "[[Fit Statistics]]\n",
      "    # fitting method   = leastsq\n",
      "    # function evals   = 14\n",
      "    # data points      = 300\n",
      "    # variables        = 4\n",
      "    chi-square         = 46.1917195\n",
      "    reduced chi-square = 0.15605311\n",
      "    Akaike info crit   = -553.294577\n",
      "    Bayesian info crit = -538.479447\n",
      "[[Correlations]] (unreported correlations are < 0.100)\n",
      "    C(k1, A)  = -1.000\n",
      "    C(k1, k2) =  1.000\n",
      "    C(k2, A)  = -1.000\n",
      "    C(k2, k3) =  0.306\n",
      "    C(k1, k3) =  0.303\n",
      "    C(k3, A)  = -0.303\n"
     ]
    }
   ],
   "source": [
    "# Solution\n",
    "NEW_FITTER = ModelFitter(NEW_MODEL, NEW_OBS_TS, parametersToFit=NEW_PARAMETERS_TO_FIT)\n",
    "NEW_FITTER.fitModel()\n",
    "NEW_FITTED_TS = NEW_FITTER.fittedTS\n",
    "NEW_PARAMETER_ESTIMATES = NEW_FITTER.params\n",
    "print(NEW_FITTER.reportFit())"
   ]
  },
  {
   "cell_type": "code",
   "execution_count": 26,
   "metadata": {},
   "outputs": [
    {
     "data": {
      "image/png": "[encoded data removed]",
      "text/plain": [
       "<Figure size 432x288 with 1 Axes>"
      ]
     },
     "metadata": {
      "needs_background": "light"
     },
     "output_type": "display_data"
    }
   ],
   "source": [
    "fittedTS = ModelFitter.runSimulation(modelSpecification=NEW_MODEL, numPoint=NEW_NUM_POINT, endTime=NEW_END_TIME,\n",
    "                                     parameters=NEW_PARAMETER_ESTIMATES)\n",
    "_ = plotData(fittedTS)"
   ]
  },
  {
   "cell_type": "markdown",
   "metadata": {},
   "source": [
    "## Estimate the residuals"
   ]
  },
  {
   "cell_type": "markdown",
   "metadata": {},
   "source": [
    "## Construct bootstrap estimates"
   ]
  },
  {
   "cell_type": "code",
   "execution_count": 27,
   "metadata": {},
   "outputs": [
    {
     "name": "stderr",
     "output_type": "stream",
     "text": [
      "iteration:  33%|███▎      | 329/1000 [01:58<03:52,  2.89it/s]"
     ]
    },
    {
     "name": "stdout",
     "output_type": "stream",
     "text": [
      "\n",
      "\n",
      "\n",
      "130.642882: \n",
      " **\n",
      "Curent value: 10.000000\n"
     ]
    },
    {
     "ename": "ValueError",
     "evalue": "Must use bootstrap first.",
     "output_type": "error",
     "traceback": [
      "\u001b[0;31m---------------------------------------------------------------------------\u001b[0m",
      "\u001b[0;31mValueError\u001b[0m                                Traceback (most recent call last)",
      "\u001b[0;32m<ipython-input-27-2c5dd708ca2f>\u001b[0m in \u001b[0;36m<module>\u001b[0;34m\u001b[0m\n\u001b[1;32m      2\u001b[0m \u001b[0mNEW_FITTER\u001b[0m\u001b[0;34m.\u001b[0m\u001b[0mfitModel\u001b[0m\u001b[0;34m(\u001b[0m\u001b[0;34m)\u001b[0m\u001b[0;34m\u001b[0m\u001b[0m\n\u001b[1;32m      3\u001b[0m \u001b[0mNEW_FITTER\u001b[0m\u001b[0;34m.\u001b[0m\u001b[0mbootstrap\u001b[0m\u001b[0;34m(\u001b[0m\u001b[0mnumIteration\u001b[0m\u001b[0;34m=\u001b[0m\u001b[0;36m1000\u001b[0m\u001b[0;34m)\u001b[0m\u001b[0;34m\u001b[0m\u001b[0m\n\u001b[0;32m----> 4\u001b[0;31m \u001b[0mprint\u001b[0m\u001b[0;34m(\u001b[0m\u001b[0mNEW_FITTER\u001b[0m\u001b[0;34m.\u001b[0m\u001b[0mreportBootstrap\u001b[0m\u001b[0;34m(\u001b[0m\u001b[0;34m)\u001b[0m\u001b[0;34m)\u001b[0m\u001b[0;34m\u001b[0m\u001b[0m\n\u001b[0m",
      "\u001b[0;32m~/advancing-biomedical-models/adv/lib/python3.6/site-packages/SBstoat/_modelFitterReport.py\u001b[0m in \u001b[0;36mreportBootstrap\u001b[0;34m(self)\u001b[0m\n\u001b[1;32m     87\u001b[0m         \u001b[0mf\u001b[0m\u001b[0;34m.\u001b[0m\u001b[0mreportBootstrap\u001b[0m\u001b[0;34m(\u001b[0m\u001b[0;34m)\u001b[0m\u001b[0;34m\u001b[0m\u001b[0m\n\u001b[1;32m     88\u001b[0m         \"\"\"\n\u001b[0;32m---> 89\u001b[0;31m         \u001b[0mself\u001b[0m\u001b[0;34m.\u001b[0m\u001b[0m_checkBootstrap\u001b[0m\u001b[0;34m(\u001b[0m\u001b[0;34m)\u001b[0m\u001b[0;34m\u001b[0m\u001b[0m\n\u001b[0m\u001b[1;32m     90\u001b[0m         \u001b[0mself\u001b[0m\u001b[0;34m.\u001b[0m\u001b[0mlogger\u001b[0m\u001b[0;34m.\u001b[0m\u001b[0mactivity\u001b[0m\u001b[0;34m(\u001b[0m\u001b[0mself\u001b[0m\u001b[0;34m.\u001b[0m\u001b[0mbootstrapResult\u001b[0m\u001b[0;34m)\u001b[0m\u001b[0;34m\u001b[0m\u001b[0m\n",
      "\u001b[0;32m~/advancing-biomedical-models/adv/lib/python3.6/site-packages/SBstoat/_modelFitterBootstrap.py\u001b[0m in \u001b[0;36m_checkBootstrap\u001b[0;34m(self, isError)\u001b[0m\n\u001b[1;32m    155\u001b[0m         \u001b[0;32mif\u001b[0m \u001b[0mself\u001b[0m\u001b[0;34m.\u001b[0m\u001b[0mbootstrapResult\u001b[0m \u001b[0;32mis\u001b[0m \u001b[0;32mNone\u001b[0m\u001b[0;34m:\u001b[0m\u001b[0;34m\u001b[0m\u001b[0m\n\u001b[1;32m    156\u001b[0m             \u001b[0;32mif\u001b[0m \u001b[0misError\u001b[0m\u001b[0;34m:\u001b[0m\u001b[0;34m\u001b[0m\u001b[0m\n\u001b[0;32m--> 157\u001b[0;31m                 \u001b[0;32mraise\u001b[0m \u001b[0mValueError\u001b[0m\u001b[0;34m(\u001b[0m\u001b[0;34m\"Must use bootstrap first.\"\u001b[0m\u001b[0;34m)\u001b[0m\u001b[0;34m\u001b[0m\u001b[0m\n\u001b[0m\u001b[1;32m    158\u001b[0m             \u001b[0;32mreturn\u001b[0m \u001b[0;32mFalse\u001b[0m\u001b[0;34m\u001b[0m\u001b[0m\n\u001b[1;32m    159\u001b[0m         \u001b[0;32mreturn\u001b[0m \u001b[0;32mTrue\u001b[0m\u001b[0;34m\u001b[0m\u001b[0m\n",
      "\u001b[0;31mValueError\u001b[0m: Must use bootstrap first."
     ]
    }
   ],
   "source": [
    "NEW_FITTER = ModelFitter(NEW_MODEL, NEW_OBS_TS, parametersToFit=NEW_PARAMETERS_TO_FIT)\n",
    "NEW_FITTER.fitModel()\n",
    "NEW_FITTER.bootstrap(numIteration=1000)\n",
    "print(NEW_FITTER.reportBootstrap())"
   ]
  },
  {
   "cell_type": "code",
   "execution_count": null,
   "metadata": {},
   "outputs": [],
   "source": [
    "NEW_FITTER.bootstrapResult\n"
   ]
  }
 ],
 "metadata": {
  "kernelspec": {
   "display_name": "Python 3",
   "language": "python",
   "name": "python3"
  },
  "language_info": {
   "codemirror_mode": {
    "name": "ipython",
    "version": 3
   },
   "file_extension": ".py",
   "mimetype": "text/x-python",
   "name": "python",
   "nbconvert_exporter": "python",
   "pygments_lexer": "ipython3",
   "version": "3.6.4"
  },
  "toc-autonumbering": true
 },
 "nbformat": 4,
 "nbformat_minor": 4
}
