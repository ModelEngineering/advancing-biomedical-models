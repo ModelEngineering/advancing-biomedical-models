{
 "cells": [
  {
   "cell_type": "markdown",
   "metadata": {
    "id": "b_6pWI1l_ptk"
   },
   "source": [
    "# PARAMETER FITTING PART 1B: ANALYZING FITS\n"
   ]
  },
  {
   "cell_type": "markdown",
   "metadata": {
    "id": "441hxZnP1gkT"
   },
   "source": [
    "This notebook provides explores the key elements of fitting parameters."
   ]
  },
  {
   "cell_type": "markdown",
   "metadata": {
    "id": "DDsRwu1v_ptn"
   },
   "source": [
    "# Preliminaries"
   ]
  },
  {
   "cell_type": "code",
   "execution_count": 1,
   "metadata": {
    "executionInfo": {
     "elapsed": 122,
     "status": "ok",
     "timestamp": 1626810994897,
     "user": {
      "displayName": "Joseph Hellerstein",
      "photoUrl": "https://lh3.googleusercontent.com/a-/AOh14Ggr-yAwbfqFCOlFTHoKepUYJ9VjZuCGILW-YdHvUQ=s64",
      "userId": "07301174361489660166"
     },
     "user_tz": 420
    },
    "id": "F9Bh3ixcrTyL"
   },
   "outputs": [],
   "source": [
    "IS_COLAB = True"
   ]
  },
  {
   "cell_type": "code",
   "execution_count": 2,
   "metadata": {
    "executionInfo": {
     "elapsed": 6263,
     "status": "ok",
     "timestamp": 1626811001355,
     "user": {
      "displayName": "Joseph Hellerstein",
      "photoUrl": "https://lh3.googleusercontent.com/a-/AOh14Ggr-yAwbfqFCOlFTHoKepUYJ9VjZuCGILW-YdHvUQ=s64",
      "userId": "07301174361489660166"
     },
     "user_tz": 420
    },
    "id": "sDo7TOtiRPQX"
   },
   "outputs": [
    {
     "name": "stdout",
     "output_type": "stream",
     "text": [
      "\u001b[33mWARNING: You are using pip version 21.2.4; however, version 21.3.1 is available.\n",
      "You should consider upgrading via the '/home/ubuntu/advancing-biomedical-models/adv/bin/python -m pip install --upgrade pip' command.\u001b[0m\n",
      "\u001b[33mWARNING: You are using pip version 21.2.4; however, version 21.3.1 is available.\n",
      "You should consider upgrading via the '/home/ubuntu/advancing-biomedical-models/adv/bin/python -m pip install --upgrade pip' command.\u001b[0m\n"
     ]
    }
   ],
   "source": [
    "if IS_COLAB:\n",
    "    !pip install -q tellurium\n",
    "    !pip install -q SBstoat\n",
    "    pass"
   ]
  },
  {
   "cell_type": "code",
   "execution_count": 3,
   "metadata": {
    "executionInfo": {
     "elapsed": 3,
     "status": "ok",
     "timestamp": 1626811001355,
     "user": {
      "displayName": "Joseph Hellerstein",
      "photoUrl": "https://lh3.googleusercontent.com/a-/AOh14Ggr-yAwbfqFCOlFTHoKepUYJ9VjZuCGILW-YdHvUQ=s64",
      "userId": "07301174361489660166"
     },
     "user_tz": 420
    },
    "id": "HTjwgSnI_ptn"
   },
   "outputs": [],
   "source": [
    "# Python packages used in this chapter\n",
    "import matplotlib.pyplot as plt\n",
    "import numpy as np\n",
    "import os\n",
    "import pandas as pd\n",
    "import urllib.request # use this library to download file from GitHub\n",
    "import tellurium as te\n",
    "from SBstoat.namedTimeseries import NamedTimeseries, TIME\n",
    "from SBstoat.modelFitter import ModelFitter\n",
    "import SBstoat"
   ]
  },
  {
   "cell_type": "code",
   "execution_count": 4,
   "metadata": {
    "colab": {
     "base_uri": "https://localhost:8080/"
    },
    "executionInfo": {
     "elapsed": 944,
     "status": "ok",
     "timestamp": 1626811002297,
     "user": {
      "displayName": "Joseph Hellerstein",
      "photoUrl": "https://lh3.googleusercontent.com/a-/AOh14Ggr-yAwbfqFCOlFTHoKepUYJ9VjZuCGILW-YdHvUQ=s64",
      "userId": "07301174361489660166"
     },
     "user_tz": 420
    },
    "id": "0GeZyBQv9raq",
    "outputId": "29863ebf-07c1-4b77-88ea-72215131b1fd"
   },
   "outputs": [
    {
     "name": "stdout",
     "output_type": "stream",
     "text": [
      "import pandas as pd\n",
      "import urllib.request\n",
      "\n",
      "# Linear pathway data\n",
      "BASE_URL = \"https://github.com/sys-bio/network-modeling-summer-school-2021/raw/main/\"\n",
      "BASE_DATA_URL = \"%sdata/\" % BASE_URL\n",
      "BASE_MODULE_URL = \"%ssrc/\" % BASE_URL\n",
      "BASE_MODEL_URL = \"%smodels/\" % BASE_URL\n",
      "LOCAL_FILE = \"local_file.txt\"\n",
      "\n",
      "\n",
      "def getData(csvFilename):\n",
      "    \"\"\"\n",
      "    Creates a dataframe from a CSV structured URL file.\n",
      "\n",
      "    Parameters\n",
      "    ----------\n",
      "    csvFilename: str\n",
      "        Name of the CSV file (w/o \".csv\" extension)\n",
      "\n",
      "    Returns\n",
      "    -------\n",
      "    pd.DataFrame\n",
      "    \"\"\"\n",
      "    url = \"%s%s.csv\" % (BASE_DATA_URL, csvFilename)\n",
      "    filename, _ = urllib.request.urlretrieve(url, filename=LOCAL_FILE)\n",
      "    return pd.read_csv(LOCAL_FILE)\n",
      "\n",
      "def getModule(moduleName):\n",
      "    \"\"\"\n",
      "    Obtains common codes from the github repository.\n",
      "  \n",
      "    Parameters\n",
      "    ----------\n",
      "    moduleName: str\n",
      "        name of the python module in the src directory\n",
      "    \"\"\"\n",
      "    url = \"%s%s.py\" % (BASE_MODULE_URL, moduleName)\n",
      "    _, _ = urllib.request.urlretrieve(url, filename=LOCAL_FILE)\n",
      "    with open(LOCAL_FILE, \"r\") as fd:\n",
      "        codeStr = \"\".join(fd.readlines())\n",
      "    return codeStr\n",
      "\n",
      "def getModel(modelName):\n",
      "    \"\"\"\n",
      "    Creates returns the string for the antimony model.\n",
      "\n",
      "    Parameters\n",
      "    ----------\n",
      "    modelName: str\n",
      "        Name of the model w/o \".ant\"\n",
      "\n",
      "    Returns\n",
      "    -------\n",
      "    str\n",
      "    \"\"\"\n",
      "    url = \"%s%s.ant\" % (BASE_MODEL_URL, modelName)\n",
      "    filename, _ = urllib.request.urlretrieve(url, filename=LOCAL_FILE)\n",
      "    with open(LOCAL_FILE, \"r\") as fd:\n",
      "        result = \"\".join(fd.readlines())\n",
      "    return result\n",
      "\n",
      "# Set models\n",
      "WOLF_MODEL = getModel(\"wolf\")\n",
      "WOLF_DF = getData(\"wolf\")\n",
      "WOLF_ARR = WOLF_DF.to_numpy()\n",
      "LINEAR_PATHWAY_DF = getData(\"linear_pathway\")\n",
      "LINEAR_PATHWAY_ARR = LINEAR_PATHWAY_DF.to_numpy()\n",
      "LINEAR_PATHWAY_MODEL = getModel(\"linear_pathway\")\n",
      "\n"
     ]
    }
   ],
   "source": [
    "def getSharedCodes(moduleName):\n",
    "  \"\"\"\n",
    "  Obtains common codes from the github repository.\n",
    "\n",
    "  Parameters\n",
    "  ----------\n",
    "  moduleName: str\n",
    "      name of the python module in the src directory\n",
    "  \"\"\"\n",
    "  if IS_COLAB:\n",
    "      url = \"https://github.com/sys-bio/network-modeling-summer-school-2021/raw/main/src/%s.py\" % moduleName\n",
    "      local_python = \"python.py\"\n",
    "      _, _ = urllib.request.urlretrieve(url=url, filename=local_python)\n",
    "  else:\n",
    "      local_python = \"../../src/%s.py\" % moduleName\n",
    "  with open(local_python, \"r\") as fd:\n",
    "    codeStr = \"\".join(fd.readlines())\n",
    "  print(codeStr)\n",
    "  exec(codeStr, globals())\n",
    "\n",
    "# Acquire codes\n",
    "getSharedCodes(\"util\")\n",
    "\n",
    "# TESTS\n",
    "assert(isinstance(LINEAR_PATHWAY_DF, pd.DataFrame))"
   ]
  },
  {
   "cell_type": "markdown",
   "metadata": {
    "id": "REHYGlmp_pto"
   },
   "source": [
    "# Linear Pathway Model & Data"
   ]
  },
  {
   "cell_type": "markdown",
   "metadata": {
    "id": "UAl1msSM_pto"
   },
   "source": [
    "To make these ideas concrete, we use the linear pathway model."
   ]
  },
  {
   "cell_type": "code",
   "execution_count": 5,
   "metadata": {
    "colab": {
     "base_uri": "https://localhost:8080/"
    },
    "executionInfo": {
     "elapsed": 6,
     "status": "ok",
     "timestamp": 1626811002300,
     "user": {
      "displayName": "Joseph Hellerstein",
      "photoUrl": "https://lh3.googleusercontent.com/a-/AOh14Ggr-yAwbfqFCOlFTHoKepUYJ9VjZuCGILW-YdHvUQ=s64",
      "userId": "07301174361489660166"
     },
     "user_tz": 420
    },
    "id": "h9IntR4z_ptp",
    "outputId": "eb3e3c2e-b8ac-40b2-8f79-5d032638af05"
   },
   "outputs": [
    {
     "name": "stdout",
     "output_type": "stream",
     "text": [
      "R1:  S1 -> S2; k1*S1  \n",
      "R2: S2 -> S3; k2*S2\n",
      "R3: S3 -> S4; k3*S3\n",
      "R4: S4 -> S5; k4*S4\n",
      "\n",
      "S1 = 10\n",
      "\n",
      "// Parameters\n",
      "k1 = 0; # Nominal value of parameter\n",
      "k2 = 0; # Nominal value of parameter\n",
      "k3 = 0; # Nominal value of parameter\n",
      "k4 = 0; # Nominal value of parameter\n",
      "\n"
     ]
    }
   ],
   "source": [
    "print(LINEAR_PATHWAY_MODEL)"
   ]
  },
  {
   "cell_type": "markdown",
   "metadata": {
    "id": "492kzUZf_ptp"
   },
   "source": [
    "Note that the values of the parameters are 0! This is not because their true value is 0.\n",
    "Rather, it's because we don't know the value of these parameters."
   ]
  },
  {
   "cell_type": "markdown",
   "metadata": {
    "id": "sCOE3S6i_ptp"
   },
   "source": [
    "It is very common to have parameters with unknown values in kinetics models. Typically, we know the range\n",
    "of the parameter values, but not a suitable value itself.\n",
    "\n",
    "So, how do we run a model with known values for *all* of its parameters? The answer is that we estimate or **fit paramter values** based on observed data.\n",
    "\n",
    "For this example, the observational data are in the file specified in ``LINEAR_PATHWAY_DATA``."
   ]
  },
  {
   "cell_type": "code",
   "execution_count": 6,
   "metadata": {
    "colab": {
     "base_uri": "https://localhost:8080/",
     "height": 402
    },
    "executionInfo": {
     "elapsed": 143,
     "status": "ok",
     "timestamp": 1626811287485,
     "user": {
      "displayName": "Joseph Hellerstein",
      "photoUrl": "https://lh3.googleusercontent.com/a-/AOh14Ggr-yAwbfqFCOlFTHoKepUYJ9VjZuCGILW-YdHvUQ=s64",
      "userId": "07301174361489660166"
     },
     "user_tz": 420
    },
    "id": "XENO_8uMggVC",
    "outputId": "2ab0513f-6088-405c-e732-10ffc18e8f64"
   },
   "outputs": [
    {
     "data": {
      "text/html": [
       "<div>\n",
       "<style scoped>\n",
       "    .dataframe tbody tr th:only-of-type {\n",
       "        vertical-align: middle;\n",
       "    }\n",
       "\n",
       "    .dataframe tbody tr th {\n",
       "        vertical-align: top;\n",
       "    }\n",
       "\n",
       "    .dataframe thead th {\n",
       "        text-align: right;\n",
       "    }\n",
       "</style>\n",
       "<table border=\"1\" class=\"dataframe\">\n",
       "  <thead>\n",
       "    <tr style=\"text-align: right;\">\n",
       "      <th></th>\n",
       "      <th>time</th>\n",
       "      <th>S1</th>\n",
       "      <th>S2</th>\n",
       "      <th>S3</th>\n",
       "      <th>S4</th>\n",
       "      <th>S5</th>\n",
       "    </tr>\n",
       "  </thead>\n",
       "  <tbody>\n",
       "    <tr>\n",
       "      <th>0</th>\n",
       "      <td>1.000000</td>\n",
       "      <td>8.516780</td>\n",
       "      <td>0.000000</td>\n",
       "      <td>0.000000</td>\n",
       "      <td>0.000000</td>\n",
       "      <td>0.000000</td>\n",
       "    </tr>\n",
       "    <tr>\n",
       "      <th>1</th>\n",
       "      <td>1.090909</td>\n",
       "      <td>7.453911</td>\n",
       "      <td>0.761657</td>\n",
       "      <td>0.073722</td>\n",
       "      <td>0.006608</td>\n",
       "      <td>0.000482</td>\n",
       "    </tr>\n",
       "    <tr>\n",
       "      <th>2</th>\n",
       "      <td>1.181818</td>\n",
       "      <td>8.282868</td>\n",
       "      <td>1.212772</td>\n",
       "      <td>0.260522</td>\n",
       "      <td>0.038722</td>\n",
       "      <td>0.007036</td>\n",
       "    </tr>\n",
       "    <tr>\n",
       "      <th>3</th>\n",
       "      <td>1.272727</td>\n",
       "      <td>7.613030</td>\n",
       "      <td>1.810058</td>\n",
       "      <td>0.352075</td>\n",
       "      <td>0.083708</td>\n",
       "      <td>0.031581</td>\n",
       "    </tr>\n",
       "    <tr>\n",
       "      <th>4</th>\n",
       "      <td>1.363636</td>\n",
       "      <td>6.315379</td>\n",
       "      <td>2.254405</td>\n",
       "      <td>0.699869</td>\n",
       "      <td>0.159682</td>\n",
       "      <td>0.085216</td>\n",
       "    </tr>\n",
       "    <tr>\n",
       "      <th>...</th>\n",
       "      <td>...</td>\n",
       "      <td>...</td>\n",
       "      <td>...</td>\n",
       "      <td>...</td>\n",
       "      <td>...</td>\n",
       "      <td>...</td>\n",
       "    </tr>\n",
       "    <tr>\n",
       "      <th>95</th>\n",
       "      <td>9.636364</td>\n",
       "      <td>0.001848</td>\n",
       "      <td>0.001562</td>\n",
       "      <td>0.001627</td>\n",
       "      <td>0.001779</td>\n",
       "      <td>10.644394</td>\n",
       "    </tr>\n",
       "    <tr>\n",
       "      <th>96</th>\n",
       "      <td>9.727273</td>\n",
       "      <td>0.001355</td>\n",
       "      <td>0.001709</td>\n",
       "      <td>0.001589</td>\n",
       "      <td>0.001345</td>\n",
       "      <td>9.547320</td>\n",
       "    </tr>\n",
       "    <tr>\n",
       "      <th>97</th>\n",
       "      <td>9.818182</td>\n",
       "      <td>0.001299</td>\n",
       "      <td>0.001596</td>\n",
       "      <td>0.001622</td>\n",
       "      <td>0.001715</td>\n",
       "      <td>9.130269</td>\n",
       "    </tr>\n",
       "    <tr>\n",
       "      <th>98</th>\n",
       "      <td>9.909091</td>\n",
       "      <td>0.001271</td>\n",
       "      <td>0.001288</td>\n",
       "      <td>0.001250</td>\n",
       "      <td>0.001256</td>\n",
       "      <td>10.895552</td>\n",
       "    </tr>\n",
       "    <tr>\n",
       "      <th>99</th>\n",
       "      <td>10.000000</td>\n",
       "      <td>0.001239</td>\n",
       "      <td>0.001106</td>\n",
       "      <td>0.001096</td>\n",
       "      <td>0.001188</td>\n",
       "      <td>11.526633</td>\n",
       "    </tr>\n",
       "  </tbody>\n",
       "</table>\n",
       "<p>100 rows × 6 columns</p>\n",
       "</div>"
      ],
      "text/plain": [
       "         time        S1        S2        S3        S4         S5\n",
       "0    1.000000  8.516780  0.000000  0.000000  0.000000   0.000000\n",
       "1    1.090909  7.453911  0.761657  0.073722  0.006608   0.000482\n",
       "2    1.181818  8.282868  1.212772  0.260522  0.038722   0.007036\n",
       "3    1.272727  7.613030  1.810058  0.352075  0.083708   0.031581\n",
       "4    1.363636  6.315379  2.254405  0.699869  0.159682   0.085216\n",
       "..        ...       ...       ...       ...       ...        ...\n",
       "95   9.636364  0.001848  0.001562  0.001627  0.001779  10.644394\n",
       "96   9.727273  0.001355  0.001709  0.001589  0.001345   9.547320\n",
       "97   9.818182  0.001299  0.001596  0.001622  0.001715   9.130269\n",
       "98   9.909091  0.001271  0.001288  0.001250  0.001256  10.895552\n",
       "99  10.000000  0.001239  0.001106  0.001096  0.001188  11.526633\n",
       "\n",
       "[100 rows x 6 columns]"
      ]
     },
     "execution_count": 6,
     "metadata": {},
     "output_type": "execute_result"
    }
   ],
   "source": [
    "LINEAR_PATHWAY_DF"
   ]
  },
  {
   "cell_type": "code",
   "execution_count": 7,
   "metadata": {
    "colab": {
     "base_uri": "https://localhost:8080/"
    },
    "executionInfo": {
     "elapsed": 122,
     "status": "ok",
     "timestamp": 1626811773798,
     "user": {
      "displayName": "Joseph Hellerstein",
      "photoUrl": "https://lh3.googleusercontent.com/a-/AOh14Ggr-yAwbfqFCOlFTHoKepUYJ9VjZuCGILW-YdHvUQ=s64",
      "userId": "07301174361489660166"
     },
     "user_tz": 420
    },
    "id": "lA4kvQkDiZUU",
    "outputId": "288cad34-e037-496a-96cd-01185a16af4c"
   },
   "outputs": [
    {
     "data": {
      "text/plain": [
       "array([[1.00000000e+00, 8.51678036e+00, 0.00000000e+00, 0.00000000e+00,\n",
       "        0.00000000e+00, 0.00000000e+00],\n",
       "       [1.09090909e+00, 7.45391115e+00, 7.61656564e-01, 7.37219347e-02,\n",
       "        6.60778277e-03, 4.82334671e-04],\n",
       "       [1.18181818e+00, 8.28286758e+00, 1.21277213e+00, 2.60522199e-01,\n",
       "        3.87223027e-02, 7.03598959e-03],\n",
       "       [1.27272727e+00, 7.61303021e+00, 1.81005756e+00, 3.52075303e-01,\n",
       "        8.37075579e-02, 3.15814521e-02],\n",
       "       [1.36363636e+00, 6.31537918e+00, 2.25440468e+00, 6.99869349e-01,\n",
       "        1.59682183e-01, 8.52162442e-02],\n",
       "       [1.45454545e+00, 7.60029359e+00, 2.53934763e+00, 1.00050901e+00,\n",
       "        3.01052446e-01, 2.08922107e-01],\n",
       "       [1.54545455e+00, 5.38910939e+00, 2.35260007e+00, 8.49514531e-01,\n",
       "        3.69980464e-01, 3.06653894e-01],\n",
       "       [1.63636364e+00, 5.41140224e+00, 2.98080193e+00, 1.20718732e+00,\n",
       "        6.36913521e-01, 4.75265940e-01],\n",
       "       [1.72727273e+00, 4.56449516e+00, 2.01172053e+00, 1.32967397e+00,\n",
       "        6.53568960e-01, 5.78270309e-01],\n",
       "       [1.81818182e+00, 3.53071936e+00, 2.00169360e+00, 1.17378690e+00,\n",
       "        8.68272208e-01, 9.88267376e-01],\n",
       "       [1.90909091e+00, 3.27222225e+00, 2.26336096e+00, 1.41342726e+00,\n",
       "        8.08617233e-01, 1.19246083e+00],\n",
       "       [2.00000000e+00, 4.40101417e+00, 2.31026849e+00, 1.75426175e+00,\n",
       "        8.45330383e-01, 1.56057274e+00],\n",
       "       [2.09090909e+00, 3.07306943e+00, 2.27302181e+00, 1.36486858e+00,\n",
       "        8.81426831e-01, 1.69128357e+00],\n",
       "       [2.18181818e+00, 3.12149948e+00, 1.96647005e+00, 1.66763659e+00,\n",
       "        9.53115806e-01, 2.03565210e+00],\n",
       "       [2.27272727e+00, 2.94982466e+00, 1.74039878e+00, 1.54935687e+00,\n",
       "        1.09908406e+00, 2.53792931e+00],\n",
       "       [2.36363636e+00, 2.90997538e+00, 1.65727651e+00, 1.43374486e+00,\n",
       "        1.05886613e+00, 2.80729400e+00],\n",
       "       [2.45454545e+00, 2.29400209e+00, 1.52326497e+00, 1.14354984e+00,\n",
       "        8.92313164e-01, 3.98814301e+00],\n",
       "       [2.54545455e+00, 2.52774387e+00, 1.68323383e+00, 1.45689916e+00,\n",
       "        8.67941004e-01, 4.21028965e+00],\n",
       "       [2.63636364e+00, 2.21348241e+00, 1.58784304e+00, 1.23041023e+00,\n",
       "        1.01995933e+00, 5.03545291e+00],\n",
       "       [2.72727273e+00, 1.89988352e+00, 1.56306037e+00, 1.16299395e+00,\n",
       "        8.45285916e-01, 4.54142844e+00],\n",
       "       [2.81818182e+00, 1.88436560e+00, 1.41775301e+00, 1.32178947e+00,\n",
       "        1.09165359e+00, 4.65395456e+00],\n",
       "       [2.90909091e+00, 1.56750857e+00, 1.13860530e+00, 8.76931269e-01,\n",
       "        1.04437228e+00, 5.36343076e+00],\n",
       "       [3.00000000e+00, 1.32814906e+00, 1.14568460e+00, 1.10394608e+00,\n",
       "        7.52703863e-01, 6.60503076e+00],\n",
       "       [3.09090909e+00, 1.39013530e+00, 8.67187266e-01, 8.07416573e-01,\n",
       "        9.31501697e-01, 6.93539464e+00],\n",
       "       [3.18181818e+00, 9.92643738e-01, 9.07052903e-01, 8.10704898e-01,\n",
       "        8.92309880e-01, 7.13967029e+00],\n",
       "       [3.27272727e+00, 1.23273582e+00, 7.57248110e-01, 9.51023224e-01,\n",
       "        6.19913546e-01, 7.21706425e+00],\n",
       "       [3.36363636e+00, 9.54094570e-01, 7.04054125e-01, 8.11931446e-01,\n",
       "        6.04317636e-01, 7.77139295e+00],\n",
       "       [3.45454545e+00, 1.00759058e+00, 8.65721716e-01, 7.69303033e-01,\n",
       "        7.08649052e-01, 6.17415439e+00],\n",
       "       [3.54545455e+00, 8.46736355e-01, 5.80723287e-01, 7.19427285e-01,\n",
       "        5.62328022e-01, 6.52281615e+00],\n",
       "       [3.63636364e+00, 7.23451373e-01, 6.46316770e-01, 6.22587122e-01,\n",
       "        6.09046999e-01, 8.23291578e+00],\n",
       "       [3.72727273e+00, 6.65970364e-01, 5.48694438e-01, 4.92908946e-01,\n",
       "        6.25431432e-01, 6.92235293e+00],\n",
       "       [3.81818182e+00, 6.39641075e-01, 6.16144366e-01, 6.12399719e-01,\n",
       "        4.33389295e-01, 8.10399358e+00],\n",
       "       [3.90909091e+00, 4.68324176e-01, 4.68416334e-01, 5.24484854e-01,\n",
       "        4.31285992e-01, 8.80400287e+00],\n",
       "       [4.00000000e+00, 4.84529085e-01, 4.64491047e-01, 3.66217511e-01,\n",
       "        4.53273883e-01, 9.55868463e+00],\n",
       "       [4.09090909e+00, 4.41501520e-01, 4.60114954e-01, 4.18473049e-01,\n",
       "        4.06307836e-01, 8.57418445e+00],\n",
       "       [4.18181818e+00, 3.86486388e-01, 3.46606296e-01, 4.40065360e-01,\n",
       "        3.36602873e-01, 9.42591316e+00],\n",
       "       [4.27272727e+00, 4.53915905e-01, 3.82501127e-01, 3.15034167e-01,\n",
       "        3.12927632e-01, 1.01886109e+01],\n",
       "       [4.36363636e+00, 2.82543470e-01, 3.56376226e-01, 3.00372788e-01,\n",
       "        2.60825441e-01, 9.39974289e+00],\n",
       "       [4.45454545e+00, 3.24146290e-01, 2.78879581e-01, 3.02855216e-01,\n",
       "        2.67707222e-01, 8.47746960e+00],\n",
       "       [4.54545455e+00, 3.37034034e-01, 3.13565702e-01, 2.99894669e-01,\n",
       "        3.00880619e-01, 8.61818547e+00],\n",
       "       [4.63636364e+00, 3.00365686e-01, 2.64745098e-01, 2.80437013e-01,\n",
       "        2.34341241e-01, 7.90221935e+00],\n",
       "       [4.72727273e+00, 2.53870985e-01, 2.14917172e-01, 1.97012445e-01,\n",
       "        1.90597648e-01, 9.44831686e+00],\n",
       "       [4.81818182e+00, 2.32621212e-01, 2.06000561e-01, 2.47536546e-01,\n",
       "        2.36385778e-01, 8.06390071e+00],\n",
       "       [4.90909091e+00, 1.62243658e-01, 2.02509147e-01, 1.76624896e-01,\n",
       "        1.75018506e-01, 8.39192016e+00],\n",
       "       [5.00000000e+00, 2.08222821e-01, 1.44498486e-01, 1.99124883e-01,\n",
       "        1.89523744e-01, 8.20376469e+00],\n",
       "       [5.09090909e+00, 1.69922529e-01, 1.32286227e-01, 1.74851213e-01,\n",
       "        1.35995723e-01, 1.02687471e+01],\n",
       "       [5.18181818e+00, 1.44965201e-01, 1.22884927e-01, 1.29407582e-01,\n",
       "        1.53018715e-01, 1.09660503e+01],\n",
       "       [5.27272727e+00, 1.29426285e-01, 1.22502740e-01, 1.22182388e-01,\n",
       "        1.51320165e-01, 8.80866879e+00],\n",
       "       [5.36363636e+00, 1.22357957e-01, 1.45094749e-01, 1.44170151e-01,\n",
       "        1.38129325e-01, 1.13370032e+01],\n",
       "       [5.45454545e+00, 1.01594352e-01, 1.05463754e-01, 1.08107256e-01,\n",
       "        1.03961259e-01, 1.12009653e+01],\n",
       "       [5.54545455e+00, 1.11395345e-01, 1.20500154e-01, 1.23133396e-01,\n",
       "        9.08308881e-02, 9.29572614e+00],\n",
       "       [5.63636364e+00, 9.56497031e-02, 8.85109431e-02, 1.00658878e-01,\n",
       "        9.94221753e-02, 1.02332799e+01],\n",
       "       [5.72727273e+00, 8.32562710e-02, 7.41587181e-02, 9.03583743e-02,\n",
       "        8.62611523e-02, 9.43979194e+00],\n",
       "       [5.81818182e+00, 6.64073428e-02, 7.64403165e-02, 7.62690666e-02,\n",
       "        8.09490757e-02, 9.85694810e+00],\n",
       "       [5.90909091e+00, 8.13608831e-02, 8.66687318e-02, 6.61075884e-02,\n",
       "        7.32818186e-02, 1.00472245e+01],\n",
       "       [6.00000000e+00, 5.59332641e-02, 6.21132981e-02, 7.11699375e-02,\n",
       "        7.37574496e-02, 1.16703506e+01],\n",
       "       [6.09090909e+00, 5.03753632e-02, 7.25572526e-02, 5.66623035e-02,\n",
       "        6.41218383e-02, 8.31475066e+00],\n",
       "       [6.18181818e+00, 6.19486464e-02, 5.38148514e-02, 6.59674189e-02,\n",
       "        4.85214816e-02, 8.21000621e+00],\n",
       "       [6.27272727e+00, 5.88961638e-02, 4.18961485e-02, 4.20776848e-02,\n",
       "        4.95858638e-02, 8.61394435e+00],\n",
       "       [6.36363636e+00, 4.86914802e-02, 4.68340957e-02, 3.79667335e-02,\n",
       "        4.36486849e-02, 1.17013310e+01],\n",
       "       [6.45454545e+00, 4.20128929e-02, 4.10438620e-02, 3.76458360e-02,\n",
       "        4.58740075e-02, 8.49129750e+00],\n",
       "       [6.54545455e+00, 3.75547313e-02, 3.88438347e-02, 3.12581395e-02,\n",
       "        3.30878324e-02, 1.00547291e+01],\n",
       "       [6.63636364e+00, 3.40135955e-02, 3.02946707e-02, 3.51884964e-02,\n",
       "        2.86824764e-02, 9.36758260e+00],\n",
       "       [6.72727273e+00, 3.44392831e-02, 3.08323760e-02, 3.23821032e-02,\n",
       "        2.76640113e-02, 8.36772217e+00],\n",
       "       [6.81818182e+00, 3.33911956e-02, 2.47868249e-02, 3.17024092e-02,\n",
       "        3.51708262e-02, 1.07778303e+01],\n",
       "       [6.90909091e+00, 2.50885431e-02, 3.21117460e-02, 3.10921206e-02,\n",
       "        2.29154339e-02, 1.04718960e+01],\n",
       "       [7.00000000e+00, 2.90147041e-02, 2.34397698e-02, 2.18650570e-02,\n",
       "        2.18761090e-02, 8.91361010e+00],\n",
       "       [7.09090909e+00, 2.55759476e-02, 2.62580719e-02, 2.59381013e-02,\n",
       "        2.26469382e-02, 9.74971436e+00],\n",
       "       [7.18181818e+00, 2.20809606e-02, 1.89635763e-02, 1.84265095e-02,\n",
       "        2.17249076e-02, 1.11479471e+01],\n",
       "       [7.27272727e+00, 1.74582488e-02, 1.61415427e-02, 1.69768975e-02,\n",
       "        1.55101568e-02, 7.98008059e+00],\n",
       "       [7.36363636e+00, 1.95782643e-02, 2.03666530e-02, 1.39129892e-02,\n",
       "        1.82039364e-02, 8.34252836e+00],\n",
       "       [7.45454545e+00, 1.36899612e-02, 1.54069619e-02, 1.48239616e-02,\n",
       "        1.85718122e-02, 9.50559702e+00],\n",
       "       [7.54545455e+00, 1.44691054e-02, 1.62411711e-02, 1.66982972e-02,\n",
       "        1.34147596e-02, 8.86117606e+00],\n",
       "       [7.63636364e+00, 1.07115945e-02, 1.05202626e-02, 1.48851944e-02,\n",
       "        1.55053234e-02, 8.63077827e+00],\n",
       "       [7.72727273e+00, 1.41160435e-02, 1.24282360e-02, 1.31143801e-02,\n",
       "        1.00245198e-02, 8.04859957e+00],\n",
       "       [7.81818182e+00, 1.23270703e-02, 9.56379704e-03, 1.30393963e-02,\n",
       "        9.68576701e-03, 1.11526176e+01],\n",
       "       [7.90909091e+00, 1.04173626e-02, 1.07445711e-02, 9.08053053e-03,\n",
       "        1.17372948e-02, 9.66286330e+00],\n",
       "       [8.00000000e+00, 8.40635751e-03, 1.01655130e-02, 8.30767294e-03,\n",
       "        1.06848596e-02, 9.51664680e+00],\n",
       "       [8.09090909e+00, 7.54705268e-03, 7.30732810e-03, 9.09321795e-03,\n",
       "        9.81467018e-03, 9.95159249e+00],\n",
       "       [8.18181818e+00, 7.61285402e-03, 6.37097054e-03, 7.44952247e-03,\n",
       "        7.00320544e-03, 8.43574332e+00],\n",
       "       [8.27272727e+00, 5.77579567e-03, 5.91561690e-03, 6.40921446e-03,\n",
       "        5.96585041e-03, 9.23029541e+00],\n",
       "       [8.36363636e+00, 6.40247314e-03, 6.94127534e-03, 7.54604485e-03,\n",
       "        7.33745230e-03, 1.04186272e+01],\n",
       "       [8.45454545e+00, 6.28334933e-03, 6.79240247e-03, 5.18829979e-03,\n",
       "        6.42844110e-03, 8.46222353e+00],\n",
       "       [8.54545455e+00, 4.64548072e-03, 4.47137706e-03, 4.42687575e-03,\n",
       "        5.40248914e-03, 1.09536811e+01],\n",
       "       [8.63636364e+00, 5.48924758e-03, 4.10779022e-03, 5.22855790e-03,\n",
       "        4.51629690e-03, 9.63738052e+00],\n",
       "       [8.72727273e+00, 4.95556584e-03, 4.85132392e-03, 4.02904356e-03,\n",
       "        4.24138794e-03, 1.02612545e+01],\n",
       "       [8.81818182e+00, 3.76303981e-03, 3.51864632e-03, 3.53137053e-03,\n",
       "        4.20386049e-03, 1.00132448e+01],\n",
       "       [8.90909091e+00, 4.26396345e-03, 3.13703378e-03, 3.13658846e-03,\n",
       "        3.75897541e-03, 8.01184193e+00],\n",
       "       [9.00000000e+00, 3.46674505e-03, 3.39544321e-03, 2.78327101e-03,\n",
       "        3.22738696e-03, 1.15465866e+01],\n",
       "       [9.09090909e+00, 3.64117822e-03, 2.74042772e-03, 2.61029646e-03,\n",
       "        2.97359894e-03, 8.85005239e+00],\n",
       "       [9.18181818e+00, 3.15464590e-03, 2.48581484e-03, 3.22191300e-03,\n",
       "        3.01535315e-03, 1.07590265e+01],\n",
       "       [9.27272727e+00, 2.34139351e-03, 2.61153576e-03, 2.07221219e-03,\n",
       "        2.09035246e-03, 1.06756577e+01],\n",
       "       [9.36363636e+00, 2.23475189e-03, 2.43146242e-03, 2.25701157e-03,\n",
       "        2.78368604e-03, 8.23879108e+00],\n",
       "       [9.45454545e+00, 1.83236168e-03, 2.04415087e-03, 2.07779559e-03,\n",
       "        2.23686317e-03, 8.98297864e+00],\n",
       "       [9.54545455e+00, 1.78841358e-03, 2.25612881e-03, 1.87736669e-03,\n",
       "        1.64626689e-03, 8.18561291e+00],\n",
       "       [9.63636364e+00, 1.84757118e-03, 1.56239267e-03, 1.62733691e-03,\n",
       "        1.77872980e-03, 1.06443941e+01],\n",
       "       [9.72727273e+00, 1.35452172e-03, 1.70887651e-03, 1.58866869e-03,\n",
       "        1.34485369e-03, 9.54731985e+00],\n",
       "       [9.81818182e+00, 1.29924282e-03, 1.59558827e-03, 1.62196161e-03,\n",
       "        1.71471838e-03, 9.13026944e+00],\n",
       "       [9.90909091e+00, 1.27140453e-03, 1.28789349e-03, 1.25049626e-03,\n",
       "        1.25607586e-03, 1.08955516e+01],\n",
       "       [1.00000000e+01, 1.23871336e-03, 1.10631018e-03, 1.09642492e-03,\n",
       "        1.18829835e-03, 1.15266327e+01]])"
      ]
     },
     "execution_count": 7,
     "metadata": {},
     "output_type": "execute_result"
    }
   ],
   "source": [
    "LINEAR_PATHWAY_ARR"
   ]
  },
  {
   "cell_type": "code",
   "execution_count": 8,
   "metadata": {
    "colab": {
     "base_uri": "https://localhost:8080/",
     "height": 265
    },
    "executionInfo": {
     "elapsed": 288,
     "status": "ok",
     "timestamp": 1626811002584,
     "user": {
      "displayName": "Joseph Hellerstein",
      "photoUrl": "https://lh3.googleusercontent.com/a-/AOh14Ggr-yAwbfqFCOlFTHoKepUYJ9VjZuCGILW-YdHvUQ=s64",
      "userId": "07301174361489660166"
     },
     "user_tz": 420
    },
    "id": "KPd29h35_ptp",
    "outputId": "24c2dd0c-1505-4369-fa08-3d815358985e"
   },
   "outputs": [
    {
     "data": {
      "image/png": "[encoded data removed]",
      "text/plain": [
       "<Figure size 432x288 with 1 Axes>"
      ]
     },
     "metadata": {
      "needs_background": "light"
     },
     "output_type": "display_data"
    }
   ],
   "source": [
    "SPECIES_NAMES = [\"S1\", \"S2\", \"S3\", \"S4\", \"S5\"]\n",
    "fig, ax = plt.subplots(1)\n",
    "numRow, numCol = np.shape(LINEAR_PATHWAY_ARR)\n",
    "for icol in range(1, numCol):\n",
    "    ax.scatter(LINEAR_PATHWAY_ARR[:, 0], LINEAR_PATHWAY_ARR[:, icol])\n",
    "_ = plt.legend(SPECIES_NAMES)"
   ]
  },
  {
   "cell_type": "markdown",
   "metadata": {
    "id": "lnZ9f7RC_ptr"
   },
   "source": [
    "The following sections provide details of parameter fitting using the ``PATHWAY_MODEL``."
   ]
  },
  {
   "cell_type": "markdown",
   "metadata": {
    "id": "-hmqPyB2_ptr"
   },
   "source": [
    "# Fitting Basics <a class=\"anchor\" id=\"parameter-fitting-fitting-basics\"></a>"
   ]
  },
  {
   "cell_type": "markdown",
   "metadata": {
    "id": "zmsDwHwP_ptr"
   },
   "source": [
    "Some key concepts are:\n",
    "- A **parameter** is a constant whose value is unknown.\n",
    "- **Observed data** are data that are used for fitting parameter values.\n",
    "- **Fitted data** are data produced by a simulation for an assignment of values to parameters.\n",
    "- **Residuals** are the difference between observed data and simulated data."
   ]
  },
  {
   "cell_type": "markdown",
   "metadata": {
    "id": "xh-HmYBm_pts"
   },
   "source": [
    "The basic algorithm for fitting is described below.\n",
    "The algorithm estimates ``parameters``, the vector of values of unknown parameters.\n",
    "The inputs to the algoritm are:\n",
    "- ``model`` - the simulation model\n",
    "- ``parameters`` parameters to estimate with their initial values\n",
    "- ``observedData`` observed data used for fitting\n",
    "\n",
    "1. **Initialization**\n",
    "   1. ``fittedData = simulate(model, parameters)``\n",
    "   1. ``residuals = observedData - fittedData``\n",
    "1. **Loop**\n",
    "   1. ``parameters`` = adjust ``parameters`` based on ``residuals``\n",
    "   1. ``fittedData = simulation(parameters)``\n",
    "   1. ``residuals = observedData - fittedData``\n",
    "   1. if ``residuals`` are small\n",
    "       1. ``return parameters``"
   ]
  },
  {
   "cell_type": "markdown",
   "metadata": {
    "id": "ngfRSZI6_pts"
   },
   "source": [
    "The algorithm is fairly straight forward, with one exception.\n",
    "Step A - \"adjust ``parameters`` based on ``residuals``\" How are these adjustments made?\n",
    "\n",
    "The adjustments are made based on an optimization that chooses parameter values that\n",
    "minimize the residuals.\n",
    "We give a brief discussion of optimization in the next section."
   ]
  },
  {
   "cell_type": "markdown",
   "metadata": {
    "id": "a_t7SuG-15LH"
   },
   "source": [
    "# Exercise\n",
    "For the ``LINEAR_PATHWWAY_MODEL`` model and ``LINEAR_PATHWAY_ARR`` data:\n",
    "\n",
    "1. Plot the residuals for all chemical species using a model with the true values of parameters. Use the values 1, 2, 3, 4 or ``k1``, ``k2``, ``k3``, ``k4``.\n",
    "Where are the residuals the largest? Why?\n",
    "\n",
    "1. Evaluate possible fits for ``k1``. You can quantify the \"goodness\" of a fit by calculating **RSQ**, the sum of squared residuals, for a set of parameter values. Run simulations with ``k1`` in the range $[0, 4]$ for 20 equally separated values. Plot RSQ. Where on the plot does the true value appear?\n",
    "\n",
    "1. Use the approach in (2) to propose an algorithm for parameter estimation. (No code is required; just a description in words.) What is the performance of this algorithm as the number of parameters increases?"
   ]
  },
  {
   "cell_type": "code",
   "execution_count": 9,
   "metadata": {
    "colab": {
     "base_uri": "https://localhost:8080/",
     "height": 265
    },
    "executionInfo": {
     "elapsed": 341,
     "status": "ok",
     "timestamp": 1626812645011,
     "user": {
      "displayName": "Joseph Hellerstein",
      "photoUrl": "https://lh3.googleusercontent.com/a-/AOh14Ggr-yAwbfqFCOlFTHoKepUYJ9VjZuCGILW-YdHvUQ=s64",
      "userId": "07301174361489660166"
     },
     "user_tz": 420
    },
    "id": "BXtzRquYhk7T",
    "outputId": "64d67d0b-66fe-44e8-b136-90e25b805f72"
   },
   "outputs": [
    {
     "data": {
      "image/png": "[encoded data removed]",
      "text/plain": [
       "<Figure size 432x288 with 1 Axes>"
      ]
     },
     "metadata": {},
     "output_type": "display_data"
    }
   ],
   "source": [
    "# Getting started on item (1)\n",
    "rr = te.loada(LINEAR_PATHWAY_MODEL)\n",
    "rr[\"k1\"] = 1\n",
    "rr[\"k2\"] = 2\n",
    "rr[\"k3\"] = 3\n",
    "rr[\"k4\"] = 4\n",
    "fittedData = rr.simulate(1, 10, 100)\n",
    "rr.plot()"
   ]
  },
  {
   "cell_type": "code",
   "execution_count": 10,
   "metadata": {
    "executionInfo": {
     "elapsed": 114,
     "status": "ok",
     "timestamp": 1626812598580,
     "user": {
      "displayName": "Joseph Hellerstein",
      "photoUrl": "https://lh3.googleusercontent.com/a-/AOh14Ggr-yAwbfqFCOlFTHoKepUYJ9VjZuCGILW-YdHvUQ=s64",
      "userId": "07301174361489660166"
     },
     "user_tz": 420
    },
    "id": "wECP8oiViQGq"
   },
   "outputs": [],
   "source": [
    "# Residual for S1\n",
    "times = LINEAR_PATHWAY_ARR[:, 0] # time\n",
    "observedS1Arr = LINEAR_PATHWAY_ARR[:, 1] # S1\n"
   ]
  },
  {
   "cell_type": "code",
   "execution_count": 11,
   "metadata": {
    "colab": {
     "base_uri": "https://localhost:8080/",
     "height": 402
    },
    "executionInfo": {
     "elapsed": 179,
     "status": "ok",
     "timestamp": 1626812519580,
     "user": {
      "displayName": "Joseph Hellerstein",
      "photoUrl": "https://lh3.googleusercontent.com/a-/AOh14Ggr-yAwbfqFCOlFTHoKepUYJ9VjZuCGILW-YdHvUQ=s64",
      "userId": "07301174361489660166"
     },
     "user_tz": 420
    },
    "id": "6YsVHix0lOae",
    "outputId": "7446de0f-e8ee-487b-bf70-8307e6a8a5c9"
   },
   "outputs": [
    {
     "data": {
      "text/html": [
       "<div>\n",
       "<style scoped>\n",
       "    .dataframe tbody tr th:only-of-type {\n",
       "        vertical-align: middle;\n",
       "    }\n",
       "\n",
       "    .dataframe tbody tr th {\n",
       "        vertical-align: top;\n",
       "    }\n",
       "\n",
       "    .dataframe thead th {\n",
       "        text-align: right;\n",
       "    }\n",
       "</style>\n",
       "<table border=\"1\" class=\"dataframe\">\n",
       "  <thead>\n",
       "    <tr style=\"text-align: right;\">\n",
       "      <th></th>\n",
       "      <th>time</th>\n",
       "      <th>S1</th>\n",
       "      <th>S2</th>\n",
       "      <th>S3</th>\n",
       "      <th>S4</th>\n",
       "      <th>S5</th>\n",
       "    </tr>\n",
       "  </thead>\n",
       "  <tbody>\n",
       "    <tr>\n",
       "      <th>0</th>\n",
       "      <td>1.000000</td>\n",
       "      <td>8.516780</td>\n",
       "      <td>0.000000</td>\n",
       "      <td>0.000000</td>\n",
       "      <td>0.000000</td>\n",
       "      <td>0.000000</td>\n",
       "    </tr>\n",
       "    <tr>\n",
       "      <th>1</th>\n",
       "      <td>1.090909</td>\n",
       "      <td>7.453911</td>\n",
       "      <td>0.761657</td>\n",
       "      <td>0.073722</td>\n",
       "      <td>0.006608</td>\n",
       "      <td>0.000482</td>\n",
       "    </tr>\n",
       "    <tr>\n",
       "      <th>2</th>\n",
       "      <td>1.181818</td>\n",
       "      <td>8.282868</td>\n",
       "      <td>1.212772</td>\n",
       "      <td>0.260522</td>\n",
       "      <td>0.038722</td>\n",
       "      <td>0.007036</td>\n",
       "    </tr>\n",
       "    <tr>\n",
       "      <th>3</th>\n",
       "      <td>1.272727</td>\n",
       "      <td>7.613030</td>\n",
       "      <td>1.810058</td>\n",
       "      <td>0.352075</td>\n",
       "      <td>0.083708</td>\n",
       "      <td>0.031581</td>\n",
       "    </tr>\n",
       "    <tr>\n",
       "      <th>4</th>\n",
       "      <td>1.363636</td>\n",
       "      <td>6.315379</td>\n",
       "      <td>2.254405</td>\n",
       "      <td>0.699869</td>\n",
       "      <td>0.159682</td>\n",
       "      <td>0.085216</td>\n",
       "    </tr>\n",
       "    <tr>\n",
       "      <th>...</th>\n",
       "      <td>...</td>\n",
       "      <td>...</td>\n",
       "      <td>...</td>\n",
       "      <td>...</td>\n",
       "      <td>...</td>\n",
       "      <td>...</td>\n",
       "    </tr>\n",
       "    <tr>\n",
       "      <th>95</th>\n",
       "      <td>9.636364</td>\n",
       "      <td>0.001848</td>\n",
       "      <td>0.001562</td>\n",
       "      <td>0.001627</td>\n",
       "      <td>0.001779</td>\n",
       "      <td>10.644394</td>\n",
       "    </tr>\n",
       "    <tr>\n",
       "      <th>96</th>\n",
       "      <td>9.727273</td>\n",
       "      <td>0.001355</td>\n",
       "      <td>0.001709</td>\n",
       "      <td>0.001589</td>\n",
       "      <td>0.001345</td>\n",
       "      <td>9.547320</td>\n",
       "    </tr>\n",
       "    <tr>\n",
       "      <th>97</th>\n",
       "      <td>9.818182</td>\n",
       "      <td>0.001299</td>\n",
       "      <td>0.001596</td>\n",
       "      <td>0.001622</td>\n",
       "      <td>0.001715</td>\n",
       "      <td>9.130269</td>\n",
       "    </tr>\n",
       "    <tr>\n",
       "      <th>98</th>\n",
       "      <td>9.909091</td>\n",
       "      <td>0.001271</td>\n",
       "      <td>0.001288</td>\n",
       "      <td>0.001250</td>\n",
       "      <td>0.001256</td>\n",
       "      <td>10.895552</td>\n",
       "    </tr>\n",
       "    <tr>\n",
       "      <th>99</th>\n",
       "      <td>10.000000</td>\n",
       "      <td>0.001239</td>\n",
       "      <td>0.001106</td>\n",
       "      <td>0.001096</td>\n",
       "      <td>0.001188</td>\n",
       "      <td>11.526633</td>\n",
       "    </tr>\n",
       "  </tbody>\n",
       "</table>\n",
       "<p>100 rows × 6 columns</p>\n",
       "</div>"
      ],
      "text/plain": [
       "         time        S1        S2        S3        S4         S5\n",
       "0    1.000000  8.516780  0.000000  0.000000  0.000000   0.000000\n",
       "1    1.090909  7.453911  0.761657  0.073722  0.006608   0.000482\n",
       "2    1.181818  8.282868  1.212772  0.260522  0.038722   0.007036\n",
       "3    1.272727  7.613030  1.810058  0.352075  0.083708   0.031581\n",
       "4    1.363636  6.315379  2.254405  0.699869  0.159682   0.085216\n",
       "..        ...       ...       ...       ...       ...        ...\n",
       "95   9.636364  0.001848  0.001562  0.001627  0.001779  10.644394\n",
       "96   9.727273  0.001355  0.001709  0.001589  0.001345   9.547320\n",
       "97   9.818182  0.001299  0.001596  0.001622  0.001715   9.130269\n",
       "98   9.909091  0.001271  0.001288  0.001250  0.001256  10.895552\n",
       "99  10.000000  0.001239  0.001106  0.001096  0.001188  11.526633\n",
       "\n",
       "[100 rows x 6 columns]"
      ]
     },
     "execution_count": 11,
     "metadata": {},
     "output_type": "execute_result"
    }
   ],
   "source": [
    "LINEAR_PATHWAY_DF"
   ]
  },
  {
   "cell_type": "code",
   "execution_count": 12,
   "metadata": {
    "colab": {
     "base_uri": "https://localhost:8080/"
    },
    "executionInfo": {
     "elapsed": 156,
     "status": "ok",
     "timestamp": 1626812654525,
     "user": {
      "displayName": "Joseph Hellerstein",
      "photoUrl": "https://lh3.googleusercontent.com/a-/AOh14Ggr-yAwbfqFCOlFTHoKepUYJ9VjZuCGILW-YdHvUQ=s64",
      "userId": "07301174361489660166"
     },
     "user_tz": 420
    },
    "id": "_cXQ7R8ojtw1",
    "outputId": "fa9b82e8-ee87-427d-89d5-bca6a77a6e07"
   },
   "outputs": [
    {
     "data": {
      "text/plain": [
       "array([1.00000000e+01, 9.13100716e+00, 8.33752918e+00, 7.61300387e+00,\n",
       "       6.95143928e+00, 6.34736419e+00, 5.79578279e+00, 5.29213342e+00,\n",
       "       4.83225082e+00, 4.41233169e+00, 4.02890323e+00, 3.67879443e+00,\n",
       "       3.35910984e+00, 3.06720560e+00, 2.80066764e+00, 2.55729167e+00,\n",
       "       2.33506488e+00, 2.13214943e+00, 1.94686720e+00, 1.77768585e+00,\n",
       "       1.62320624e+00, 1.48215079e+00, 1.35335297e+00, 1.23574758e+00,\n",
       "       1.12836201e+00, 1.03030821e+00, 9.40775264e-01, 8.59022677e-01,\n",
       "       7.84374298e-01, 7.16212784e-01, 6.53974455e-01, 5.97144598e-01,\n",
       "       5.45253209e-01, 4.97871135e-01, 4.54606525e-01, 4.15101577e-01,\n",
       "       3.79029579e-01, 3.46092208e-01, 3.16017067e-01, 2.88555434e-01,\n",
       "       2.63480196e-01, 2.40583976e-01, 2.19677419e-01, 2.00587625e-01,\n",
       "       1.83156720e-01, 1.67240546e-01, 1.52707475e-01, 1.39437316e-01,\n",
       "       1.27320324e-01, 1.16256288e-01, 1.06153709e-01, 9.69290354e-02,\n",
       "       8.85059786e-02, 8.08148788e-02, 7.37921299e-02, 6.73796522e-02,\n",
       "       6.15244139e-02, 5.61779911e-02, 5.12961682e-02, 4.68385718e-02,\n",
       "       4.27683370e-02, 3.90518024e-02, 3.56582317e-02, 3.25595596e-02,\n",
       "       2.97301596e-02, 2.71466323e-02, 2.47876114e-02, 2.26335875e-02,\n",
       "       2.06667466e-02, 1.88708226e-02, 1.72309631e-02, 1.57336061e-02,\n",
       "       1.43663682e-02, 1.31179422e-02, 1.19780034e-02, 1.09371244e-02,\n",
       "       9.98669694e-03, 9.11886089e-03, 8.32643910e-03, 7.60287813e-03,\n",
       "       6.94219403e-03, 6.33892285e-03, 5.78807545e-03, 5.28509626e-03,\n",
       "       4.82582557e-03, 4.40646515e-03, 4.02354682e-03, 3.67390379e-03,\n",
       "       3.35464447e-03, 3.06312852e-03, 2.79694508e-03, 2.55389277e-03,\n",
       "       2.33196151e-03, 2.12931590e-03, 1.94428003e-03, 1.77532364e-03,\n",
       "       1.62104941e-03, 1.48018150e-03, 1.35155489e-03, 1.23410584e-03])"
      ]
     },
     "execution_count": 12,
     "metadata": {},
     "output_type": "execute_result"
    }
   ],
   "source": [
    "fittedS1Arr = fittedData[\"[S1]\"]\n",
    "fittedS1Arr"
   ]
  },
  {
   "cell_type": "code",
   "execution_count": 13,
   "metadata": {
    "colab": {
     "base_uri": "https://localhost:8080/"
    },
    "executionInfo": {
     "elapsed": 116,
     "status": "ok",
     "timestamp": 1626812657694,
     "user": {
      "displayName": "Joseph Hellerstein",
      "photoUrl": "https://lh3.googleusercontent.com/a-/AOh14Ggr-yAwbfqFCOlFTHoKepUYJ9VjZuCGILW-YdHvUQ=s64",
      "userId": "07301174361489660166"
     },
     "user_tz": 420
    },
    "id": "_e5DzCmekNmH",
    "outputId": "9c8deab2-c074-4b20-d698-671c89f89996"
   },
   "outputs": [
    {
     "data": {
      "text/plain": [
       "array([-1.48321964e+00, -1.67709602e+00, -5.46616022e-02,  2.63468291e-05,\n",
       "       -6.36060102e-01,  1.25292940e+00, -4.06673396e-01,  1.19268825e-01,\n",
       "       -2.67755660e-01, -8.81612326e-01, -7.56680985e-01,  7.22219741e-01,\n",
       "       -2.86040402e-01,  5.42938796e-02,  1.49157014e-01,  3.52683708e-01,\n",
       "       -4.10627922e-02,  3.95594436e-01,  2.66615212e-01,  1.22197671e-01,\n",
       "        2.61159363e-01,  8.53577764e-02, -2.52039064e-02,  1.54387729e-01,\n",
       "       -1.35718270e-01,  2.02427618e-01,  1.33193057e-02,  1.48567905e-01,\n",
       "        6.23620567e-02,  7.23858950e-03,  1.19959087e-02,  4.24964773e-02,\n",
       "       -7.69290328e-02, -1.33420508e-02, -1.31050054e-02, -2.86151896e-02,\n",
       "        7.48863258e-02, -6.35487380e-02,  8.12922208e-03,  4.84786000e-02,\n",
       "        3.68854899e-02,  1.32870090e-02,  1.29437929e-02, -3.83439671e-02,\n",
       "        2.50661018e-02,  2.68198286e-03, -7.74227408e-03, -1.00110312e-02,\n",
       "       -4.96236662e-03, -1.46619369e-02,  5.24163659e-03, -1.27933221e-03,\n",
       "       -5.24970761e-03, -1.44075360e-02,  7.56875326e-03, -1.14463881e-02,\n",
       "       -1.11490506e-02,  5.77065532e-03,  7.59999568e-03,  1.85290841e-03,\n",
       "       -7.55444090e-04, -1.49707113e-03, -1.64463626e-03,  1.87972350e-03,\n",
       "        3.66103595e-03, -2.05808917e-03,  4.22709277e-03,  2.94236016e-03,\n",
       "        1.41421410e-03, -1.41257388e-03,  2.34730123e-03, -2.04364487e-03,\n",
       "        1.02737258e-04, -2.40634767e-03,  2.13804009e-03,  1.38994595e-03,\n",
       "        4.30665665e-04, -7.12503379e-04, -7.79386419e-04,  9.97589027e-06,\n",
       "       -1.16639836e-03,  6.35502867e-05,  4.95273876e-04, -6.39615538e-04,\n",
       "        6.63422006e-04,  5.49100689e-04, -2.60507014e-04,  5.90059661e-04,\n",
       "        1.12100587e-04,  5.78049701e-04,  3.57700823e-04, -2.12499259e-04,\n",
       "       -9.72096162e-05, -2.96954219e-04, -1.55866458e-04,  7.22475389e-05,\n",
       "       -2.66527695e-04, -1.80938683e-04, -8.01503685e-05,  4.60751663e-06])"
      ]
     },
     "execution_count": 13,
     "metadata": {},
     "output_type": "execute_result"
    }
   ],
   "source": [
    "S1Residuals = observedS1Arr - fittedS1Arr\n",
    "S1Residuals"
   ]
  }
 ],
 "metadata": {
  "colab": {
   "collapsed_sections": [
    "DDsRwu1v_ptn"
   ],
   "name": "Parameter-Fitting-Part-1b-Analyzing-fits.ipynb",
   "provenance": [],
   "toc_visible": true
  },
  "kernelspec": {
   "display_name": "Python 3",
   "language": "python",
   "name": "python3"
  },
  "language_info": {
   "codemirror_mode": {
    "name": "ipython",
    "version": 3
   },
   "file_extension": ".py",
   "mimetype": "text/x-python",
   "name": "python",
   "nbconvert_exporter": "python",
   "pygments_lexer": "ipython3",
   "version": "3.6.4"
  },
  "toc-autonumbering": true
 },
 "nbformat": 4,
 "nbformat_minor": 4
}
